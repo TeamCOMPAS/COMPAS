{
 "cells": [
  {
   "cell_type": "markdown",
   "source": [
    "# Python Interface to COMPAS Output"
   ],
   "metadata": {
    "collapsed": false
   }
  },
  {
   "cell_type": "markdown",
   "source": [
    "## h5view\n",
    "h5view can print summary statistics for your COMPAS run"
   ],
   "metadata": {
    "collapsed": false
   }
  },
  {
   "cell_type": "code",
   "execution_count": 5,
   "outputs": [
    {
     "name": "stdout",
     "output_type": "stream",
     "text": [
      "\n",
      "\n",
      "Summary of HDF5 file /Users/avaj0001/Documents/projects/compas_dev/COMPAS/compas/../tests/test_data/COMPAS_Output/COMPAS_Output.h5\n",
      "==================================================================================================================================\n",
      "\n",
      "File size    : 0.0059 GB\n",
      "Last modified: 2022-10-31 17:06:32.566000\n",
      "\n",
      "COMPAS Filename         Columns   Entries   Unique SEEDs\n",
      "---------------------   -------   -------   ------------\n",
      "Run_Details                 432         1\n",
      "BSE_Supernovae               33         5              5\n",
      "BSE_System_Parameters        30         5              5\n",
      "\n",
      "\n"
     ]
    },
    {
     "data": {
      "text/plain": "True"
     },
     "execution_count": 5,
     "metadata": {},
     "output_type": "execute_result"
    }
   ],
   "source": [
    "import os\n",
    "import h5py\n",
    "import compas\n",
    "from compas.h5view import printSummary\n",
    "\n",
    "\n",
    "def get_data_dir():\n",
    "    compas_dir = os.path.dirname(compas.__file__)\n",
    "    data_dir = os.path.join(compas_dir, '../tests/test_data/COMPAS_Output')\n",
    "    return data_dir\n",
    "\n",
    "compas_output_fname = os.path.join(get_data_dir(), \"COMPAS_Output.h5\")\n",
    "compas_h5_file_pointer = h5py.File(compas_output_fname)\n",
    "printSummary(h5name=compas_output_fname, h5file=compas_h5_file_pointer)"
   ],
   "metadata": {
    "collapsed": false
   }
  },
  {
   "cell_type": "markdown",
   "source": [
    "This also has a command line interface:"
   ],
   "metadata": {
    "collapsed": false
   }
  },
  {
   "cell_type": "code",
   "execution_count": 8,
   "outputs": [
    {
     "name": "stdout",
     "output_type": "stream",
     "text": [
      "usage: compas_h5view [-h] [-f FILENAME_FILTER] [-r [RECURSION_DEPTH]] [-S] [-H]\r\n",
      "                     [-C [CONTENTS]] [-s] [-x EXCLUDE_GROUP [EXCLUDE_GROUP ...]]\r\n",
      "                     [-V SEED_LIST [SEED_LIST ...]]\r\n",
      "                     input [input ...]\r\n",
      "\r\n",
      "HDF5 file content viewer.\r\n",
      "\r\n",
      "positional arguments:\r\n",
      "  input\r\n",
      "    input directory and/or file name(s)\r\n",
      "\r\n",
      "optional arguments:\r\n",
      "  -h, --help\r\n",
      "    show this help message and exit\r\n",
      "  -f FILENAME_FILTER, --filter FILENAME_FILTER\r\n",
      "    input filename filter (default = *)\r\n",
      "  -r [RECURSION_DEPTH], --recursive [RECURSION_DEPTH]\r\n",
      "    recursion depth (default is no recursion)\r\n",
      "  -S, --summary\r\n",
      "    display summary output for HDF5 file (default is not to display summary)\r\n",
      "  -H, --headers\r\n",
      "    display file headers for HDF5 file (default is not to display headers)\r\n",
      "  -C [CONTENTS], --contents [CONTENTS]\r\n",
      "    display file contents for HDF5 file: argument is number of entries (+ve from top, -ve\r\n",
      "    from bottom) (default is not to display contents)\r\n",
      "  -s, --stop-on-error\r\n",
      "    stop all copying if an error occurs (default is skip to next file and continue)\r\n",
      "  -x EXCLUDE_GROUP [EXCLUDE_GROUP ...], --exclude EXCLUDE_GROUP [EXCLUDE_GROUP ...]\r\n",
      "    list of input groups to be excluded (default is all groups will be copied)\r\n",
      "  -V SEED_LIST [SEED_LIST ...], --seeds SEED_LIST [SEED_LIST ...]\r\n",
      "    list of seeds to be printed (for content printing) (default is print all seeds)\r\n"
     ]
    }
   ],
   "source": [
    "! compas_h5view --help"
   ],
   "metadata": {
    "collapsed": false
   }
  },
  {
   "cell_type": "markdown",
   "source": [
    "## h5copy\n",
    "h5Copy has some utility functions to copy COMPAS Output"
   ],
   "metadata": {
    "collapsed": false
   }
  },
  {
   "cell_type": "code",
   "execution_count": 10,
   "outputs": [
    {
     "data": {
      "text/plain": "True"
     },
     "execution_count": 10,
     "metadata": {},
     "output_type": "execute_result"
    }
   ],
   "source": [
    "from compas.h5copy import copyHDF5File\n",
    "copy_fname = \"copy_COMPAS_Output.h5\"\n",
    "compas_h5_file_pointer = h5py.File(compas_output_fname)\n",
    "copyHDF5File(path=compas_output_fname, outFile=compas_h5_file_pointer)"
   ],
   "metadata": {
    "collapsed": false
   }
  },
  {
   "cell_type": "markdown",
   "source": [
    "This also has a command line interface"
   ],
   "metadata": {
    "collapsed": false
   }
  },
  {
   "cell_type": "code",
   "execution_count": 11,
   "outputs": [
    {
     "name": "stdout",
     "output_type": "stream",
     "text": [
      "usage: compas_h5copy [-h] [-b BUFFER_SIZE] [-c CHUNK_SIZE] [-e] [-f FILENAME_FILTER]\r\n",
      "                     [-o OUTPUT_FILENAME] [-r [RECURSION_DEPTH]] [-s]\r\n",
      "                     [-x EXCLUDE_GROUP [EXCLUDE_GROUP ...]]\r\n",
      "                     input [input ...]\r\n",
      "\r\n",
      "HDF5 file copier.\r\n",
      "\r\n",
      "positional arguments:\r\n",
      "  input\r\n",
      "    input directory and/or file name(s)\r\n",
      "\r\n",
      "optional arguments:\r\n",
      "  -h, --help\r\n",
      "    show this help message and exit\r\n",
      "  -b BUFFER_SIZE, --buffer-size BUFFER_SIZE\r\n",
      "    IO buffer size (number of HDF5 chunks, default = 10)\r\n",
      "  -c CHUNK_SIZE, --chunk-size CHUNK_SIZE\r\n",
      "    HDF5 output file dataset chunk size (default = 100000)\r\n",
      "  -e, --erase-output\r\n",
      "    erase existing output file before copying input files (default = False)\r\n",
      "  -f FILENAME_FILTER, --filter FILENAME_FILTER\r\n",
      "    input filename filter (default = *)\r\n",
      "  -o OUTPUT_FILENAME, --output OUTPUT_FILENAME\r\n",
      "    output file name (default = h5out.h5)\r\n",
      "  -r [RECURSION_DEPTH], --recursive [RECURSION_DEPTH]\r\n",
      "    recursion depth (default is no recursion)\r\n",
      "  -s, --stop-on-error\r\n",
      "    stop all copying if an error occurs (default is skip to next file and continue)\r\n",
      "  -x EXCLUDE_GROUP [EXCLUDE_GROUP ...], --exclude EXCLUDE_GROUP [EXCLUDE_GROUP ...]\r\n",
      "    list of input groups to be excluded (default is all groups will be copied)\r\n"
     ]
    }
   ],
   "source": [
    "! compas_h5copy --help"
   ],
   "metadata": {
    "collapsed": false
   }
  }
 ],
 "metadata": {
  "kernelspec": {
   "display_name": "Python 3",
   "language": "python",
   "name": "python3"
  },
  "language_info": {
   "codemirror_mode": {
    "name": "ipython",
    "version": 2
   },
   "file_extension": ".py",
   "mimetype": "text/x-python",
   "name": "python",
   "nbconvert_exporter": "python",
   "pygments_lexer": "ipython2",
   "version": "2.7.6"
  }
 },
 "nbformat": 4,
 "nbformat_minor": 0
}
