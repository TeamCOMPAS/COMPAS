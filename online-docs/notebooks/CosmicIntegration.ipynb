{
 "cells": [
  {
   "cell_type": "markdown",
   "metadata": {},
   "source": [
    "# Introduction\n",
    "\n",
    "This section covers data processing related to Cosmic Integration (see [Neijssel et al. 2020](https://arxiv.org/abs/1906.08136)). These notes merely show how to call the functions and how to construct the pipeline. It does not offer any derivations.\n",
    "\n",
    "For these notes we assume that you have a sufficiently large COMPAS h5-data set with non-constant (preferably, randomly-sampled) metallicity and some number of double compact objects. If not, see Section 1 [Working With HDF5](./WorkingWithHDF5.py), or download some data from our [Zenodo database](https://zenodo.org/communities/compas/?page=1&size=20), though note that some of the Zenodo data may be out of date (you may have to rename some parameter names to get this file to run).\n",
    "\n",
    "The duration from the birth of the binary until the merger as a double compact object (DCO) can range from a few million years (lifetime of the stars) to more than 100 Gigayears depending on the evolution of the system.\n",
    "\n",
    "This means two things\n",
    "\n",
    "1. DCOs merge at different redshifts\n",
    "2. Multiple DCOs merging at a specific redshift could have formed at different times.\n",
    "    \n",
    "We thus need to know the star formation that went into forming a single system. However, the star formation rate is non-constant over the lifetime of the universe. Furthermore, star formation is heavily dependent on the metallicity of the star forming gas, which also changes over the lifetime of the universe. Combined, we call this the metallicity-specific star formation rate (MSSFR).\n",
    "\n",
    "The cosmic-intergation pipeline tries to predict the population of DCO mergers assuming a model for the MSSFR.\n",
    "Here we show how to use the combination of scripts. We show the purpose of each separate script in the pipeline and how to combine them to derive our results. \n",
    "\n",
    "Note that although these pipelines are tailored for a COMPAS simulation, with some slight adjustments one could use these same pipelines for other (mock)-simulations provided all the information is given (see [Setting the Data](#1.-Setting-the-Data). \n",
    "\n",
    "If you make use of any these pipelines, we would appreciate if you cite the following papers:\n",
    "\n",
    "Cosmic Integration https://arxiv.org/abs/1906.08136\n",
    "\n",
    "Selection effects https://arxiv.org/pdf/1711.06287"
   ]
  },
  {
   "cell_type": "markdown",
   "metadata": {},
   "source": [
    "## Material\n",
    "        \n",
    "\n",
    "### [1) Setting the Data ](#1.-Setting-the-Data)\n",
    "Set the required columns and other information.\n",
    "\n",
    "### [2) Setting the MSSFR ](#2.-Setting-the-MSSFR) \n",
    "Choose a model and plot it.\n",
    "\n",
    "### [3) Setting the Selection Effects ](#3.-Setting-the-Selection-Effects)\n",
    "Choose the sensitivity and calculate probability.\n",
    "\n",
    "### [4) Rate at single redshift ](#4.-Rate-at-single-redshift)\n",
    "Combine data, MSSFR, and selection effects.\n",
    "\n",
    "### [5) Rate as function of redshift ](#5.-Rate-as-function-of-redshift)\n",
    "Set the integral and combine results.\n",
    "\n",
    "### [6) Fast Cosmic Integration ](#6.-Fast-Cosmic-Integration)\n",
    "Do the whole routine in one go, using the phenomenological variation of the MSSFR and SFRD"
   ]
  },
  {
   "cell_type": "code",
   "execution_count": null,
   "metadata": {},
   "outputs": [],
   "source": []
  },
  {
   "cell_type": "markdown",
   "metadata": {
    "lines_to_next_cell": 2
   },
   "source": [
    "## For the following sections, you will need to have the following python packages installed. \n",
    "## `numpy, h5py, pandas, matplotlib, astropy, scipy`"
   ]
  },
  {
   "cell_type": "code",
   "execution_count": 1,
   "metadata": {},
   "outputs": [],
   "source": [
    "import os, sys\n",
    "import numpy as np\n",
    "import matplotlib\n",
    "import matplotlib.pyplot as plt\n",
    "import matplotlib.patches as mpatches\n",
    "import matplotlib.gridspec as gridspec\n",
    "from matplotlib import rc\n",
    "import astropy.units as u\n",
    "from   astropy.cosmology import WMAP9 as cosmology\n",
    "from scipy import stats\n",
    "from   scipy.optimize import newton\n",
    "import warnings\n",
    "\n",
    "# Import COMPAS root directory and set data\n",
    "compasRootDir   = os.environ['COMPAS_ROOT_DIR'] \n",
    "imageDir        = compasRootDir + '/postProcessing/Tutorial/media/'\n",
    "pathData        = 'COMPAS_CI_Output.h5'\n",
    "\n",
    "# Import COMPAS specific scripts\n",
    "sys.path.append(compasRootDir + '/postProcessing/PythonScripts/CosmicIntegration/')\n",
    "import ClassCOMPAS, ClassMSSFR, ClassCosmicIntegrator \n",
    "import FastCosmicIntegration as FCI \n",
    "import selection_effects\n",
    "\n",
    "# Magic function to set the backend of matplotlib to the 'inline' backend\n",
    "%matplotlib inline"
   ]
  },
  {
   "cell_type": "markdown",
   "metadata": {},
   "source": [
    "# 1. Setting the Data \n",
    "\n",
    "In order to calculate the formation rate of a type of double compact object at a given redshift, we need to know:\n",
    "\n",
    "The grid of metallicities we assume for the integral\n",
    "\n",
    "The amount of solar mass evolved per metallicity per system $\\frac{d}{dMsun}(Z)$\n",
    "\n",
    "The type of double compact object (DCO) we are interested in \n",
    "\n",
    "The metallicity  $Z$ at which each DCO formed and the delay time (time from formation till merger) $t_c$ for each DCO\n",
    "\n",
    "\n",
    "Given a time at which it merges we can then calculate the time at which it formed to recover the MSSFR ($\\frac{dMsun}{dt})$ \n",
    "\n",
    "\n",
    "In addition we need to know the component masses of the system in order to calculate any selection effects\n",
    "\n",
    "\n",
    "The ClassCOMPAS.py is there to store the information that we need such that we can access it quickly when calculating the rates."
   ]
  },
  {
   "cell_type": "markdown",
   "metadata": {},
   "source": [
    "## Creating an instance of the COMPAS data class"
   ]
  },
  {
   "cell_type": "markdown",
   "metadata": {},
   "source": [
    "To create an instance of the COMPAS output class, we need to specify the following attributes:\n",
    "\n",
    "    path      = None\n",
    "    \n",
    "    lazyData  = True\n",
    "\n",
    "    Mlower    = None\n",
    "    Mupper    = None\n",
    "    binaryFraction=None"
   ]
  },
  {
   "cell_type": "markdown",
   "metadata": {},
   "source": [
    "Path: \n",
    "    \n",
    "    path to the h5-data. \n",
    "    \n",
    "\n",
    "lazyData:\n",
    "\n",
    "    means we store additional info like the mass ratios, chirpmasses of \n",
    "    each DCO system. In principle this could be done externally but this\n",
    "    is slightly easier when plotting/combingin info later on, \n",
    "    but it does use more memory\n",
    "    \n",
    "    \n",
    "Mlower:\n",
    "\n",
    "    lower limit used for M1 in the user-defined options of the simulation. \n",
    "    Needed to recover `true` amount of Msun evolved (see step 4)\n",
    "    \n",
    "Mupper:\n",
    "\n",
    "    upper limit used for M1 in the user-defined options of the simulation. \n",
    "    Needed to recover `true` amount of Msun evolved (see step 4)\n",
    "\n",
    "binaryFraction:\n",
    "\n",
    "\n",
    "    assumed fraction of stars in binaries. \n",
    "    Needed to recover `true` amount of Msun evolved (see step 4)\n"
   ]
  },
  {
   "cell_type": "code",
   "execution_count": 2,
   "metadata": {},
   "outputs": [
    {
     "name": "stdout",
     "output_type": "stream",
     "text": [
      "ClassCOMPAS: Remember to self.setCOMPASDCOmask()\n",
      "                    then self.setCOMPASData()\n",
      "          and optionally self.setGridAndMassEvolved() if using a metallicity grid\n"
     ]
    }
   ],
   "source": [
    "# For now, assume all the defaults and just set the path\n",
    "COMPASData = ClassCOMPAS.COMPASData(path=pathData)"
   ]
  },
  {
   "cell_type": "markdown",
   "metadata": {},
   "source": [
    "The output are  reminders which will be explained in next steps"
   ]
  },
  {
   "cell_type": "markdown",
   "metadata": {},
   "source": [
    "## 1.1 Total mass evolved\n",
    "\n",
    "In the COMPAS simulation we often only evolve massive stars.\n",
    "This means that the total mass in our simulation does not represent the total mass evolved\n",
    "in all stars. Here we recover an estimate of what that total mass is using the\n",
    "lower and upper mass for the primary from your python submit and assuming a binary fraction.\n",
    "\n",
    "The code will then check your data and test per metallicity how much mass is evolved.\n",
    "It assumes the metallicities are subject to the same pytonSubmit, but maybe due to sampling had a different number of systems. It also recovers from the data what metallicity grid is used"
   ]
  },
  {
   "cell_type": "code",
   "execution_count": 3,
   "metadata": {},
   "outputs": [],
   "source": [
    "COMPASData.Mlower = 15\n",
    "COMPASData.Mupper = 150\n",
    "COMPASData.binaryFraction =0.7\n",
    "\n",
    "COMPASData.setGridAndMassEvolved()"
   ]
  },
  {
   "cell_type": "markdown",
   "metadata": {},
   "source": [
    "## 1.2 The grid of metallicities we assume for the integral"
   ]
  },
  {
   "cell_type": "markdown",
   "metadata": {},
   "source": [
    "By default the ClassCOMPAS will automatically try to recover the metallicity grid from the data/\n",
    "It assumes that metallicities of all the systems in the h5-data represent the assumed metallicity grid\n",
    "for the calculation. \n",
    "\n",
    "        metallicities =Data['SystemParameters']['Metallicity@ZAMS_1'][()]\n",
    "        self.metallicityGrid     = np.unique(metallicities)"
   ]
  },
  {
   "cell_type": "markdown",
   "metadata": {},
   "source": [
    "In principle you could instead overwrite this with your own metallicity grid. However\n",
    "remember to reassign the metallicities of each DCO and the amount of solar mass evolved per metallicity. However, we leave it at that for now. You can acces the grid by printing"
   ]
  },
  {
   "cell_type": "code",
   "execution_count": 4,
   "metadata": {},
   "outputs": [
    {
     "name": "stdout",
     "output_type": "stream",
     "text": [
      "[0.00100046 0.00100047 0.00100055 ... 0.01997763 0.01998259 0.01999481]\n"
     ]
    }
   ],
   "source": [
    "print(COMPASData.metallicityGrid)"
   ]
  },
  {
   "cell_type": "markdown",
   "metadata": {},
   "source": [
    "## 1.3 The amount of solar mass evolved per system per Z"
   ]
  },
  {
   "cell_type": "markdown",
   "metadata": {},
   "source": [
    "Again by default the ClassCOMPAS will automatically recover the amount of\n",
    "`true`  amount of solar mass evolved per system using the totalMassEvolvedPerZ script and\n",
    "by reading the total mass per system in the simulation. This recovers an amount of solar mass per metallicity of the metallicity grid (units Msun)."
   ]
  },
  {
   "cell_type": "code",
   "execution_count": 5,
   "metadata": {},
   "outputs": [
    {
     "name": "stdout",
     "output_type": "stream",
     "text": [
      "[166.00585875 293.45495955  90.49922945 ... 282.98916491  78.68780696\n",
      "  96.02288132]\n"
     ]
    }
   ],
   "source": [
    "print(COMPASData.totalMassEvolvedPerZ)"
   ]
  },
  {
   "cell_type": "markdown",
   "metadata": {},
   "source": [
    "## 1.4 The select type of DCO to calculate the merger rate for"
   ]
  },
  {
   "cell_type": "markdown",
   "metadata": {},
   "source": [
    "To recover the metallicities delaytimes and other parameters of the DCOs you are interested in we use a boolean mask. The boolean mask, which has the same length as the DCO h5 group, selects the systems we want to include in the calculation. \n",
    "\n",
    "You could set your own mask using any combination you want by\n",
    "\n",
    "    maskDCO = some criteria you like on the h5 data\n",
    "    COMPASData.DCOmask = maskDCO\n",
    "    \n",
    "However, usually we are interested in a specific group of merging DCOs assuming a type of physics. The setCOMPASDCOmask()  allows you to quickly set the mask without doing the slicing yourself and takes the following arguments (default then all options)\n",
    "\n",
    "    argument         = default   / options\n",
    "    types            =  'BBH'    / 'BBH', 'BNS', 'BHNS', 'All' (BBH, BNS, or BHNS)\n",
    "    withinHubbleTime =  True     / True, False \n",
    "    pessimistic      =  True     / True, False\n",
    "    noRLOFafterCEE   =  True     / True, False"
   ]
  },
  {
   "cell_type": "markdown",
   "metadata": {},
   "source": [
    "type: Type of double compact object (DCO) to mask for. Can also take the argument 'All' to mask for BBHs, BNSs, and BHNSs.\n",
    "\n",
    "withinHubbleTime: If True, only use DCOs that merge within a Hubble time.\n",
    "\n",
    "pessimistic: If True, mask out DCOs that have formed through a common-envelope event involving a Hertzsprung-gap donor. \n",
    "\n",
    "noRLOFafterCEE: If True, mask out DCOs that have at some point experienced RLOF immediately after a common-envelope event. "
   ]
  },
  {
   "cell_type": "code",
   "execution_count": 6,
   "metadata": {},
   "outputs": [
    {
     "name": "stdout",
     "output_type": "stream",
     "text": [
      "Number of DCO systems =  22\n"
     ]
    }
   ],
   "source": [
    "COMPASData.setCOMPASDCOmask(types='BBH', pessimistic=True)\n",
    "\n",
    "#Check if we have any system meeting the criteria\n",
    "print('Number of DCO systems = ', np.sum(COMPASData.DCOmask))"
   ]
  },
  {
   "cell_type": "markdown",
   "metadata": {},
   "source": [
    "## 1.5 - Get the metallicities and delay times\n",
    "\n",
    "using the DCO mask defined in step 1.4 the class can now get the parameters of interest\n",
    "for each merging DCO\n"
   ]
  },
  {
   "cell_type": "code",
   "execution_count": 7,
   "metadata": {},
   "outputs": [],
   "source": [
    "COMPASData.setCOMPASData()"
   ]
  },
  {
   "cell_type": "markdown",
   "metadata": {},
   "source": [
    "Now the data is set and you are ready to go"
   ]
  },
  {
   "cell_type": "markdown",
   "metadata": {},
   "source": [
    "### For different Data"
   ]
  },
  {
   "cell_type": "markdown",
   "metadata": {},
   "source": [
    "If you have your own simulation which is different then the COMPAS data, or you want\n",
    "to test a toy model, then you can still use the set of pipelines for the cosmic integration.\n",
    "\n",
    "The only thing you need to do is construct your own arrays.\n",
    "\n",
    "Create an instance of the clasCOMPAS without a path"
   ]
  },
  {
   "cell_type": "code",
   "execution_count": 8,
   "metadata": {},
   "outputs": [
    {
     "name": "stdout",
     "output_type": "stream",
     "text": [
      "Template COMPASData object created with no data path\n",
      "ClassCOMPAS: Remember to self.setCOMPASDCOmask()\n",
      "                    then self.setCOMPASData()\n",
      "          and optionally self.setGridAndMassEvolved() if using a metallicity grid\n"
     ]
    }
   ],
   "source": [
    "MockData = ClassCOMPAS.COMPASData()"
   ]
  },
  {
   "cell_type": "markdown",
   "metadata": {},
   "source": [
    "Then manually set each array for\n",
    "\n",
    "    #grid for integral\n",
    "    MockData.metallicityGrid\n",
    "    MockData.totalMassEvolvedPerZ #same length array as grid\n",
    "    \n",
    "    #Metallicity of each system corresponding to a grid-point\n",
    "    MockData.metallicitySystems\n",
    "    MockData.delayTimes  #Myr\n",
    "    MockData.mass1       #Msun\n",
    "    MockData.mass2       #Msun    \n",
    "    #All four arrays are same length since they correspond to number of systems"
   ]
  },
  {
   "cell_type": "markdown",
   "metadata": {},
   "source": [
    "All other pipelines just read arrays and are independent of the data"
   ]
  },
  {
   "cell_type": "markdown",
   "metadata": {},
   "source": [
    "So you could sample from the IMF for M1 and M2, \n",
    "create a grid in metallicities and uniformly sample from the grid and then sample\n",
    "from a $t^{-1}$ delay time distribution, just note the assumed units :)\n",
    "\n",
    "If you then set the totalMassEvolvedperZ to an array of ones, then you can at least create\n",
    "predictions for the shape of the merger rate distributions. Since this array is only a normalization affecting the absolute rates."
   ]
  },
  {
   "cell_type": "code",
   "execution_count": null,
   "metadata": {},
   "outputs": [],
   "source": []
  },
  {
   "cell_type": "markdown",
   "metadata": {},
   "source": [
    "# 2. Setting the MSSFR\n",
    "\n",
    "\n",
    "The universe evolved over time and as such the star formation rate and the metallicity of the starforming gas change. The ClassMSSFR is a script which determines the amount of star formation that went into forming a system born at redshift z, in a metallicity bin dZ. In shorthand we will use the term metallicity-specific star formation, either indicated with MSSFR or SFRD(Z,z), which is a function of metallicity Z and redshift z. We will both use MSSFR and SFRD(Z,z) throughout this notebook and they are identical (just two different ways of naming the concept). \n",
    "\n",
    "A schematic picture of how the SFRD(Z,z) is constructed is given in Figure 10 of the COMPAS methods paper and added below. \n",
    "\n",
    "![SFRD_cartoon-1.png](media/SFRplot.png)\n",
    "\n",
    "Typically, the SFRD(Z,z) (MSSFR) is created by combining a Star formation rate density (SFRD) with a metallicity distribution function dP/dZ. The latter is typically constructed by combining a galaxy stellar-mass function (GSMF) with a mass-metallicity relationship\n",
    "\n",
    "For this script we assume that the SFR(z) and the metallicity distribution are independent of each other.\n",
    "Hence the SFR is simply a normalization to the PDF of the metallicity distribution. Note that these distributions are averages over all galaxies at a specific redshift z and hence do not apply to specific galaxies.\n",
    "\n",
    "The script allows for several combinations of distributions.\n",
    "To this end we have to define the following steps\n",
    "\n",
    "\n",
    "[2.1 Instantiate the MSSFR class](#2.1-Instantiate-the-MSSFR-class)\n",
    "\n",
    "[2.2 Pick a SFR distribution ](#2.2-Pick-a-SFR-distribution)\n",
    "\n",
    "[2.3 Pick a metallicity distribution ](#2.3-Pick-a-metallicity-distribution)\n",
    "\n",
    "    Note that although this is meant to be used in the cosmic integration pipeline, this class can be independently used to plot distributions or as input for other calculations\n",
    "\n",
    "[2.4 Examples of plotting ](#2.4-Examples-of-plotting)\n",
    "\n",
    "    Figures 11, 13, and 14 from the COMPAS methods paper"
   ]
  },
  {
   "cell_type": "markdown",
   "metadata": {},
   "source": [
    "## 2.1 Instantiate the MSSFR class"
   ]
  },
  {
   "cell_type": "markdown",
   "metadata": {},
   "source": [
    "To create an instance we need to define the following parameters;\n",
    "\n",
    "Here are the possible parameters and their default values\n",
    "\n",
    "    verbose               = False,\n",
    "    \n",
    "    metallicityGrid       = None,\n",
    "    \n",
    "    binInLogSpace         = True,\n",
    "    metallicityLowerLimit = 1E-90, \n",
    "    metallicityUpperLimit = 1.\n",
    "                 \n",
    "    logOH12sun            = 8.69,     \n",
    "    solarMetallicity      = 0.0142, \n",
    "    cosmo                 = None"
   ]
  },
  {
   "cell_type": "markdown",
   "metadata": {},
   "source": [
    "verbose:\n",
    "    \n",
    "    If to print messages of intermediate during the calculation\n",
    "    \n",
    "metallicityGrid:\n",
    "    \n",
    "    The grid assumed in order to create the metallicity bins dZ. By default set to None\n",
    "    and in a pipeline it is automatically passed from the ClassCOMPAS file.\n",
    "    \n",
    "    \n",
    "binInLogSpace:\n",
    "    \n",
    "    To create the bin edges you can either choose the midpoint between Z1 and Z2 or \n",
    "    alternatively you can choose the midpoint between log(Z1) and log(Z2). Since most distributions\n",
    "    work in the logZ space it seemed more appropriate. The difference is not large. Else it hints\n",
    "    of having too few gridpoints in metallicity since the curve changes a lot between Z1 and Z2.\n",
    "    \n",
    "metallicityLowerLimit:\n",
    "\n",
    "    Since we integrate over dZ we need to define a lower limit \n",
    "    of the metallicity mass Fraction Z in our integral.\n",
    "    We set it close to zero, but non-zero to avoid division by zero errors\n",
    "    \n",
    "metallicityUpperLimit:\n",
    "\n",
    "    Since we integrate over dZ we need to define a upper limit \n",
    "    of the metallicity mass Fraction Z in our integral. \n",
    "    Since a fraction cannot go higher than 1 we set it to 1.\n",
    "    \n",
    "logOH12sun:\n",
    "\n",
    "    The assumed solar oxygen abundance (Asplund)\n",
    "    \n",
    "solarMetallicity:\n",
    "\n",
    "    The assumed solar metallicity mass fraction (Asplund)\n",
    "    \n",
    "cosmo:\n",
    "\n",
    "    The assumed universe (omegaM, Omega Lambda etc) to translate between age/distance/time.\n",
    "    If None it is set to WMAP9. In the cosmic integration pipeline the class is automatically is set by the\n",
    "    ClassCosmicIntegrator."
   ]
  },
  {
   "cell_type": "code",
   "execution_count": 9,
   "metadata": {},
   "outputs": [
    {
     "name": "stdout",
     "output_type": "stream",
     "text": [
      "ClassMSSFR: Remember to set self.SFRprescription() + subparts\n",
      "                            self.Zprescription()   +sub-parts\n"
     ]
    }
   ],
   "source": [
    "#We use the defaults and for illustration purposes invent our own grid\n",
    "\n",
    "#Absolute metallicities\n",
    "metallicityGrid = np.logspace(-4, -1.5,100)\n",
    "\n",
    "MSSFR = ClassMSSFR.MSSFR(metallicityGrid=metallicityGrid)"
   ]
  },
  {
   "cell_type": "markdown",
   "metadata": {},
   "source": [
    "## 2.2 Pick a SFR distribution"
   ]
  },
  {
   "cell_type": "code",
   "execution_count": 10,
   "metadata": {},
   "outputs": [
    {
     "name": "stdout",
     "output_type": "stream",
     "text": [
      "\n",
      "        Default instance:\n",
      "        self.SFRprescription       = None \n",
      "\n",
      "        pass string\n",
      "        Current Options  = 'Madau et al. (2014)'\n",
      "                           'Madau et al. (2017)'\n",
      "                           'Strolger et al. (2004)'\n",
      "                           'Neijssel et al. (2019)'\n",
      "                           'Custom SFR'\n",
      "\n",
      "        If you use Custom SFR also set the constants\n",
      "        you want to use\n",
      "\n",
      "        self.customSFR = [a,b,c,d] \n",
      "        \n",
      "        which are used in a Madau et al like formula (see source code)\n",
      "\n",
      "        \n",
      "None\n"
     ]
    }
   ],
   "source": [
    "print(MSSFR.printSFRoptions())"
   ]
  },
  {
   "cell_type": "code",
   "execution_count": 11,
   "metadata": {},
   "outputs": [],
   "source": [
    "# Based on the options above lets pick the one of the paper\n",
    "\n",
    "MSSFR.SFRprescription = 'Neijssel et al. (2019)'"
   ]
  },
  {
   "cell_type": "markdown",
   "metadata": {},
   "source": [
    "## 2.3 Pick a metallicity distribution\n",
    "\n",
    "The metallicity distribution comes in two types of flavours.\n",
    "\n",
    "###  2.3.1 Mass metallicity and galaxy stellar mass function\n",
    "\n",
    "The first combines a densitity distribution of galaxy stellar masses (GSMF) \n",
    "with a mass metallicity relation (MZ) relation in order to create a metallicity density function.\n",
    "In our code instead we translate from metallicity to mass to solve the integral hence we use the inverse\n",
    "ZM functions. The original MZ functions are still in the source code for plotting/testing purposes\n",
    "\n",
    "\n",
    "If you want to use these variations then first set the metallicity prescription to 'MZ_GSMF'\n"
   ]
  },
  {
   "cell_type": "code",
   "execution_count": 12,
   "metadata": {},
   "outputs": [],
   "source": [
    "MSSFR.Zprescription = 'MZ_GSMF'"
   ]
  },
  {
   "cell_type": "markdown",
   "metadata": {},
   "source": [
    "Then pick your favourite GSMF and MZ relation\n",
    "To look at the options. Please note that not all distributions are metallicity dependent\n",
    "and some rely on fits to the results of the original paper and therefore can behave poorly when pushed to extremes such as at high redshifts for example Furlong et al."
   ]
  },
  {
   "cell_type": "code",
   "execution_count": 13,
   "metadata": {},
   "outputs": [
    {
     "name": "stdout",
     "output_type": "stream",
     "text": [
      "\n",
      "        If you use MZ and GSMF relations\n",
      "        i.e. self.Zprescription    = 'MZ_GSMF'\n",
      "\n",
      "        Default instance\n",
      "        self.GSMFprescription      = None\n",
      "        Current Options = Panter et al. (2004) Single, \n",
      "                          Furlong et al. (2015) Single,\n",
      "                          Furlong et al. (2015) Double\n",
      "        \n"
     ]
    }
   ],
   "source": [
    "MSSFR.printGSMFoptions()"
   ]
  },
  {
   "cell_type": "code",
   "execution_count": 14,
   "metadata": {},
   "outputs": [
    {
     "name": "stdout",
     "output_type": "stream",
     "text": [
      "\n",
      "        If you use MZ and GSMF relations\n",
      "        i.e. self.Zprescription    = 'MZ_GSMF'\n",
      "\n",
      "        Default instance\n",
      "        self.ZMprescription        = None\n",
      "        Current Options = Ma et al. (2016),\n",
      "                      Langer et al. (2006)\n",
      "                      Langer et al. +offset (2006)\n",
      "        \n"
     ]
    }
   ],
   "source": [
    "MSSFR.printZMoptions()"
   ]
  },
  {
   "cell_type": "code",
   "execution_count": 15,
   "metadata": {},
   "outputs": [],
   "source": [
    "# Set to our old default model Barrett et al\n",
    "\n",
    "MSSFR.GSMFprescription = 'Panter et al. (2004) Single'\n",
    "MSSFR.ZMprescription   = 'Langer et al. (2006)'"
   ]
  },
  {
   "cell_type": "markdown",
   "metadata": {},
   "source": [
    "### 2.3.2 redshift dependent log-normal distribution\n",
    "\n",
    "Instead of a MZ-relation and GSMF you can use a redshift dependent log-normal distribution (see paper)\n",
    "for more details. \n",
    "\n",
    "To use this method set the metallicity prescription to 'logNormal'"
   ]
  },
  {
   "cell_type": "code",
   "execution_count": 16,
   "metadata": {
    "lines_to_next_cell": 2
   },
   "outputs": [],
   "source": [
    "MSSFR.Zprescription = 'logNormal'"
   ]
  },
  {
   "cell_type": "markdown",
   "metadata": {},
   "source": [
    "Note that although the code should ignore any chose GSMF/ZM relation when using this option (or vice-versa)\n",
    "it is still nicer to set those to None just in case and for clarity :). \n",
    "    "
   ]
  },
  {
   "cell_type": "code",
   "execution_count": 17,
   "metadata": {},
   "outputs": [
    {
     "name": "stdout",
     "output_type": "stream",
     "text": [
      "\n",
      "        If you use Log normal \n",
      "        i.e. self.Zprescription    = 'logNormal'\n",
      "\n",
      "        Default instance\n",
      "        self.logNormalPrescription      = None\n",
      "        Current Options = 'Neijssel Phenomenological'\n",
      "                          'Custom Phenomenological'\n",
      "\n",
      "        If you use Custom Phenomenological remember to \n",
      "        additionally set \n",
      "\n",
      "        self.customLogNormal = [Z0, alpha, sigma]\n",
      "        \n"
     ]
    }
   ],
   "source": [
    "#then pick your favourite option for the logNormal\n",
    "MSSFR.printLogNormaloptions()"
   ]
  },
  {
   "cell_type": "code",
   "execution_count": 18,
   "metadata": {},
   "outputs": [],
   "source": [
    "MSSFR.logNormalPrescription ='Neijssel Phenomenological'\n",
    "\n",
    "del MSSFR"
   ]
  },
  {
   "cell_type": "markdown",
   "metadata": {},
   "source": [
    "## 2.4 Examples of plotting"
   ]
  },
  {
   "cell_type": "markdown",
   "metadata": {},
   "source": [
    "The MSSFR class also has the function to return the fraction of SFR in a metallicity bin.\n",
    "\n",
    "    MSSFR.returnMSSFR(self, metallicity=None, agesBirth=None, redshiftBirth=None)\n",
    "\n",
    "The code is constructed such that it calculates the MSSFR for all systems coming from a specific metallicity given that you know their agesBirth or redshiftBirth (depending on the chosen MSSFR you need one or the other)\n",
    "\n",
    "Note that if we define our own grid of metallicities and time at which we want to know the MSSFR \n",
    "then we can use this same function to visualise our assumed distribution.\n",
    "Of course we can also directly calculate any subfunctions to plot them :)\n"
   ]
  },
  {
   "cell_type": "markdown",
   "metadata": {},
   "source": [
    "lets start from scratch"
   ]
  },
  {
   "cell_type": "code",
   "execution_count": 19,
   "metadata": {
    "lines_to_next_cell": 2
   },
   "outputs": [
    {
     "name": "stdout",
     "output_type": "stream",
     "text": [
      "ClassMSSFR: Remember to set self.SFRprescription() + subparts\n",
      "                            self.Zprescription()   +sub-parts\n"
     ]
    }
   ],
   "source": [
    "metallicityGrid = np.logspace(-4, -1.5,100)\n",
    "\n",
    "MSSFR = ClassMSSFR.MSSFR(metallicityGrid=metallicityGrid)\n",
    "#SFR\n",
    "MSSFR.SFRprescription = 'Neijssel et al. (2019)'\n",
    "\n",
    "#metallicity\n",
    "MSSFR.Zprescription = 'logNormal'\n",
    "MSSFR.logNormalPrescription ='Neijssel Phenomenological'\n"
   ]
  },
  {
   "cell_type": "code",
   "execution_count": 20,
   "metadata": {},
   "outputs": [
    {
     "data": {
      "image/png": "[encoded data removed]",
      "text/plain": [
       "<Figure size 432x288 with 1 Axes>"
      ]
     },
     "metadata": {},
     "output_type": "display_data"
    }
   ],
   "source": [
    "# What is our Z distribution at redshift 2\n",
    "\n",
    "metallicityGrid = np.logspace(-4, -1.5,100)\n",
    "\n",
    "\n",
    "SFRrate = np.zeros(len(metallicityGrid))\n",
    "\n",
    "#our prescriptions do not need agesBirth only \n",
    "#redshift but require dummy value\n",
    "redshift  = np.array([2])\n",
    "agesBirth = redshift\n",
    "\n",
    "for nrZ, Z in enumerate(metallicityGrid):\n",
    "    SFRrate[nrZ] = MSSFR.returnMSSFR( metallicity=Z,\\\n",
    "                   agesBirth=agesBirth, redshiftBirth=redshift)\n",
    "    \n",
    "    \n",
    "bins  = MSSFR.metallicityBinEdges\n",
    "dZ    = np.diff(bins)\n",
    "\n",
    "SFR_dZ = np.divide(SFRrate, dZ)\n",
    "    \n",
    "fig, axes = plt.subplots(1,1)\n",
    "\n",
    "axes.plot(np.log10(metallicityGrid), SFR_dZ)\n",
    "axes.set_title('Total SFR={}  Msun/dGpc3/dyr'.format(np.sum(SFRrate)))\n",
    "axes.set_xlabel('log10(Z)')\n",
    "axes.set_ylabel('SFR  Msun/dyr/dGpc3/dZ')\n",
    "plt.tight_layout()"
   ]
  },
  {
   "cell_type": "code",
   "execution_count": 21,
   "metadata": {
    "lines_to_next_cell": 2
   },
   "outputs": [
    {
     "name": "stderr",
     "output_type": "stream",
     "text": [
      "/home/rwillcox/anaconda3/lib/python3.6/site-packages/ipykernel_launcher.py:4: MatplotlibDeprecationWarning: Support for setting the 'text.latex.preamble' or 'pgf.preamble' rcParam to a list of strings is deprecated since 3.3 and will be removed two minor releases later; set it to a single string instead.\n",
      "  after removing the cwd from sys.path.\n"
     ]
    }
   ],
   "source": [
    "#Set latex environment for plots/labels\n",
    "matplotlib.rc('font', **{'family': 'sans-serif'})\n",
    "matplotlib.rc('text', usetex=True)\n",
    "matplotlib.rcParams['text.latex.preamble'] = [r'\\boldmath']"
   ]
  },
  {
   "cell_type": "markdown",
   "metadata": {},
   "source": [
    "### 2.4.1 Plot the SFR options\n",
    "in the following blocks we will plot the currently implemented star formation rate perscriptions (SFRs). The code and figure is based on Neijssel+2019, and this code will reproduce the figure in the COMPAS method paper. "
   ]
  },
  {
   "cell_type": "code",
   "execution_count": 22,
   "metadata": {},
   "outputs": [
    {
     "name": "stdout",
     "output_type": "stream",
     "text": [
      "\n",
      "        Default instance:\n",
      "        self.SFRprescription       = None \n",
      "\n",
      "        pass string\n",
      "        Current Options  = 'Madau et al. (2014)'\n",
      "                           'Madau et al. (2017)'\n",
      "                           'Strolger et al. (2004)'\n",
      "                           'Neijssel et al. (2019)'\n",
      "                           'Custom SFR'\n",
      "\n",
      "        If you use Custom SFR also set the constants\n",
      "        you want to use\n",
      "\n",
      "        self.customSFR = [a,b,c,d] \n",
      "        \n",
      "        which are used in a Madau et al like formula (see source code)\n",
      "\n",
      "        \n",
      "None\n"
     ]
    }
   ],
   "source": [
    "print(MSSFR.printSFRoptions())"
   ]
  },
  {
   "cell_type": "markdown",
   "metadata": {},
   "source": [
    " we will now plot several of the available star formation rate density (SFRD) prescriptions that are available in COMPAS. This re-creates Figure 11 from the COMPAS methods paper (figure showing the SFRD as a function of redshift for the four default available options in COMPAS) "
   ]
  },
  {
   "cell_type": "code",
   "execution_count": 23,
   "metadata": {},
   "outputs": [
    {
     "data": {
      "image/png": "[encoded data removed]",
      "text/plain": [
       "<Figure size 720x720 with 2 Axes>"
      ]
     },
     "metadata": {},
     "output_type": "display_data"
    }
   ],
   "source": [
    "# fontsize\n",
    "fs = 20\n",
    "\n",
    "clist=['#1f77b4', '#ff7f0e', '#d62728', '#9467bd', '#8c564b', '#e377c2', '#7f7f7f', '#bcbd22', '#17becf']\n",
    "#Plotting the SFR prescriptions\n",
    "redshifts = np.linspace(0,6,100)\n",
    "#strolger works in age not redshift\n",
    "ages      = MSSFR.cosmology.age(redshifts).value\n",
    "\n",
    "models = [ MSSFR.SFR_Neijssel(redshifts), MSSFR.SFR_Madau(redshifts),   \n",
    "           MSSFR.SFR_Strolger(ages), MSSFR.SFR_Madau2(redshifts) ]\n",
    "labels = [ r'Neijsseletal.(2019)', r'Madau$\\&$Dickinson(2014)',\n",
    "           r'Strolgeretal.(2004)', r'Madau$\\&$Fragos(2017)']\n",
    "ls     = [ '-', '-.', ':', '--']\n",
    "\n",
    "fig, axes = plt.subplots(1,1, figsize=(10,10))\n",
    "for ii, model in enumerate(models):\n",
    "    axes.plot(redshifts, model,  c=clist[ii], lw=3., label=labels[ii], linestyle=ls[ii])\n",
    "    #            axes.plot(redshifts,  c=clist[1], lw=3., label=      , linestyle=\n",
    "    #                  axes.plot(redshifts,  c=clist[2], lw=3., label=, linestyle=\n",
    "    #               axes.plot(redshifts,  c=clist[3], lw=3., label=   , linestyle=\n",
    "\n",
    "\n",
    "axes2  = axes.twiny()\n",
    "axes2.plot(redshifts, MSSFR.SFR_Neijssel(redshifts), c=clist[0], lw=3., label='Preferred model')\n",
    "\n",
    "\n",
    "#find nearest redshift to age\n",
    "agelabels = np.array([1,2,3,4,5,6, 9]) #Gyr\n",
    "ageUniverse = MSSFR.cosmology.age(0)\n",
    "redshiftTicks = np.zeros(len(agelabels))\n",
    "for nr, age in enumerate(agelabels):\n",
    "    distance = np.abs(ages-age)\n",
    "    ind      = np.where(distance==np.min(distance))[0][0]\n",
    "    redshiftTicks[nr] =  redshifts[ind]\n",
    "\n",
    "axes2.set_xticks(redshiftTicks)\n",
    "axes2.set_xticklabels(agelabels)\n",
    "\n",
    "# axes layout\n",
    "nameX = r'Redshift $z$'\n",
    "nameY = r'$ {\\rm{d}}^2M_{\\rm{SFR}}/({\\rm{d}}t_{{\\rm{s}}}{\\rm{d}}V_{\\rm{c}}) \\   [10^8\\ {\\rm{M}}_{\\odot}\\  {\\rm{yr}}^{-1}\\ {\\rm{Gpc}}^{-3}]$'\n",
    "axes.legend(loc=8, prop={'size':fs})\n",
    "axes.yaxis.offsetText.set_fontsize(0.1)\n",
    "axes.set_ylim(0, 1.7*10**8)\n",
    "axes.set_xlabel(nameX, fontsize=fs)\n",
    "axes.set_ylabel(nameY, fontsize=fs)\n",
    "axes.tick_params(labelsize=fs)\n",
    "axes.set_xlim(0,6)\n",
    "\n",
    "# second x-axis for age\n",
    "axes2.set_xlabel('Age universe [Gyr]', fontsize=fs)\n",
    "axes2.tick_params(labelsize=fs)\n",
    "axes2.set_xlim(0,6)\n",
    "\n",
    "plt.tight_layout()\n",
    "plt.savefig(imageDir + 'SFRplot.png', dpi=100)"
   ]
  },
  {
   "cell_type": "markdown",
   "metadata": {},
   "source": [
    "### 2.4.2 Plotting the Galaxy stellar mass function GSMF \n",
    "\n",
    "the blocks below show how to plot and use the galaxy stellar mass functions as shown in Figure 13 of the COMPAS methods paper \n",
    "\n",
    "From Neijssel+2019:\n",
    "Stellar mass density functions are given as schechter functions of the form:\n",
    "\n",
    "$$ \\phi(M) dM = \\phi^{*} \\left(\\frac{M}{M_*}\\right)^{\\alpha} e^{\\left(\\frac{-M}{M_*}\\right)} dM $$\n",
    "\n",
    "$\\phi^*$ = overall normalization\n",
    "\n",
    "*M_*$ = determines turnover from power-law to exponential drop of\n",
    "\n",
    "$\\alpha $  = determines slope power low for  $M\\leq M_*$\n",
    "\n",
    "The prescription by Panter et al. 2004 is redshift independent and therefore\n",
    "we just need to implement their notation. Alternatively we use a redshift dependent prescription by Furlong \n",
    "et al. They have both a single schechter function in the same form as above, as well as a double schechter function of the form\n",
    "\n",
    "$$ \\phi(M) dM = \\left[ \\phi_1 \\left(t\\right)^{\\alpha_1} + \n",
    "                       \\phi_2 \\left(t\\right)^{\\alpha_2} \\right] * e^{-\\frac{M}{M_c}} $$\n",
    "                       \n",
    "However they only show the constants and several redshifts. Hence most of this notebook is dedicated\n",
    "to turning this into a parametrized form to be used at any redshift. "
   ]
  },
  {
   "cell_type": "markdown",
   "metadata": {},
   "source": [
    "### 2.4.3 Plotting the tabulated Furlong prescription\n",
    "The plots in the paper such as Furlong et al do NOT plot M vs phi dM\n",
    "instead they plot logM vs phi dlogM\n",
    "\n",
    "so we need to transform the equation a bit\n",
    "\n",
    "\n",
    "$$ y = log_{10}(x) $$\n",
    "$$ \\frac{dy}{dx} = \\frac{1}{x} $$\n",
    "$$ dx = x dy$$\n",
    "\n",
    "since x = M/M* we have a +1 in the alpha term for the schechter dlog10 function"
   ]
  },
  {
   "cell_type": "code",
   "execution_count": 24,
   "metadata": {},
   "outputs": [],
   "source": [
    "def singleSchechterPerLog10(logM, logMc,  phi,  alpha):\n",
    "    M  = 10**logM\n",
    "    Mc = 10**logMc\n",
    "    x  = M/Mc\n",
    "    schechter = phi * ((x)**(alpha+1)) * np.exp(-x)\n",
    "    return schechter\n",
    "\n",
    "\n",
    "def doubleSchechterPerLog10(logM, logMc,  phi1,  a1, phi2, a2):\n",
    "    M  = 10**logM\n",
    "    Mc = 10**logMc\n",
    "    x  = M/Mc\n",
    "    schechter =(phi1 * ((x)**(a1+1))+  phi2 * ((x)**(a2+1))) * np.exp(-x)\n",
    "    return schechter\n",
    "\n",
    "\n",
    "def doubleSchechterPerLog10FurlongPolynomial(logM, z, power):\n",
    "    logMc, phi1, a1, phi2, a2 = polynomialFitDoubleSchechter(z, power)\n",
    "    schechter = ((phi1*(10**((a1+1)*(logM-logMc)))) + (phi2*(10**((a2+1)*(logM-logMc)))))\\\n",
    "               *(np.exp(-pow(10,logM-logMc)))\n",
    "    return schechter\n",
    "\n",
    "\n",
    "def doubleSchechterPerLog10FurlongLineair(logM, z):\n",
    "    logMc, phi1, a1, phi2, a2, ratio = lineairFitDoubleSchechter(z)\n",
    "    schechter = ((phi1*(10**((a1+1)*(logM-logMc)))) + (phi2*(10**((a2+1)*(logM-logMc)))))\\\n",
    "               *(np.exp(-pow(10,logM-logMc)))\n",
    "    return schechter\n",
    "\n",
    "\n",
    "def singleSchechterPerLog10FurlongPolynomial(logM, z, power):\n",
    "    logMc, phi, alpha = polynomialFitSingleSchechter(z, power)\n",
    "    schechter = phi*(10**((alpha+1)*(logM-logMc)))*(np.exp(-pow(10,logM-logMc)))\n",
    "    return schechter\n",
    "\n",
    "\n",
    "def singleSchechterPerLog10FurlongLineair(logM, z):\n",
    "    logMc, phi, alpha = lineairFitSingleSchechter(z)\n",
    "    schechter = phi*(10**((alpha+1)*(logM-logMc)))*(np.exp(-pow(10,logM-logMc)))\n",
    "    return schechter"
   ]
  },
  {
   "cell_type": "code",
   "execution_count": 25,
   "metadata": {},
   "outputs": [],
   "source": [
    "#In Furlong et al they note that a double schechter function\n",
    "#fits the data better at the high galaxy stellar masses (log10M > 11)\n",
    "def lineairFitSingleSchechter(z):\n",
    "\n",
    "    try:\n",
    "        nr = len(z)\n",
    "    except:\n",
    "        z  = np.array([z])\n",
    "        nr = 1\n",
    "        \n",
    "    fitlogMc        = np.array([11.14, 11.11, 11.06, 10.91, 10.78, 10.60])\n",
    "    fitphi1          = np.array([0.84, 0.84, 0.74, 0.45, 0.22, 0.12])*10**(-3)\n",
    "    fita1            = np.array([-1.43, -1.45, -1.48, -1.57, -1.66, -1.74])\n",
    "\n",
    "    \n",
    "    fitredshifts = np.array([0.1, 0.5, 1.0, 2.0, 3.0, 4.0])\n",
    "    \n",
    "    fitvalues = [fitlogMc, fitphi1, fita1]\n",
    "    thresholds = [0.0, 0.5, 1.0, 2.0, 3.0, 10000000]\n",
    "    r          = []\n",
    "    for nrv, values in enumerate(fitvalues):\n",
    "        dz     = np.diff(fitredshifts)\n",
    "        dydz   = np.divide(np.diff(values), dz)\n",
    "        yvalues= np.zeros(nr)\n",
    "        for nrz, redshift in enumerate(thresholds[:-1]):\n",
    "            mask = (z>= thresholds[nrz]) & (z<=thresholds[nrz+1])\n",
    "            if nrz == 0 :\n",
    "                #interpolate from z0.5 down\n",
    "                dz   = 0.5 - z[mask]\n",
    "                interpolatedValue  = values[nrz+1] - np.multiply(dz, dydz[nrz])\n",
    "            else:\n",
    "                #interpolate up\n",
    "                dz   = z[mask] - redshift\n",
    "                interpolatedValue  = values[nrz] + np.multiply(dz, dydz[nrz])\n",
    "            yvalues[mask] =  interpolatedValue\n",
    "        r.append(yvalues)\n",
    "        \n",
    "    r[1][r[1] <0] = 0  #phi1\n",
    "    return r[0], r[1], r[2]\n",
    "\n",
    "def lineairFitDoubleSchechter(z):\n",
    "\n",
    "    try:\n",
    "        nr = len(z)\n",
    "    except:\n",
    "        z  = np.array([z])\n",
    "        nr = 1\n",
    "\n",
    "    \n",
    "    fitredshifts = np.array([0.1, 0.5, 1.0, 2.0, 3.0, 4.0])\n",
    "    fitlogMc     = np.array([10.95, 10.88, 10.74, 10.44, 10.19, 10.00])\n",
    "    fitphi1      = np.array([1.45, 1.61, 1.51, 1.06, 0.63, 0.24])*10**-3\n",
    "    fita1        = np.array([-1.31, -1.24, -0.98, -0.25, 0.23, 0.43])\n",
    "    fitphi2      = np.array([0.0,  0.08,   0.48, 0.8, 0.61, 0.43])*10**-3\n",
    "    fita2        = np.array([-2.22, -1.79, -1.62, -1.58, -1.64, -1.69])\n",
    "    \n",
    "    ratioPhi1Phi2 = np.divide(fitphi2, fitphi1) #Do it in this order because phi2 is zero\n",
    "    \n",
    "    fitvalues  = [fitlogMc, fitphi1, fita1, fitphi2, fita2, ratioPhi1Phi2]\n",
    "    thresholds = [0.0, 0.5, 1.0, 2.0, 3.0, 10000000]\n",
    "    r          = []\n",
    "    for nrv, values in enumerate(fitvalues):\n",
    "        dz     = np.diff(fitredshifts)\n",
    "        dydz   = np.divide(np.diff(values), dz)\n",
    "        yvalues= np.zeros(nr)\n",
    "        for nrz, redshift in enumerate(thresholds[:-1]):\n",
    "            mask = (z>= thresholds[nrz]) & (z<=thresholds[nrz+1])\n",
    "            if nrz == 0 :\n",
    "                #interpolate from z0.5 down\n",
    "                dz   = 0.5 - z[mask]\n",
    "                interpolatedValue  = values[nrz+1] - np.multiply(dz, dydz[nrz])\n",
    "            else:\n",
    "                #interpolate up\n",
    "                dz   = z[mask] - redshift\n",
    "                interpolatedValue  = values[nrz] + np.multiply(dz, dydz[nrz])\n",
    "            yvalues[mask] =  interpolatedValue\n",
    "        r.append(yvalues)\n",
    "        \n",
    "    r[3][r[3]<0]  = 0  #phi2\n",
    "    r[1][r[1] <0] = 0  #phi1\n",
    "    r[4][r[4]<-2] = -2 #a2\n",
    "    return r[0], r[1], r[2], r[3], r[4], r[5]\n",
    "\n",
    "def polynomialFitSingleSchechter(z, power):\n",
    "    try:\n",
    "        nr = len(z)\n",
    "    except:\n",
    "        z  = np.array([z])\n",
    "        nr = 1\n",
    "\n",
    "    fitredshifts = np.array([0.1, 0.5, 1.0,2.0, 3.0, 4.0])\n",
    "    fitlogMc     = np.array([11.14, 11.11, 11.06, 10.91, 10.78, 10.60])\n",
    "    fitphi       = np.array([0.84, 0.84, 0.74, 0.45, 0.22, 0.12])*10**(-3)\n",
    "    fita         = np.array([-1.43, -1.45, -1.48, -1.57, -1.66, -1.74])\n",
    "        \n",
    "    fitvalues    = [fitlogMc, fitphi, fita]\n",
    "    y            = []\n",
    "    \n",
    "    for nrv, values in enumerate(fitvalues):\n",
    "        ysub         = np.zeros(nr)\n",
    "        coefficients = np.polyfit(fitredshifts,values, power)[::-1]\n",
    "        for nrpower, coefficient in enumerate(coefficients):\n",
    "            ysub     = np.add(ysub, coefficient*np.power(z,nrpower))\n",
    "        y.append(ysub) \n",
    "        \n",
    "    return y[0], y[1], y[2]\n",
    "\n",
    "def polynomialFitDoubleSchechter(z, power=5):\n",
    "    try:\n",
    "        nr = len(z)\n",
    "    except:\n",
    "        z  = np.array([z])\n",
    "        nr = 1    \n",
    "        #Constants for double schechter fit\n",
    "    fitredshifts = np.array([0.1, 0.5, 1.0, 2.0, 3.0, 4.0])\n",
    "    fitlogMc2    = np.array([10.95, 10.88, 10.74, 10.44, 10.19, 10.00])\n",
    "    fitphi1      = np.array([1.45, 1.61, 1.51, 1.06, 0.63, 0.24])*10**-3\n",
    "    fita1        = np.array([-1.31, -1.24, -0.98, -0.25, 0.23, 0.43])\n",
    "    fitphi2      = np.array([0.0, 0.08, 0.48, 0.8, 0.61, 0.43])*10**-3\n",
    "    fita2        = np.array([-2.22, -1.79, -1.62, -1.58, -1.64, -1.69])\n",
    "    \n",
    "    fitvalues    = [fitlogMc2, fitphi1, fita1, fitphi2, fita2]\n",
    "    y            = []\n",
    "    \n",
    "    for nrv, values in enumerate(fitvalues):\n",
    "        ysub         = np.zeros(nr)\n",
    "        coefficients = np.polyfit(fitredshifts,values, power)[::-1]\n",
    "        for nrpower, coefficient in enumerate(coefficients):\n",
    "            ysub     = np.add(ysub, coefficient*np.power(z,nrpower))\n",
    "        y.append(ysub)       \n",
    "        \n",
    "    return y[0], y[1], y[2], y[3], y[4]"
   ]
  },
  {
   "cell_type": "markdown",
   "metadata": {},
   "source": [
    "### 2.4.4 The constants from the papers"
   ]
  },
  {
   "cell_type": "code",
   "execution_count": 26,
   "metadata": {},
   "outputs": [],
   "source": [
    "#GSMF from panter et al 2004\n",
    "#https://academic.oup.com/mnras/article/355/3/764/952806\n",
    "#Used in Norman & Langer  2006\n",
    "#http://iopscience.iop.org/article/10.1086/500363/meta\n",
    "#Note that this is redshift independent!\n",
    "logMc = np.log10(7.64*(10**10))\n",
    "phi   = 7.8* (10**(-3)) \n",
    "alpha = -1.16\n",
    "\n",
    "\n",
    "#From Furlong et al https://academic.oup.com/mnras/article-abstract/450/4/4486/1747992\n",
    "#logMc defines the turnover between power law and exponential drop\n",
    "#Reproducing figure A1\n",
    "\n",
    "fitRedshifts   = np.array([0.1, 0.5, 1.0,2.0, 3.0, 4.0])\n",
    "\n",
    "#fit values single schechter\n",
    "logMc_s        = np.array([11.14, 11.11, 11.06, 10.91, 10.78, 10.60])\n",
    "phi_s          = np.array([0.84, 0.84, 0.74, 0.45, 0.22, 0.12])*10**(-3)\n",
    "a_s            = np.array([-1.43, -1.45, -1.48, -1.57, -1.66, -1.74])\n",
    "\n",
    "#fit values double schechter\n",
    "logMc_d     = np.array([10.95, 10.88, 10.74, 10.44, 10.19, 10.00])\n",
    "phi1_d      = np.array([1.45, 1.61, 1.51, 1.06, 0.63, 0.24])*10**-3\n",
    "a1_d        = np.array([-1.31, -1.24, -0.98, -0.25, 0.23, 0.43])\n",
    "phi2_d      = np.array([0.0,  0.08,   0.48, 0.8, 0.61, 0.43])*10**-3\n",
    "a2_d        = np.array([-2.22, -1.79, -1.62, -1.58, -1.64, -1.69])"
   ]
  },
  {
   "cell_type": "code",
   "execution_count": 27,
   "metadata": {},
   "outputs": [
    {
     "data": {
      "image/png": "[encoded data removed]",
      "text/plain": [
       "<Figure size 648x576 with 1 Axes>"
      ]
     },
     "metadata": {},
     "output_type": "display_data"
    }
   ],
   "source": [
    "logM      = np.linspace(6,13,100)\n",
    "redshifts = [0., 1.5, 3.]\n",
    "#color per prescription\n",
    "mycolors = clist\n",
    "#linestyle per redshift\n",
    "linestyles= ['-', '--', ':']\n",
    "alphas = [1,0.6,0.3]\n",
    "\n",
    "\n",
    "fig, axes = plt.subplots(1,1, figsize=(9,8))\n",
    "\n",
    "for nrz, z in enumerate(redshifts):\n",
    "    if nrz == 0:\n",
    "        label1, label2, label3 = '1: Panter et al. (2004) Single',\\\n",
    "        '2: Furlong et al. (2015) Single','3: Furlong et al. (2015) Double'\n",
    "    else:\n",
    "        label1, label2, label3 = None, None, None\n",
    "    Norman   = singleSchechterPerLog10(logM, logMc,  phi,  alpha)\n",
    "    axes.plot(logM, np.log10(Norman), c=mycolors[0], label=label1, lw=3,  linestyle=linestyles[0], alpha=alphas[nrz])\n",
    "    Furlongsingle = singleSchechterPerLog10FurlongLineair(logM, z)\n",
    "    axes.plot(logM, np.log10(Furlongsingle), c=mycolors[2], label=label2, lw=3,  linestyle=linestyles[1], alpha=alphas[nrz])\n",
    "    FurlongDouble = doubleSchechterPerLog10FurlongLineair(logM, z)\n",
    "    axes.plot(logM, np.log10(FurlongDouble), c=mycolors[1], label=label3, lw=3, linestyle=linestyles[2], alpha=alphas[nrz])\n",
    "\n",
    "nameX = r'$\\rm log_{10}(M_{*}/M_{\\odot})$'\n",
    "nameY = r'$\\rm log_{10}( dN / dlog_{10}(M_*/M_{\\odot})Mpc^{3})$'\n",
    "\n",
    "axes.set_ylim(bottom=-5, top=0)\n",
    "axes.set_xlim(left=6, right=13)\n",
    "axes.legend(prop={'size': 18})\n",
    "axes.set_xlabel(nameX, fontsize=fs)\n",
    "axes.set_ylabel(nameY, fontsize=fs)\n",
    "axes.tick_params(labelsize=fs)\n",
    "\n",
    "plt.tight_layout()\n",
    "plt.savefig(imageDir + 'GSMFplot.png')"
   ]
  },
  {
   "cell_type": "markdown",
   "metadata": {},
   "source": [
    "### 2.4.5 Plotting the MZR relations \n",
    "\n",
    "blocks below show how to use and plot the mass-metallicity relations as shown in Figure 14 of the COMPAS methods paper.\n",
    "\n",
    "From Neijssel+2019: we get the relationship between the galaxy stellar mass and the oxygen to hydrogen \n",
    "number density. Using the relation between number density and mass fractino above we translate this to a metallicity.\n",
    "This metallicity is that of the interstellar gas. We assume that the stars that form at redshift z have the same metallicity as that of the interstellar gas\n",
    "\n",
    "\n",
    "Below we plot the different MZ relations from the MSSFR class as found in the respective papers.\n",
    "Given that in the project we want to use the inverse (ZM-relations) we test these too."
   ]
  },
  {
   "cell_type": "code",
   "execution_count": 28,
   "metadata": {
    "lines_to_next_cell": 0
   },
   "outputs": [
    {
     "data": {
      "image/png": "[encoded data removed]",
      "text/plain": [
       "<Figure size 648x540 with 1 Axes>"
      ]
     },
     "metadata": {},
     "output_type": "display_data"
    }
   ],
   "source": [
    "fig, axes = plt.subplots(1,1, figsize=(9,7.5))\n",
    "\n",
    "MZlabels    = ['Langer et al. (2006)', \n",
    "               'Langer et al. + offset (2006)', \n",
    "               'Ma et al. (2015)']\n",
    "MZfunctions = [MSSFR.Langer2005MZ,  None, MSSFR.Ma2015MZ]\n",
    "ZMfunctions = [MSSFR.Langer2005ZM,  MSSFR.Langer2005OffsetZM, MSSFR.Ma2015ZM]\n",
    "\n",
    "MSSFR.logOH12sun            = 8.69    #fraction number density solar\n",
    "MSSFR.solarMetallicity      = 0.0142  #fraction mass in metals solar, based on Asplund\n",
    "logOH12sun  = 8.69\n",
    "logZZsun  = np.linspace(-3, 3, 100)\n",
    "\n",
    "colors     = ['red','green','purple'] \n",
    "linestyles  = ['-', ':'] \n",
    "fs=20\n",
    "lw=3.5\n",
    "\n",
    "for ii, label in enumerate(MZlabels):\n",
    "    \n",
    "    z=0\n",
    "    #translate back to LogM using inverse\n",
    "    logM      = ZMfunctions[ii](10**logZZsun, z)\n",
    "    #I want to plot logOH12 not ZZsun\n",
    "    logOH12   =  MSSFR.LogOH12vsLogZZsun(logZZsun, inValue='logZZsun')\n",
    "    #to prevent overlapping dashed lines\n",
    "    axes.plot(logM, logOH12, c=colors[ii], label=label,\\\n",
    "              linestyle=linestyles[0], lw=lw)\n",
    "\n",
    "    z=2\n",
    "    logM      = ZMfunctions[ii](10**logZZsun, z)\n",
    "    #I want to plot logOH12 not ZZsun\n",
    "    logOH12   =  MSSFR.LogOH12vsLogZZsun(logZZsun, inValue='logZZsun')\n",
    "    #to prevent overlapping dashed lines\n",
    "    axes.plot(logM, logOH12, c=colors[ii],\\\n",
    "              linestyle=linestyles[1], lw=lw, alpha=1)    \n",
    "\n",
    "# Add custom legend lines for linestyle\n",
    "handles, labels = axes.get_legend_handles_labels()\n",
    "handles.extend([mpl.lines.Line2D([0], [0], color='k', label='redshift z=0', linestyle=linestyles[0], lw=lw),\n",
    "                mpl.lines.Line2D([0], [0], color='k', label='redshift z=2', linestyle=linestyles[1], lw=lw)\n",
    "               ])\n",
    "axes.legend(handles=handles, loc=2, prop={'size':18})\n",
    "\n",
    "axes.set_ylim(6.5, 11)\n",
    "axes.set_xlim(6.7,13)\n",
    "\n",
    "nameX = r'$\\rm log_{10}(M_{*}/M_{\\odot})$'\n",
    "nameY = r'$\\rm log_{10}[O/H]+12$'\n",
    "axes.set_xlabel(nameX, fontsize=fs)\n",
    "axes.set_ylabel(nameY, fontsize=fs)\n",
    "axes.tick_params(labelsize=fs)\n",
    "\n",
    "\n",
    "plt.tight_layout()\n",
    "plt.savefig(imageDir + 'MZrelations.png')"
   ]
  },
  {
   "cell_type": "code",
   "execution_count": null,
   "metadata": {
    "lines_to_next_cell": 2
   },
   "outputs": [],
   "source": []
  },
  {
   "cell_type": "markdown",
   "metadata": {},
   "source": [
    "# 3. Setting the Selection Effects\n",
    "\n",
    "\n",
    "The selection effects assign a probability of observing a system.\n",
    "\n",
    "We determine if we can confidently select a system by choosing a signal-to-noise ratio (SNR), for which we often use 8. \n",
    "\n",
    "The SNR depends on the individual component masses, the distance and the orientation of the binary compared to the gravitational wave detector.  \n",
    "\n",
    "By sampling uniformly over the possible orientations of the system\n",
    "we can assign the fraction of the time the system at that distance can be observed. This fraction is the probability.\n",
    "\n",
    "\n",
    "The SNR also depends on the sensitivity of the detector\n",
    "\n",
    "combined we need to pass to the function\n",
    "\n",
    "detection_probability(m1, m2, redshift, distance, snr_threshold,sensitivity='design')\n",
    "\n",
    "If you use this pipeline we would appreciate it if you cite\n",
    "Selection effects   ; https://arxiv.org/pdf/1711.06287\n"
   ]
  },
  {
   "cell_type": "markdown",
   "metadata": {},
   "source": [
    "## Quick example"
   ]
  },
  {
   "cell_type": "code",
   "execution_count": 29,
   "metadata": {
    "lines_to_next_cell": 0
   },
   "outputs": [
    {
     "name": "stdout",
     "output_type": "stream",
     "text": [
      "0.776353\n"
     ]
    }
   ],
   "source": [
    "m1 = 40 #Msun\n",
    "m2 = 40 #Msun\n",
    "redshift = 0.1\n",
    "distance = 463.4  # Mpc quick estimate for illustration purpuses\n",
    "                  # code uses astropy toconvert\n",
    "                  # redshift to luminosity distance\n",
    "snr_threshold = 8\n",
    "sensitivity = 'O1'\n",
    "\n",
    "P = selection_effects.detection_probability(m1, m2, redshift, distance, snr_threshold,sensitivity=sensitivity)\n",
    "print(P)"
   ]
  },
  {
   "cell_type": "code",
   "execution_count": null,
   "metadata": {
    "lines_to_next_cell": 2
   },
   "outputs": [],
   "source": []
  },
  {
   "cell_type": "markdown",
   "metadata": {},
   "source": [
    "# 4. Rate at single redshift\n",
    "\n",
    "Here we show how to calculate the merger rate density of systems\n",
    "merging at a single redshift z. By now we assume you understand the indiviual pipelines of;\n",
    "\n",
    "ClassCOMPAS:\n",
    "\n",
    "    -- (handling the (mock) data needed)\n",
    "    \n",
    "ClassMSSFR:\n",
    "\n",
    "    -- defining the model for metallicity specific SFR\n",
    "    \n",
    "selection_effects:\n",
    "\n",
    "    -- module to calculate probility detecting a system\n",
    "\n",
    "\n",
    "\n",
    "Here we show which additional steps are needed for the calculation.\n",
    "All these steps are done by default in the ClassCosmicIntegrator.\n",
    "We highlight the steps here outside the function for clarity\n",
    "since the ClassCosmicIntegrator merely acts as a giant for loop over multiple redshifts and a way to conveniently store the results"
   ]
  },
  {
   "cell_type": "markdown",
   "metadata": {},
   "source": [
    "## 4.1 Set up data and MSSFR model"
   ]
  },
  {
   "cell_type": "code",
   "execution_count": 30,
   "metadata": {
    "lines_to_next_cell": 2
   },
   "outputs": [
    {
     "name": "stdout",
     "output_type": "stream",
     "text": [
      "ClassCOMPAS: Remember to self.setCOMPASDCOmask()\n",
      "                    then self.setCOMPASData()\n",
      "          and optionally self.setGridAndMassEvolved() if using a metallicity grid\n"
     ]
    }
   ],
   "source": [
    "# Create instance COMPAS data class\n",
    "\n",
    "COMPAS = ClassCOMPAS.COMPASData(path=pathData)"
   ]
  },
  {
   "cell_type": "code",
   "execution_count": 31,
   "metadata": {},
   "outputs": [],
   "source": [
    "#Set the type of DCO of interest and recover their parameters\n",
    "COMPAS.Mlower = 15\n",
    "COMPAS.Mupper = 150\n",
    "COMPAS.binaryFraction =0.7\n",
    "\n",
    "COMPAS.setGridAndMassEvolved()\n",
    "\n",
    "COMPAS.setCOMPASDCOmask() #Pessimistic BBHs\n",
    "COMPAS.setCOMPASData()"
   ]
  },
  {
   "cell_type": "code",
   "execution_count": 32,
   "metadata": {},
   "outputs": [
    {
     "name": "stdout",
     "output_type": "stream",
     "text": [
      "ClassMSSFR: Remember to set self.SFRprescription() + subparts\n",
      "                            self.Zprescription()   +sub-parts\n"
     ]
    }
   ],
   "source": [
    "# The MSSFR model\n",
    "\n",
    "#use the metallicityGrid of the Data\n",
    "metallicityGrid = COMPAS.metallicityGrid\n",
    "\n",
    "#Create instance Class\n",
    "MSSFR = ClassMSSFR.MSSFR(metallicityGrid=metallicityGrid)\n"
   ]
  },
  {
   "cell_type": "code",
   "execution_count": 33,
   "metadata": {},
   "outputs": [],
   "source": [
    "#Set the MSSFR model\n",
    "MSSFR.SFRprescription = 'Neijssel et al. (2019)'\n",
    "MSSFR.Zprescription = 'logNormal'\n",
    "MSSFR.logNormalPrescription ='Neijssel Phenomenological'"
   ]
  },
  {
   "cell_type": "markdown",
   "metadata": {},
   "source": [
    "## 4.2 Define the redshifts\n",
    "\n",
    "The entire calculation depends on defining a redshift\n",
    "at which the DCOs merge. Then using the delaytimes and astropy\n",
    "you need to recover when the systems were born\n",
    "\n",
    "First define our cosmology"
   ]
  },
  {
   "cell_type": "code",
   "execution_count": 35,
   "metadata": {},
   "outputs": [],
   "source": [
    "mergerRedshift = 0.2\n",
    "\n",
    "#Define an age when the first stars formed based on redshift\n",
    "firstSFR = cosmology.age(10).value\n",
    "#single value in units of Gyr\n",
    "ageUniverseAtMergerGyr = cosmology.age(mergerRedshift)\n",
    "#Recover the array delaytimes in Units of Gyr\n",
    "delayTimeGyr = np.divide(COMPAS.delayTimes, 1000)\n",
    "#Calculate the age at which they were born\n",
    "ageBirth   = ageUniverseAtMergerGyr.value - delayTimeGyr\n",
    "#If they are born before first SFR mask them\n",
    "maskUnreal = ageBirth<firstSFR\n",
    "#I set those to minus 1 to label them\n",
    "#This way we can use this as a mask everywhere instead of having\n",
    "#to slice the data in different ways. Useful for larger calculations\n",
    "ageBirth[maskUnreal] = -1\n"
   ]
  },
  {
   "cell_type": "markdown",
   "metadata": {},
   "source": [
    "Note that the above might further reduce the number of DCOs in the data, despite we use the flag merger in a Hubble time. This because that flag assumes redshift is zero. When we change our reference frame to higher redshifts, then the universe is younger and therefore fewer systems will be able to merge in  time\n",
    "\n",
    "We set the unphysical systems to -1. This because later when we loop over redshifts the number of possible systems can vary. However I want to fill in the rates in a predefined 2D array of fixed shape (nr systems, nr of redshift bins). Hence I assume the largest array (size of nr of DCOs) and set the rate to zero in case.  Note that the MSSFR script also depends on the mask of systems being unreal of -1. (see returnMSSFR())\n",
    "\n",
    "To recover the redshift it is a bit tricky. Astropy can quicly\n",
    "calculate the age from redshift, but the inverse is more difficult.\n",
    "In the code we use look up the nearest value in a dense precalculated table.\n",
    "Here we use a older method to calculate (for credits see source code classCosmicintegrator) which is considerably slower. "
   ]
  },
  {
   "cell_type": "code",
   "execution_count": 36,
   "metadata": {
    "lines_to_next_cell": 2
   },
   "outputs": [
    {
     "name": "stdout",
     "output_type": "stream",
     "text": [
      "Number of DCOs: 264\n",
      "Number of merging DCOs: 257\n"
     ]
    }
   ],
   "source": [
    "redshiftsBirth = np.zeros(len(ageBirth))\n",
    "for nr, age in enumerate(ageBirth):\n",
    "    if age != -1:\n",
    "        redshiftsBirth[nr] = newton(lambda x: cosmology.age(x).value-age, 0)\n",
    "        \n",
    "    else:\n",
    "        redshiftsBirth[nr] = -1\n",
    "\n",
    "nDCOs = len(COMPAS.delayTimes)\n",
    "nMerg = np.sum(ageBirth!=-1)\n",
    "print(\"Number of DCOs: {}\\nNumber of merging DCOs: {}\".format(nDCOs, nMerg))"
   ]
  },
  {
   "cell_type": "markdown",
   "metadata": {},
   "source": [
    "## 4.3 Calculate the rate of systems per metallicity\n",
    "\n",
    "The code is structured to do the calculation per subpopulation of DCOs of a single metallicity. Note that if the system was not physically possible (age == -1) then the rate is set to zero."
   ]
  },
  {
   "cell_type": "code",
   "execution_count": 37,
   "metadata": {},
   "outputs": [],
   "source": [
    "#create an array for rate per system merging at redshift z\n",
    "ratePerSystem = np.zeros(len(COMPAS.delayTimes))"
   ]
  },
  {
   "cell_type": "code",
   "execution_count": 38,
   "metadata": {},
   "outputs": [],
   "source": [
    "for nrZ, Z in enumerate(metallicityGrid):\n",
    "    maskZ    = COMPAS.metallicitySystems == Z\n",
    "    #give MSSFR per system which has metallicity Z [Msun/dGpc3/dyr]\n",
    "    mssfr    = MSSFR.returnMSSFR(metallicity=Z,\\\n",
    "                                 agesBirth  =ageBirth[maskZ],\n",
    "                                 redshiftBirth=redshiftsBirth[maskZ])\n",
    "    #Calculate rate using amount of Msun evolved [dN/dGpc3/dyr]\n",
    "    RatesZ   = np.divide(mssfr, COMPAS.totalMassEvolvedPerZ[nrZ])\n",
    "    #Fill the rates in the defined array according to mask\n",
    "    ratePerSystem[maskZ] = RatesZ"
   ]
  },
  {
   "cell_type": "code",
   "execution_count": 39,
   "metadata": {},
   "outputs": [
    {
     "name": "stdout",
     "output_type": "stream",
     "text": [
      "[0.00100002 0.00100003 0.00100003 ... 0.01999811 0.01999971 0.0199998 ]\n"
     ]
    }
   ],
   "source": [
    "print(metallicityGrid)"
   ]
  },
  {
   "cell_type": "code",
   "execution_count": 40,
   "metadata": {},
   "outputs": [
    {
     "name": "stdout",
     "output_type": "stream",
     "text": [
      "[2.33648923e-08 8.62518916e-04 1.86628965e-12 2.25100389e-01\n",
      " 0.00000000e+00 0.00000000e+00 1.33129807e-08 3.85439321e-05\n",
      " 1.73513124e-02 0.00000000e+00 2.46871676e-01 2.56007936e-12\n",
      " 0.00000000e+00 2.88135949e-05 0.00000000e+00 1.47503317e-12\n",
      " 2.90734257e-09 0.00000000e+00 0.00000000e+00 1.45638225e-12\n",
      " 1.85748915e-04 2.62123820e-08 1.77872781e-07 1.83891650e-09\n",
      " 0.00000000e+00 0.00000000e+00 6.99373157e-11 6.53354658e-08\n",
      " 8.54723708e-07 2.51886805e-12 1.48138042e-06 1.22486907e-07\n",
      " 2.45177642e-04 1.59994847e-03 0.00000000e+00 2.82507870e-06\n",
      " 2.38605571e-08 9.46598235e-03 3.23315261e-07 2.64845332e-02\n",
      " 2.76666924e-09 1.46428905e-01 2.26400767e-07 0.00000000e+00\n",
      " 0.00000000e+00 1.45494212e-01 3.34470055e-06 5.94054093e-01\n",
      " 1.05305483e-08 0.00000000e+00 5.80569608e-05 1.12673962e-10\n",
      " 5.34615124e-10 5.75352888e-02 3.18115520e-11 0.00000000e+00\n",
      " 1.62977487e-12 2.11031759e-01 0.00000000e+00 4.39511446e-08\n",
      " 1.09192115e-04 1.00074524e-05 1.38438310e-09 0.00000000e+00\n",
      " 6.59039256e-02 2.39228346e-07 0.00000000e+00 2.66480108e-04\n",
      " 8.05517281e-01 1.71265770e-09 0.00000000e+00 1.74253339e-10\n",
      " 0.00000000e+00 8.23639474e-08 0.00000000e+00 8.66798155e-08\n",
      " 1.11895107e-08 3.70725688e-02 0.00000000e+00 4.69020875e-07\n",
      " 0.00000000e+00 0.00000000e+00 2.20944077e-11 9.57425773e-10\n",
      " 5.44826551e-08 2.74376183e-08 0.00000000e+00 1.43822489e-01\n",
      " 0.00000000e+00 2.98143950e-06 7.10546540e-08 0.00000000e+00\n",
      " 3.68095121e-07 1.33479830e-08 1.21134298e-08 1.66366262e-12\n",
      " 3.96399526e-07 2.87069147e-05 3.40551526e-03 1.92103613e-02\n",
      " 1.35397827e-12 2.06959960e+00 0.00000000e+00 3.00673253e-05\n",
      " 2.46059983e-12 2.37570001e-03 0.00000000e+00 0.00000000e+00\n",
      " 1.15494074e-08 5.01803521e-10 1.20458264e-12 3.38367320e-11\n",
      " 7.54823951e-06 0.00000000e+00 2.78496496e-11 2.43150451e-04\n",
      " 4.85141839e-08 7.89181650e-01 9.56018438e-10 2.36739351e-12\n",
      " 8.89507748e-12 1.11072642e-07 6.51758304e-07 2.59502437e+00\n",
      " 3.16628825e-11 0.00000000e+00 1.09866822e-07 3.31756414e-03\n",
      " 0.00000000e+00 6.03033746e-12 4.66879110e-02 2.54344545e-01\n",
      " 1.85044507e-12 1.12484350e-08 4.14593864e-02 3.26882168e-12\n",
      " 0.00000000e+00 2.55442618e-12 1.28619150e-01 0.00000000e+00\n",
      " 8.36629425e-04 4.19762883e-05 4.19140704e-09 3.06780663e-06\n",
      " 0.00000000e+00 2.22296512e-06 1.72031428e-12 1.85938521e-07\n",
      " 0.00000000e+00 0.00000000e+00 1.02884950e-10 1.39197808e-10\n",
      " 2.49933338e-09 0.00000000e+00 4.43042131e-03 8.27387199e-07\n",
      " 1.64679055e-04 4.62506582e-02 0.00000000e+00 1.44820096e-08\n",
      " 0.00000000e+00 1.52930246e-11 3.11750094e-12 0.00000000e+00\n",
      " 5.24263808e-09 0.00000000e+00 1.44036312e-12 2.04631837e-10\n",
      " 1.06918421e-02 2.00405233e-11 0.00000000e+00 3.27773482e-10\n",
      " 1.37283032e-04 5.74040844e-12 9.22981617e-02 1.11345452e-02\n",
      " 4.79224308e-07 0.00000000e+00 0.00000000e+00 6.82443846e-11\n",
      " 4.31919018e-11 0.00000000e+00 1.53834918e-08 1.66972402e-10\n",
      " 1.18583413e-03 1.15060165e-10 1.79307995e-02 0.00000000e+00\n",
      " 3.09853317e-09 3.28149291e-10 2.24426233e-11 7.24001000e-08\n",
      " 1.53406055e-03 1.31056558e-07 7.59889816e-11 8.09186692e-08\n",
      " 3.54842303e-05 1.32887915e-02 0.00000000e+00 2.78223323e-01\n",
      " 4.26241640e-03 6.11733669e-13 1.09922681e-01 2.77506051e-10\n",
      " 2.47802267e-05 4.22754633e-09 0.00000000e+00 2.73532180e-02\n",
      " 1.80053795e-04 3.03711049e-11 0.00000000e+00 6.95546589e-05\n",
      " 2.77808315e-04 1.94845242e-12 5.97002870e-11 3.92163765e-03\n",
      " 4.53623576e-05 1.32110510e-03 2.66649174e-01 0.00000000e+00\n",
      " 1.30846587e-01 1.80590300e-12 2.28416439e-07 7.60715833e-01\n",
      " 3.78144368e-12 2.45598904e-07 4.70328066e-06 0.00000000e+00\n",
      " 2.04768293e-08 2.67363528e-09 2.60620445e-07 7.09973289e-11\n",
      " 0.00000000e+00 0.00000000e+00 0.00000000e+00 2.02866677e-12\n",
      " 2.07791890e-03 4.36270178e-09 0.00000000e+00 5.82668141e-02\n",
      " 2.05088697e-12 1.42068032e-02 2.48872397e-02 0.00000000e+00\n",
      " 7.88041172e-01 0.00000000e+00 6.27206132e-01 0.00000000e+00\n",
      " 1.16972216e-04 7.42318874e-09 3.49145118e-12 5.00662102e-11\n",
      " 0.00000000e+00 0.00000000e+00 1.06592048e-10 1.36218144e+00\n",
      " 2.98327723e-09 2.24216337e-07 0.00000000e+00 8.07181719e-07\n",
      " 6.02303523e-11 2.44163800e-01 1.30147724e-10 1.83441073e-06]\n"
     ]
    }
   ],
   "source": [
    "print(ratePerSystem)"
   ]
  },
  {
   "cell_type": "code",
   "execution_count": 41,
   "metadata": {},
   "outputs": [
    {
     "name": "stdout",
     "output_type": "stream",
     "text": [
      "13.594027923751622\n"
     ]
    }
   ],
   "source": [
    "print(np.sum(ratePerSystem))"
   ]
  },
  {
   "cell_type": "code",
   "execution_count": 42,
   "metadata": {},
   "outputs": [
    {
     "data": {
      "image/png": "[encoded data removed]",
      "text/plain": [
       "<Figure size 648x576 with 1 Axes>"
      ]
     },
     "metadata": {},
     "output_type": "display_data"
    }
   ],
   "source": [
    "# Using the rates in a histogram\n",
    "\n",
    "chirpMasses = COMPAS.mChirp\n",
    "\n",
    "binsM = np.linspace(0,30,100)\n",
    "dM    = np.diff(binsM)\n",
    "center= (binsM[1:]+binsM[:-1])/2.\n",
    "\n",
    "#remember that the reight is essentially a weight per system\n",
    "\n",
    "y , _     = np.histogram(chirpMasses, bins=binsM, \\\n",
    "                     weights=ratePerSystem)\n",
    "\n",
    "dydMchirp = np.divide(y, dM)\n",
    "\n",
    "fig, axes = plt.subplots(1,1, figsize=(9,8))\n",
    "axes.plot(center, dydMchirp)\n",
    "axes.set_xlabel('chirp mass [Msun]', fontsize=20)\n",
    "axes.set_ylabel('rate [yr-1 Gpc-3]', fontsize=20)\n",
    "axes.set_title('merger rate density at z={}'.format(mergerRedshift), fontsize=20)\n",
    "plt.tight_layout()"
   ]
  },
  {
   "cell_type": "markdown",
   "metadata": {},
   "source": [
    "Now here we only have the chirp mass distribution at a single redshift\n",
    "per unit volume. The next step is to do it over a range of redshifts\n",
    "and get the absolute rates."
   ]
  },
  {
   "cell_type": "code",
   "execution_count": null,
   "metadata": {},
   "outputs": [],
   "source": []
  },
  {
   "cell_type": "markdown",
   "metadata": {
    "lines_to_next_cell": 2
   },
   "source": [
    "# 5. Rate as function of redshift\n",
    "\n",
    "\n",
    "Here we present show how to calculate the merger rate densities and observed probabilities\n",
    "for a population of double compact object mergers using the ClassCosmicIntegrator\n",
    "\n",
    "In reality this class is one major for loop to redo the calculation at a single redshift for different redshifts and a range of metallicities (see earlier notes).\n",
    "\n",
    "It combines all the classes/modules that we presented in the cosmic integration notes\n",
    "In addition it stores the results into several 2D arrays for easy plotting/binning\n",
    "already taking into account selection effects and volumes of the different redshift shells.\n",
    "\n",
    "Here we show:\n",
    "\n",
    "- How to set up the entire pipeline. The code specifically raises warnings/statements\n",
    "    to help to remind you. This is simply a summary of the previous notes in the Cosmic Integration section.\n",
    "\n",
    "\n",
    "- How to calculate the rate and plot the results using the 2D arrays in the ClassCosmicIntegrator\n",
    "\n",
    "- How to loop over variations efficiently to create different distributions"
   ]
  },
  {
   "cell_type": "markdown",
   "metadata": {},
   "source": [
    "## 5.1 Instance of Cosmic integrator class"
   ]
  },
  {
   "cell_type": "markdown",
   "metadata": {},
   "source": [
    "The main thing that needs to be defined in this class is the universe and the\n",
    "number of shells for which we want to calculate the merger rate densities. In addition we also set the GW-detector here\n",
    "\n",
    "To this end, the following variables need to be defined in the instance (showing their default values)\n",
    "\n",
    "    #For Data\n",
    "    pathCOMPAS         = None\n",
    "    \n",
    "    #Defining Universe\n",
    "    Cosmology          = 'WMAP'\n",
    "    hubbleConstant     = 67.8\n",
    "    omegaMatter        = 0.308\n",
    "    redshiftFirstSFR   = 10.\n",
    "    \n",
    "    #Defining integral\n",
    "    minRedshift        = 0.0\n",
    "    maxRedshift        = 2.\n",
    "    nrRedshiftBins     = 20\n",
    "    \n",
    "    #Method for calculating redshift from age\n",
    "    RedshiftTabulated  = True\n",
    "    RedshiftTabulatedResolution = 100000\n",
    "    \n",
    "    #Detector\n",
    "    GWdetector_sensitivity      = 'O1'\n",
    "    GWdetector_snrThreshold     = 8\n",
    "    \n",
    "    #Print steps\n",
    "    verbose   = False"
   ]
  },
  {
   "cell_type": "markdown",
   "metadata": {},
   "source": [
    "pathCOMPAS: \n",
    "    \n",
    "    path to the h5-data. \n",
    "    \n",
    "Cosmology:\n",
    "\n",
    "    Which of the astropy cosmology settings to use. Currently it takes either\n",
    "    'WMAP' or you set it to 'Custom Flat'. If you do the latter you need to \n",
    "    set the hubbleConstant and omegaMatter. In the case of 'WMAP' these are\n",
    "    ignored and a predefined setting is used\n",
    "    \n",
    "hubbleconstant:\n",
    "    \n",
    "    see Cosmology\n",
    "    \n",
    "omegaMatter:\n",
    "    \n",
    "    see Cosmology\n",
    "    \n",
    "redshiftFirstSFR:\n",
    "    \n",
    "    the highest redshift at which we assume the first stars are born.\n",
    "    Any star born at a higher redshift gets a rate of zero.\n",
    "    \n",
    "minRedshift:\n",
    "    \n",
    "    to lowest limit/edge of the redshift bins for the integral\n",
    "    \n",
    "maxRedshift:\n",
    "    \n",
    "    the upper limit/edge of the redshfit bins for the integral\n",
    "    \n",
    "nrRedshiftBins:\n",
    "    \n",
    "    number of bins in which to resolve the integral. \n",
    "\n",
    "RedshiftTabulated:\n",
    "\n",
    "    Boolean. Method to calculate redshift of universe based on age. The functions\n",
    "    are slow and hence looking it up in a predefined table is quicker and still sub-percent \n",
    "    precision. If true we use the table method. If False we use an alternative function,\n",
    "    which might be more precise but it is order of magnitude slower.\n",
    "    \n",
    "RedshiftTabulatedResolution:\n",
    "    \n",
    "    Resolution of table (in from 0- to redshift first SFR) to calculate ages\n",
    "    Hence the default tabulated method has a precision of dz = 1/10000\n",
    "    \n",
    "    \n",
    "GWdetector_sensitivity:\n",
    "\n",
    "    The sensitivity curve assumed to estimate the signal-to-noise of a system\n",
    "    \n",
    "GWdetector_snrThreshold:\n",
    "\n",
    "    The single detecter signal-to-noise limit above which we define a system\n",
    "    to be detectable\n",
    "\n",
    "verbose:\n",
    "\n",
    "    to print some intermediate output/messages during calculation\n"
   ]
  },
  {
   "cell_type": "markdown",
   "metadata": {},
   "source": [
    "## Creating all the instances"
   ]
  },
  {
   "cell_type": "code",
   "execution_count": 43,
   "metadata": {},
   "outputs": [
    {
     "name": "stdout",
     "output_type": "stream",
     "text": [
      "reminders of what to set in the following order:\n",
      "\n",
      "ClassCOMPAS: Remember to self.setCOMPASDCOmask()\n",
      "                    then self.setCOMPASData()\n",
      "          and optionally self.setGridAndMassEvolved() if using a metallicity grid\n",
      "ClassMSSFR: Remember to set self.SFRprescription() + subparts\n",
      "                            self.Zprescription()   +sub-parts\n",
      "                            set self.calculateMetallicityBinEdges()\n",
      "ClassCosmicIntegrator: Remember to setBirthTimesAnd2Darrays()\n",
      "                        to prepare calculation/results\n",
      "                        do you have the GW-detector you want?\n"
     ]
    }
   ],
   "source": [
    "#using the defaults\n",
    "CI = ClassCosmicIntegrator.CosmicIntegrator(pathCOMPAS=pathData)"
   ]
  },
  {
   "cell_type": "markdown",
   "metadata": {},
   "source": [
    "\n",
    "### classCOMPAS"
   ]
  },
  {
   "cell_type": "code",
   "execution_count": 44,
   "metadata": {},
   "outputs": [],
   "source": [
    "#Info python Submit and assumptions to recover Msun evovled\n",
    "CI.COMPAS.Mlower = 5.\n",
    "CI.COMPAS.Mupper = 150.\n",
    "CI.COMPAS.binaryFraction = 0.7\n",
    "CI.COMPAS.setGridAndMassEvolved()\n",
    "# which DCOs I want\n",
    "CI.COMPAS.setCOMPASDCOmask(types='BBH', pessimistic=True) \n",
    "# Get me the data\n",
    "CI.COMPAS.setCOMPASData()"
   ]
  },
  {
   "cell_type": "markdown",
   "metadata": {},
   "source": [
    "### classMSSFR\n"
   ]
  },
  {
   "cell_type": "code",
   "execution_count": 45,
   "metadata": {},
   "outputs": [],
   "source": [
    "# Pick the SFR model\n",
    "CI.MSSFR.SFRprescription = 'Neijssel et al. (2019)'\n",
    "#metallicity\n",
    "CI.MSSFR.Zprescription = 'logNormal'\n",
    "CI.MSSFR.logNormalPrescription ='Neijssel Phenomenological'\n",
    "\n",
    "#Use the grid of the simulation\n",
    "CI.MSSFR.metallicityGrid = CI.COMPAS.metallicityGrid\n",
    "CI.MSSFR.calculateMetallicityBinEdges()\n"
   ]
  },
  {
   "cell_type": "markdown",
   "metadata": {},
   "source": [
    "### classCosmicIntegrator\n"
   ]
  },
  {
   "cell_type": "code",
   "execution_count": 46,
   "metadata": {},
   "outputs": [],
   "source": [
    "#Use the COMPAS data and redshift grid to define 2D arrays and precalculate\n",
    "#values needed for quick integration. This takes a bit. That is why we do it outside\n",
    "#all other functions. Say you want to calculate the rates for three different\n",
    "#SFR models. These values don't change \n",
    "#(they only change when the redshift shells or the data changes)\n",
    "#Hence you do it once.\n",
    "CI.setBirthTimesAnd2Darrays()"
   ]
  },
  {
   "cell_type": "markdown",
   "metadata": {},
   "source": [
    "## 5.2 Calculate and plot"
   ]
  },
  {
   "cell_type": "code",
   "execution_count": 47,
   "metadata": {},
   "outputs": [],
   "source": [
    "# everthing is set so now so calculate :)\n",
    "CI.cosmologicalIntegration()"
   ]
  },
  {
   "cell_type": "markdown",
   "metadata": {},
   "source": [
    "It stores the results in several different 2D arrays, below is directly copied from source code"
   ]
  },
  {
   "cell_type": "raw",
   "metadata": {},
   "source": [
    "        #################################################\n",
    "        #                                               #\n",
    "        #     the eventual results of interest          #\n",
    "        #     if we already have data we can set it     #\n",
    "        #     else we have to manually call tis function#\n",
    "        #################################################\n",
    "        #Calculating birth age is simple subtraction age-merger -delaytime\n",
    "        self.PerSystemPerRedshift_ageBirth       = None\n",
    "        #Cannot do this in redshift so convert table above to a redshift table\n",
    "        self.PerSystemPerRedshift_redshiftBirth  = None\n",
    "        # dN Gpc-3 per year at z=redshift.     #each row is redshift merger\n",
    "        self.PerSystemPerRedshift_ratesIntrinsic = None\n",
    "        # dN per year in detector from shell \n",
    "        self.PerSystemPerRedshift_ratesObserved  = None\n"
   ]
  },
  {
   "cell_type": "markdown",
   "metadata": {},
   "source": [
    "They are 2D arrays where each row is a redshift and each column is a single system"
   ]
  },
  {
   "cell_type": "code",
   "execution_count": 48,
   "metadata": {},
   "outputs": [
    {
     "name": "stdout",
     "output_type": "stream",
     "text": [
      "(20, 22)\n",
      "20\n",
      "22\n"
     ]
    }
   ],
   "source": [
    "print(CI.PerSystemPerRedshift_ratesIntrinsic.shape)\n",
    "print(CI.nrRedshiftBins)\n",
    "print(len(CI.COMPAS.delayTimes))"
   ]
  },
  {
   "cell_type": "markdown",
   "metadata": {},
   "source": [
    "This means that each cell is the rate of a single system at a single redshift.\n",
    "Now you can add rows/columns according to your interest. Examples:"
   ]
  },
  {
   "cell_type": "markdown",
   "metadata": {},
   "source": [
    "## Example rate in shell, rate as function of redshift"
   ]
  },
  {
   "cell_type": "code",
   "execution_count": 49,
   "metadata": {},
   "outputs": [
    {
     "name": "stdout",
     "output_type": "stream",
     "text": [
      "[0.05 0.15 0.25 0.35 0.45 0.55 0.65 0.75 0.85 0.95 1.05 1.15 1.25 1.35\n",
      " 1.45 1.55 1.65 1.75 1.85 1.95]\n"
     ]
    }
   ],
   "source": [
    "#central redshift in the shell \n",
    "redshifts = CI.Shell_centerRedshift\n",
    "print(redshifts)"
   ]
  },
  {
   "cell_type": "code",
   "execution_count": 50,
   "metadata": {},
   "outputs": [
    {
     "name": "stdout",
     "output_type": "stream",
     "text": [
      "1.05\n",
      "104.50058093386188\n"
     ]
    }
   ],
   "source": [
    "#intrinsic merger rate of all systems at redshift of interest\n",
    "# say I want to know it in the 10th shell which is centered around\n",
    "#central redshift in the shell \n",
    "print(CI.Shell_centerRedshift[10])\n",
    "TotalIntrinsicRateAtSHell = np.sum(CI.PerSystemPerRedshift_ratesIntrinsic[10])\n",
    "print(TotalIntrinsicRateAtSHell)"
   ]
  },
  {
   "cell_type": "code",
   "execution_count": 51,
   "metadata": {},
   "outputs": [
    {
     "data": {
      "text/plain": [
       "Text(0, 0.5, 'rate Intrinsic [dN/dGpc3/dYr]')"
      ]
     },
     "execution_count": 51,
     "metadata": {},
     "output_type": "execute_result"
    },
    {
     "data": {
      "image/png": "[encoded data removed]",
      "text/plain": [
       "<Figure size 432x288 with 1 Axes>"
      ]
     },
     "metadata": {},
     "output_type": "display_data"
    }
   ],
   "source": [
    "# Plot the intrinsic rate in shell\n",
    "z         = CI.Shell_centerRedshift\n",
    "#Now use numpy to just collapse all values\n",
    "rate      = np.sum(CI.PerSystemPerRedshift_ratesIntrinsic, axis=1)\n",
    "\n",
    "fig, axes = plt.subplots(1,1)\n",
    "axes.plot(z, rate)\n",
    "axes.set_xlabel('redshift')\n",
    "axes.set_ylabel('rate Intrinsic [dN/dGpc3/dYr]')"
   ]
  },
  {
   "cell_type": "markdown",
   "metadata": {},
   "source": [
    "## Example mask rate by mass and get observed rate\n",
    "\n",
    "The columns in the 2D array relate to the individual systems. They are ordered the same\n",
    "as the systems in the classCOMPAS. Hence we can use the parameters in the classCOMPAS\n",
    "to create a mask for our result!!! (hence the lazy data :) )\n",
    "\n",
    "Now a detector looks at all redshift simultaneously so lets sum the rate of each system from every shell in the detector frame. I.e. collapse to array of length number systems"
   ]
  },
  {
   "cell_type": "code",
   "execution_count": 52,
   "metadata": {},
   "outputs": [
    {
     "name": "stdout",
     "output_type": "stream",
     "text": [
      "22\n"
     ]
    }
   ],
   "source": [
    "ratePerSystemObserved = np.sum(CI.PerSystemPerRedshift_ratesObserved, axis=0)\n",
    "print(len(ratePerSystemObserved))"
   ]
  },
  {
   "cell_type": "code",
   "execution_count": 53,
   "metadata": {},
   "outputs": [
    {
     "data": {
      "image/png": "[encoded data removed]",
      "text/plain": [
       "<Figure size 432x288 with 1 Axes>"
      ]
     },
     "metadata": {},
     "output_type": "display_data"
    }
   ],
   "source": [
    "# plot chirp mass distribution\n",
    "\n",
    "chirpMass  = CI.COMPAS.mChirp\n",
    "#for every chirpmass I know the rate at which you observe\n",
    "ratePerSystemObserved = np.sum(CI.PerSystemPerRedshift_ratesObserved, axis=0)\n",
    "\n",
    "#I only want systems with chirp masses below 10 Msun (for some reason)\n",
    "mask      = chirpMass < 10\n",
    "\n",
    "\n",
    "binsMchirp = np.linspace(0,15,20)\n",
    "dMchirp    = np.diff(binsMchirp)\n",
    "center     = (binsMchirp[1:]+binsMchirp[:-1])/2.\n",
    "\n",
    "yvalues, _ = np.histogram(chirpMass[mask], bins=binsMchirp, \\\n",
    "                          weights=ratePerSystemObserved[mask])\n",
    "\n",
    "dydMchirp  = np.divide(yvalues, dMchirp)\n",
    "\n",
    "fig, axes = plt.subplots(1,1)\n",
    "axes.plot(center, dydMchirp)\n",
    "axes.set_xlabel('Mchirp Msun')\n",
    "axes.set_ylabel('rate detect dN/dyr/dMchirp')\n",
    "plt.show()"
   ]
  },
  {
   "cell_type": "markdown",
   "metadata": {},
   "source": [
    "## 5.3 - Loop over the cosmic Integrator\n",
    "\n",
    "Once the class is set you could quickly change prescription or DCO\n",
    "type and recalculate without having to redo the entire instance.\n",
    "This especially saves time in terms of reading/setting the COMPASdata\n",
    "and preparing the 2D arrays in the classCosmicIntegrator. The exception being \n",
    "if you loop over the data or change the redshift shells. We provide an example in both cases"
   ]
  },
  {
   "cell_type": "code",
   "execution_count": 54,
   "metadata": {},
   "outputs": [
    {
     "name": "stdout",
     "output_type": "stream",
     "text": [
      "Total predicted rate for O1 for SFR=21.0 mergers per year\n",
      "Total predicted rate for O1 for SFR=17.0 mergers per year\n",
      "Total predicted rate for O1 for SFR=31.0 mergers per year\n",
      "Total predicted rate for O1 for SFR=18.0 mergers per year\n"
     ]
    }
   ],
   "source": [
    "# loop over prescriptions using the already defined class\n",
    "\n",
    "#data and redshift shells remain unchanged\n",
    "SFRprescriptions = ['Madau et al. (2014)',\\\n",
    "                    'Madau et al. (2017)',\\\n",
    "                    'Strolger et al. (2004)',\\\n",
    "                    'Neijssel et al. (2019)']\n",
    "\n",
    "for SFRprescription in SFRprescriptions:\n",
    "    #change SFR\n",
    "    CI.MSSFR.SFRprescription = SFRprescription\n",
    "    #calculate the result\n",
    "    CI.cosmologicalIntegration()\n",
    "    #print the total observed rate\n",
    "    observedRate = np.round(np.sum(CI.PerSystemPerRedshift_ratesObserved))\n",
    "    print('Total predicted rate for {} for SFR={} mergers per year'.format(CI.GWdetector_sensitivity, observedRate))"
   ]
  },
  {
   "cell_type": "code",
   "execution_count": 55,
   "metadata": {},
   "outputs": [
    {
     "name": "stdout",
     "output_type": "stream",
     "text": [
      "------total predicted rate for BBH = 18.0 mergers per year\n",
      "------total predicted rate for BHNS = 0.0 mergers per year\n",
      "------total predicted rate for BNS = 0.0 mergers per year\n"
     ]
    }
   ],
   "source": [
    "# loop over prescriptions using the already defined class\n",
    "\n",
    "#careful the SFR is still the one of the previous cell!\n",
    "\n",
    "#loop over DCO types changing the Data \n",
    "#This takes longer\n",
    "\n",
    "types = ['BBH', 'BHNS', 'BNS']\n",
    "\n",
    "for t in types:\n",
    "    \n",
    "    # which DCOs I want\n",
    "    CI.COMPAS.setCOMPASDCOmask(types=t, pessimistic=True) \n",
    "    # Get me the data\n",
    "    CI.COMPAS.setCOMPASData()\n",
    "    \n",
    "    #the number of systems and their delay times have changed \n",
    "    #reset arrays results. Note that this goes considerably faster\n",
    "    #then the first time we do this, because we dont recalculate\n",
    "    #the redshift table if it is already done :) :) :)\n",
    "    CI.setBirthTimesAnd2Darrays()\n",
    "    \n",
    "    #calculate\n",
    "    CI.cosmologicalIntegration()\n",
    "\n",
    "    #print the total observed rate\n",
    "    observedRate = np.round(np.sum(CI.PerSystemPerRedshift_ratesObserved))\n",
    "    print('------total predicted rate for {} = {} mergers per year'.format(t, observedRate))"
   ]
  },
  {
   "cell_type": "markdown",
   "metadata": {},
   "source": [
    "Note that this means that if you want to loop over \n",
    "both DCO types and SFR prescriptions, it is more time-efficient\n",
    "to loop over types first and then SFR prescriptions.\n",
    "\n",
    "With this you should be all set. Good luck!\n",
    "For more info on how to create plots using this pipeline see\n",
    "the plotting library in the postProcessing notes :)\n",
    "    \n",
    "    "
   ]
  },
  {
   "cell_type": "code",
   "execution_count": null,
   "metadata": {},
   "outputs": [],
   "source": []
  },
  {
   "cell_type": "markdown",
   "metadata": {
    "lines_to_next_cell": 2
   },
   "source": [
    "# 6. Fast Cosmic Integration\n",
    "\n",
    "This last section is meant to introduce the \"FastCosmicIntegration.py\"\n",
    "\n",
    "This script works in a very similar way as the other cosmic integrators, but it is optimised to be run from the terminal, and thus can be used to easily run on HPC and as part of grid runs. \n",
    "\n",
    "For now this only includes one variation of dP/dZ, namely a skewed log-normal distribution for which the default values result in the log-normal distribution from Neijssel et al. 2019.\n",
    "\n",
    "Following Neijssel et al. 2019, the SFR(z) for this function follows the functional form from Madau & Dickinson 2014, but allows the user to manually adjust the parameters of this function"
   ]
  },
  {
   "cell_type": "markdown",
   "metadata": {},
   "source": [
    "## 6.1 The magic happens in find_detection_rate()\n",
    "\n",
    "The most important function in FasCosmicIntegration.py is find_detection_rate\n",
    "We will spend most of this notebook breaking down this function.\n",
    "\n",
    "\n",
    "When you run FasCosmicIntegration.py from your terminal, it is run with a lot of default parameters. \n",
    "These parameters can be changed from your terminal run. \n",
    "\n",
    "E.g. if you would like to know the rate for BHNS in stead of for BBHs (which is default) you would run\n",
    "\n",
    " ``` python  FasCosmicIntegration.py --dco_type 'BHNS' ```"
   ]
  },
  {
   "cell_type": "code",
   "execution_count": 64,
   "metadata": {},
   "outputs": [],
   "source": [
    "# First define the parameters\n",
    "\n",
    "# For what DCO would you like the rate?  options: ALL, BHBH, BHNS NSNS\n",
    "dco_type        = \"BBH\"\n",
    "weight_column   = None\n",
    "                        \n",
    "merges_hubble_time     = True\n",
    "pessimistic_CEE        = True\n",
    "no_RLOF_after_CEE      = True\n",
    "\n",
    "# Options for the redshift evolution \n",
    "max_redshift           = 10.0\n",
    "max_redshift_detection = 2.0\n",
    "redshift_step          = 0.001\n",
    "z_first_SF             = 10\n",
    "\n",
    "# Metallicity of the Universe\n",
    "min_logZ               = -12.0 \n",
    "max_logZ               = 0.0 \n",
    "step_logZ              = 0.01\n",
    "\n",
    "#and detector sensitivity\n",
    "sensitivity            = \"O1\" \n",
    "snr_threshold          = 8 \n",
    "\n",
    "Mc_max                 = 300.0 \n",
    "Mc_step                = 0.1 \n",
    "eta_max                = 0.25 \n",
    "eta_step               = 0.01\n",
    "snr_max                = 1000.0 \n",
    "snr_step               = 0.1\n",
    "\n",
    "# Parameters to calculate the representing SF mass (make sure these match YOUR simulation!)\n",
    "m1_min          = 15 * u.Msun \n",
    "m1_max          = 150 * u.Msun\n",
    "m2_min          = 0.1 * u.Msun\n",
    "fbin            = 0.7\n",
    "\n",
    "# Parameters determining dP/dZ and SFR(z), default options from Neijssel 2019\n",
    "aSF             = 0.01 \n",
    "bSF             = 2.77 \n",
    "cSF             = 2.90 \n",
    "dSF             = 4.70\n",
    "#\n",
    "mu0             = 0.035 \n",
    "muz             = -0.23 \n",
    "sigma0          = 0.39\n",
    "sigmaz          = 0. \n",
    "alpha           = 0.0 "
   ]
  },
  {
   "cell_type": "markdown",
   "metadata": {},
   "source": [
    "## 6.2 You can do all the heavy lifting at once by running find_detection_rate()!\n"
   ]
  },
  {
   "cell_type": "code",
   "execution_count": 65,
   "metadata": {
    "scrolled": true
   },
   "outputs": [
    {
     "name": "stderr",
     "output_type": "stream",
     "text": [
      "/home/rwillcox/anaconda3/lib/python3.6/site-packages/ipykernel_launcher.py:14: UserWarning: Maximum chirp mass used for detectability calculation is below maximum binary chirp mass * (1+maximum redshift for detectability calculation)\n",
      "  \n"
     ]
    },
    {
     "name": "stdout",
     "output_type": "stream",
     "text": [
      "Average_SF_mass_needed =  4374671.845744508 solMass\n"
     ]
    }
   ],
   "source": [
    "detection_rate, formation_rate, merger_rate, redshifts, COMPAS = FCI.find_detection_rate(\n",
    "    pathData, dco_type=dco_type, weight_column=weight_column,\n",
    "    merges_hubble_time=merges_hubble_time, pessimistic_CEE=pessimistic_CEE,\n",
    "    no_RLOF_after_CEE=no_RLOF_after_CEE, max_redshift=max_redshift,\n",
    "    max_redshift_detection=max_redshift_detection,\n",
    "    redshift_step=redshift_step, z_first_SF=z_first_SF,\n",
    "    m1_min=m1_min, m1_max=m1_max, m2_min=m2_min,\n",
    "    fbin=fbin, aSF=aSF, bSF=bSF, cSF=cSF, dSF=dSF,\n",
    "    mu0=mu0, muz=muz, sigma0=sigma0, alpha=alpha,\n",
    "    min_logZ=min_logZ, max_logZ=max_logZ, step_logZ=step_logZ,\n",
    "    sensitivity=sensitivity, snr_threshold=snr_threshold,\n",
    "    Mc_max=Mc_max, Mc_step=Mc_step,\n",
    "    eta_max=eta_max, eta_step=eta_step,\n",
    "    snr_max=snr_max, snr_step=snr_step)"
   ]
  },
  {
   "cell_type": "code",
   "execution_count": 66,
   "metadata": {},
   "outputs": [
    {
     "name": "stdout",
     "output_type": "stream",
     "text": [
      "[[7.64603393e-11 5.39063172e-10 1.47063179e-09 ... 0.00000000e+00\n",
      "  0.00000000e+00 0.00000000e+00]\n",
      " [4.04416661e-18 2.85907162e-17 7.82471386e-17 ... 0.00000000e+00\n",
      "  0.00000000e+00 0.00000000e+00]\n",
      " [5.82262234e-11 4.10534126e-10 1.11994869e-09 ... 0.00000000e+00\n",
      "  0.00000000e+00 0.00000000e+00]\n",
      " ...\n",
      " [2.91162267e-19 2.05982530e-18 5.64303730e-18 ... 0.00000000e+00\n",
      "  0.00000000e+00 0.00000000e+00]\n",
      " [7.24730592e-16 5.12385454e-15 1.40267803e-14 ... 0.00000000e+00\n",
      "  0.00000000e+00 0.00000000e+00]\n",
      " [4.12113777e-15 2.91000971e-14 7.95643098e-14 ... 0.00000000e+00\n",
      "  0.00000000e+00 0.00000000e+00]]\n"
     ]
    }
   ],
   "source": [
    "print(detection_rate)"
   ]
  },
  {
   "cell_type": "code",
   "execution_count": null,
   "metadata": {},
   "outputs": [],
   "source": []
  },
  {
   "cell_type": "markdown",
   "metadata": {},
   "source": [
    "## 6.3 In the rest of this section, we break this function down piece by piece, to actually understand what is going on :) \n",
    "\n",
    "### The function starts by checking the values you have supplied"
   ]
  },
  {
   "cell_type": "code",
   "execution_count": 67,
   "metadata": {
    "lines_to_end_of_cell_marker": 2
   },
   "outputs": [],
   "source": [
    "# assert that input will not produce errors\n",
    "assert max_redshift_detection <= max_redshift, \"Maximum detection redshift cannot be below maximum redshift\"\n",
    "assert m1_min <= m1_max, \"Minimum sampled primary mass cannot be above maximum sampled primary mass\"\n",
    "assert np.logical_and(fbin >= 0.0, fbin <= 1.0), \"Binary fraction must be between 0 and 1\"\n",
    "assert Mc_step < Mc_max, \"Chirp mass step size must be less than maximum chirp mass\"\n",
    "assert eta_step < eta_max, \"Symmetric mass ratio step size must be less than maximum symmetric mass ratio\"\n",
    "assert snr_step < snr_max, \"SNR step size must be less than maximum SNR\"\n",
    "\n",
    "nonnegative_args = [(max_redshift, \"max_redshift\"), (max_redshift_detection, \"max_redshift_detection\"), (m1_min.value, \"m1_min\"), (m1_max.value, \"m1_max\"),\n",
    "                    (m2_min.value, \"m2_min\"), (mu0, \"mu0\"), (sigma0, \"sigma0\"),  \n",
    "                    (step_logZ, \"step_logZ\"), (snr_threshold, \"snr_threshold\"), (Mc_max, \"Mc_max\"),\n",
    "                    (Mc_step, \"Mc_step\"), (eta_max, \"eta_max\"), (eta_step, \"eta_step\"), (snr_max, \"snr_max\"), (snr_step, \"snr_step\")]\n",
    "\n",
    "\n",
    "for arg, arg_str in nonnegative_args:\n",
    "    assert arg >= 0.0, \"{} must be nonnegative\".format(arg_str)\n",
    "\n",
    "# warn if input is not advisable\n",
    "if redshift_step > max_redshift_detection:\n",
    "    warnings.warn(\"Redshift step is greater than maximum detection redshift\", stacklevel=2)\n",
    "if Mc_step > 1.0:\n",
    "    warnings.warn(\"Chirp mass step is greater than 1.0, large step sizes can produce unpredictable results\", stacklevel=2)\n",
    "if eta_step > 0.1:\n",
    "    warnings.warn(\"Symmetric mass ratio step is greater than 0.1, large step sizes can produce unpredictable results\", stacklevel=2)\n",
    "if snr_step > 1.0:\n",
    "    warnings.warn(\"SNR step is greater than 1.0, large step sizes can produce unpredictable results\", stacklevel=2)"
   ]
  },
  {
   "cell_type": "markdown",
   "metadata": {},
   "source": [
    "### Use functions in ClassCOMPAS to read your data"
   ]
  },
  {
   "cell_type": "code",
   "execution_count": 68,
   "metadata": {
    "lines_to_next_cell": 2
   },
   "outputs": [],
   "source": [
    "# start by getting the necessary data from the COMPAS file\n",
    "COMPAS = ClassCOMPAS.COMPASData(path, Mlower=m1_min, Mupper=m1_max, m2_min=m2_min, binaryFraction=fbin, suppress_reminder=True)\n",
    "COMPAS.setCOMPASDCOmask(types=dco_type, withinHubbleTime=merges_hubble_time, pessimistic=pessimistic_CEE, noRLOFafterCEE=no_RLOF_after_CEE)\n",
    "COMPAS.setCOMPASData()\n",
    "COMPAS.set_sw_weights(weight_column)\n",
    "COMPAS.find_star_forming_mass_per_binary_sampling()"
   ]
  },
  {
   "cell_type": "code",
   "execution_count": 69,
   "metadata": {
    "lines_to_end_of_cell_marker": 2
   },
   "outputs": [
    {
     "name": "stdout",
     "output_type": "stream",
     "text": [
      "DCO mask [False False False False False False  True False False  True False False\n",
      "  True False False  True  True False False False False False False False\n",
      "  True  True False False False False  True False False False False False\n",
      " False False False  True False False False False False  True False False\n",
      "  True  True False False False False False False False False False False\n",
      " False False False False False False False False  True False False  True\n",
      " False False False False  True False False False False False False  True\n",
      " False False False False False  True False False False False False False\n",
      "  True False False False False  True  True False False False False False\n",
      " False False False  True False False False False False  True]\n",
      "Primary masses [ 5.63550854 12.08242516  5.35595725  5.34120182  7.03922024  4.27870001\n",
      "  8.2347584  12.87204315  8.55863967  6.37365538  9.22746379  9.69759326\n",
      " 17.8253725   7.78862374 34.68904002  8.80203812 12.44144697  8.1897972\n",
      "  4.75199955 13.65478651 11.85220105  4.15849772], \n",
      "Secondary masses [14.58659671  3.09457501 14.16147322 12.04036504  5.73143075  9.56676177\n",
      "  9.99165093  8.04461955 14.84181422 14.89366337  8.21249065 17.55447847\n",
      "  7.42068143 13.1247365  16.6396735  11.16571453  5.62915404  4.72901018\n",
      " 15.38774216  3.78322606 11.05583773  9.63282553]\n"
     ]
    }
   ],
   "source": [
    "# COMPAS now contains the data from your hdf5 file:\n",
    "print('DCO mask', COMPAS.DCOmask)\n",
    "\n",
    "print('Primary masses {}, \\nSecondary masses {}'.format(COMPAS.mass1, COMPAS.mass2))\n",
    "\n",
    "# Hint, you can see all the options in COMPAS by typing COMPAS. and hitting tab to use tab-complete :)"
   ]
  },
  {
   "cell_type": "markdown",
   "metadata": {},
   "source": [
    "### Compute some more useful values"
   ]
  },
  {
   "cell_type": "code",
   "execution_count": 70,
   "metadata": {
    "lines_to_next_cell": 2
   },
   "outputs": [
    {
     "name": "stderr",
     "output_type": "stream",
     "text": [
      "/home/rwillcox/anaconda3/lib/python3.6/site-packages/IPython/core/interactiveshell.py:2963: UserWarning: Maximum chirp mass used for detectability calculation is below maximum binary chirp mass * (1+maximum redshift for detectability calculation)\n",
      "  exec(code_obj, self.user_global_ns, self.user_ns)\n"
     ]
    }
   ],
   "source": [
    "# compute the chirp masses and symmetric mass ratios only for systems of interest\n",
    "chirp_masses = (COMPAS.mass1*COMPAS.mass2)**(3/5) / (COMPAS.mass1 + COMPAS.mass2)**(1/5)\n",
    "etas = COMPAS.mass1 * COMPAS.mass2 / (COMPAS.mass1 + COMPAS.mass2)**2\n",
    "n_binaries = len(chirp_masses)\n",
    "# another warning on poor input\n",
    "if max(chirp_masses)*(1+max_redshift_detection) < Mc_max:\n",
    "    warnings.warn(\"Maximum chirp mass used for detectability calculation is below maximum binary chirp mass * (1+maximum redshift for detectability calculation)\", stacklevel=2)"
   ]
  },
  {
   "cell_type": "markdown",
   "metadata": {},
   "source": [
    "## 6.4 Now compute the redshift parameters that you will use for the cosmic integration\n",
    "mostly a list of redsifts and their corresponding cosmological times"
   ]
  },
  {
   "cell_type": "code",
   "execution_count": 71,
   "metadata": {
    "lines_to_next_cell": 2
   },
   "outputs": [],
   "source": [
    "# calculate the redshifts array and its equivalents\n",
    "redshifts, n_redshifts_detection, times, time_first_SF, distances, shell_volumes = FCI.calculate_redshift_related_params(max_redshift, max_redshift_detection, redshift_step, z_first_SF)"
   ]
  },
  {
   "cell_type": "code",
   "execution_count": 72,
   "metadata": {},
   "outputs": [
    {
     "name": "stdout",
     "output_type": "stream",
     "text": [
      "redshifts [0.000e+00 1.000e-03 2.000e-03 ... 9.998e+00 9.999e+00 1.000e+01] \n",
      "time_first_SF 479.17426242709416 \n",
      "shell_volumes [3.38606187e-07 2.36849517e-06 6.42346553e-06 ... 2.60500798e-01\n",
      " 2.60477182e-01 2.60477182e-01]\n"
     ]
    }
   ],
   "source": [
    "print('redshifts', redshifts, '\\ntime_first_SF', time_first_SF, '\\nshell_volumes', shell_volumes)"
   ]
  },
  {
   "cell_type": "markdown",
   "metadata": {},
   "source": [
    "### compute the SFR(z)\n",
    "Following the functional form of Madau & Dickinson (defined by the parameters a,b,c,d), we compute the amount of stellar mass formed at each of the redshifts we supplied\n",
    "\n",
    "### And convert this to the number of stars that we needed to form\n",
    "By dividing the ```SFR(z) [Msun/Gpc^-3]``` by the star forming mass needed to get your simulation ```(COMPAS.mass_evolved_per_binary.value * COMPAS.n_systems)```, we basically rescale our simulation to represent the number of stars formed at each redshift.\n",
    "\n"
   ]
  },
  {
   "cell_type": "code",
   "execution_count": 74,
   "metadata": {
    "lines_to_next_cell": 2
   },
   "outputs": [],
   "source": [
    "# find the star forming mass per year per Gpc^3 and convert to total number formed per year per Gpc^3\n",
    "sfr = FCI.find_sfr(redshifts, a = aSF, b = bSF, c = cSF, d = dSF) # functional form from Madau & Dickinson 2014\n",
    "n_formed = sfr / (COMPAS.mass_evolved_per_binary.value * COMPAS.n_systems) # Divide the star formation rate density by the representative SF mass"
   ]
  },
  {
   "cell_type": "code",
   "execution_count": 75,
   "metadata": {
    "lines_to_next_cell": 2
   },
   "outputs": [
    {
     "name": "stdout",
     "output_type": "stream",
     "text": [
      "sfr [ 9933346.18967071  9960573.30040086  9987846.27805871 ...\n",
      " 14544878.34395179 14542338.04652796 14539798.41863244] [$\\mathrm{M_{\\odot} yr^{-1} Gpc^{-3}}$]\n",
      "Star forming mass needed to get your simulation: 4337229.5201205695 [$\\mathrm{M_{\\odot}$]\n",
      "Number formation rate [2.29025145 2.29652898 2.30281709 ... 3.35349519 3.3529095  3.35232395] [$\\mathrm{yr^{-1} Gpc^{-3}}$]\n"
     ]
    }
   ],
   "source": [
    "print('sfr', sfr, '[$\\mathrm{M_{\\odot} yr^{-1} Gpc^{-3}}$]')\n",
    "print('Star forming mass needed to get your simulation:', (COMPAS.mass_evolved_per_binary.value * COMPAS.n_systems), '[$\\mathrm{M_{\\odot}$]')\n",
    "print('Number formation rate', n_formed, '[$\\mathrm{yr^{-1} Gpc^{-3}}$]')"
   ]
  },
  {
   "cell_type": "markdown",
   "metadata": {},
   "source": [
    "## 6.5 Get your metallicity density distribution (dP/dZ) at each redshift\n",
    "\n",
    "This assumes a skewed-log-normal distribution for metallicities at each redshift. The shape of this distribution is controlled by the parameters:\n",
    "```mu0, muz, sigma_0, sigma_z, alpha```, which you can set from the terminal flags "
   ]
  },
  {
   "cell_type": "code",
   "execution_count": 77,
   "metadata": {},
   "outputs": [],
   "source": [
    "# work out the metallicity distribution at each redshift and probability of drawing each metallicity in COMPAS\n",
    "dPdlogZ, metallicities, p_draw_metallicity = FCI.find_metallicity_distribution(redshifts, min_logZ_COMPAS = np.log(np.min(COMPAS.initialZ)),\n",
    "                                                                            max_logZ_COMPAS = np.log(np.max(COMPAS.initialZ)),\n",
    "                                                                            mu0=mu0, muz=muz, sigma_0=sigma0, sigma_z=sigmaz, alpha = alpha,\n",
    "                                                                            min_logZ=min_logZ, max_logZ=max_logZ, step_logZ = step_logZ)"
   ]
  },
  {
   "cell_type": "code",
   "execution_count": 78,
   "metadata": {
    "lines_to_next_cell": 2
   },
   "outputs": [
    {
     "name": "stdout",
     "output_type": "stream",
     "text": [
      "dPdlogZ=[[1.31120093e-105 2.30288171e-105 4.04192716e-105 ... 2.65386300e-017\n",
      "  2.12037807e-017 1.69302189e-017]\n",
      " [1.35092244e-105 2.37256260e-105 4.16408331e-105 ... 2.62255108e-017\n",
      "  2.09528758e-017 1.67293007e-017]\n",
      " [1.39184472e-105 2.44434739e-105 4.28992338e-105 ... 2.59160382e-017\n",
      "  2.07049016e-017 1.65307364e-017]\n",
      " ...\n",
      " [4.80614495e-016 5.95954614e-016 7.38488907e-016 ... 7.36383549e-109\n",
      "  4.15386923e-109 2.34161790e-109]\n",
      " [4.86128746e-016 6.02771213e-016 7.46909823e-016 ... 7.14402232e-109\n",
      "  4.02973440e-109 2.27156156e-109]\n",
      " [4.91705357e-016 6.09664656e-016 7.55425369e-016 ... 6.93075787e-109\n",
      "  3.90930203e-109 2.20359710e-109]], \n",
      "Metallicities=[6.14421235e-06 6.20596271e-06 6.26833368e-06 ... 9.80198673e-01\n",
      " 9.90049834e-01 1.00000000e+00], \n",
      "p_draw_metallicity = 0.3338888029392769)\n",
      "(10001, 1201)\n"
     ]
    }
   ],
   "source": [
    "print('dPdlogZ={}, \\nMetallicities={}, \\np_draw_metallicity = {})'.format(dPdlogZ, metallicities, p_draw_metallicity))\n",
    "# shape dPdlogZ is \n",
    "print(np.shape(dPdlogZ))"
   ]
  },
  {
   "cell_type": "markdown",
   "metadata": {},
   "source": [
    "### Do the actual integration\n",
    "We are now going to place our DCO systems at each of the chosen redshifts, and check if they have enough time to merge. Together with it's metallicity, the SFR(z) and dP/dZ and the representative star forming mass (n_formed) we can calculate a merger rate!\n"
   ]
  },
  {
   "cell_type": "code",
   "execution_count": 80,
   "metadata": {
    "lines_to_next_cell": 2
   },
   "outputs": [],
   "source": [
    "# calculate the formation and merger rates using what we computed above\n",
    "formation_rate, merger_rate = FCI.find_formation_and_merger_rates(n_binaries, redshifts, times, time_first_SF, n_formed, dPdlogZ,\n",
    "                                                                metallicities, p_draw_metallicity, COMPAS.metallicitySystems,\n",
    "                                                                COMPAS.delayTimes, COMPAS.sw_weights)"
   ]
  },
  {
   "cell_type": "markdown",
   "metadata": {},
   "source": [
    "### Calculate detection probability\n",
    "\n",
    "Gravitational wave detectors are not perfect. And since heavy objects make louder gravitational waves, we will see them from farther away. With this function we will compute the probability of detecting each system, which will give us a 'detection_rate'"
   ]
  },
  {
   "cell_type": "code",
   "execution_count": 82,
   "metadata": {},
   "outputs": [],
   "source": [
    "# create lookup tables for the SNR at 1Mpc as a function of the masses and the probability of detection as a function of SNR\n",
    "snr_grid_at_1Mpc, detection_probability_from_snr = FCI.compute_snr_and_detection_grids(sensitivity, snr_threshold, Mc_max, Mc_step,\n",
    "                                                                                eta_max, eta_step, snr_max, snr_step)\n",
    "\n",
    "# use lookup tables to find the probability of detecting each binary at each redshift\n",
    "detection_probability = FCI.find_detection_probability(chirp_masses, etas, redshifts, distances, n_redshifts_detection, n_binaries,\n",
    "                                                    snr_grid_at_1Mpc, detection_probability_from_snr, Mc_step, eta_step, snr_step)\n",
    "\n",
    "# finally, compute the detection rate using Neijssel+19 Eq. 2\n",
    "detection_rate = np.zeros(shape=(n_binaries, n_redshifts_detection))\n",
    "detection_rate = merger_rate[:, :n_redshifts_detection] * detection_probability \\\n",
    "                * shell_volumes[:n_redshifts_detection] / (1 + redshifts[:n_redshifts_detection])"
   ]
  },
  {
   "cell_type": "markdown",
   "metadata": {},
   "source": [
    "### You are done! :D \n",
    "\n",
    "The next step in ```FastCosmicItegration.py``` will append your newly calculated rates to the COMPAS_output.hdf5 file. This happens in ```append_rates()```. Because appending rates could lead to a data heavy file, it might be useful to only append your rates binned by redshit. For this purpose you can set ```append_binned_by_z = True``` in  ```append_rates()```\n"
   ]
  },
  {
   "cell_type": "markdown",
   "metadata": {},
   "source": [
    "## 6.6 Now let's go plot your results!\n",
    "\n",
    "The function ```CI.plot_rates()``` will do the same as what we are going to do in the cells below. "
   ]
  },
  {
   "cell_type": "code",
   "execution_count": 83,
   "metadata": {
    "lines_to_next_cell": 2
   },
   "outputs": [],
   "source": [
    "chirp_masses = (COMPAS.mass1*COMPAS.mass2)**(3./5.) / (COMPAS.mass1 + COMPAS.mass2)**(1./5.)\n",
    "\n",
    "# sum things up across binaries\n",
    "total_formation_rate = np.sum(formation_rate, axis=0)\n",
    "total_merger_rate = np.sum(merger_rate, axis=0)\n",
    "total_detection_rate = np.sum(detection_rate, axis=0)\n",
    "\n",
    "# and across redshifts\n",
    "cumulative_detection_rate = np.cumsum(total_detection_rate)\n",
    "detection_rate_by_binary = np.sum(detection_rate, axis=1)"
   ]
  },
  {
   "cell_type": "code",
   "execution_count": 84,
   "metadata": {},
   "outputs": [
    {
     "data": {
      "image/png": "[encoded data removed]",
      "text/plain": [
       "<Figure size 1440x1440 with 4 Axes>"
      ]
     },
     "metadata": {},
     "output_type": "display_data"
    }
   ],
   "source": [
    "###########################\n",
    "#Start plotting\n",
    "\n",
    "# set some constants for the plots\n",
    "plt.rc('font', family='serif')\n",
    "fs = 20\n",
    "lw = 3\n",
    "\n",
    "fig, axes = plt.subplots(2, 2, figsize=(20, 20))\n",
    "\n",
    "axes[0,0].plot(redshifts, total_formation_rate, lw=lw)\n",
    "axes[0,0].set_xlabel('Redshift', fontsize=fs)\n",
    "axes[0,0].set_ylabel(r'Formation rate $[\\rm \\frac{\\mathrm{d}N}{\\mathrm{d}Gpc^3 \\mathrm{d}yr}]$', fontsize=fs)\n",
    "\n",
    "axes[0,1].plot(redshifts, total_merger_rate, lw=lw)\n",
    "axes[0,1].set_xlabel('Redshift', fontsize=fs)\n",
    "axes[0,1].set_ylabel(r'Merger rate $[\\rm \\frac{\\mathrm{d}N}{\\mathrm{d}Gpc^3 \\mathrm{d}yr}]$', fontsize=fs)\n",
    "\n",
    "axes[1,0].plot(redshifts[:len(cumulative_detection_rate)], cumulative_detection_rate, lw=lw)\n",
    "axes[1,0].set_xlabel('Redshift', fontsize=fs)\n",
    "axes[1,0].set_ylabel(r'Cumulative detection rate $[\\rm \\frac{\\mathrm{d}N}{\\mathrm{d}yr}]$', fontsize=fs)\n",
    "\n",
    "axes[1,1].hist(chirp_masses, weights=detection_rate_by_binary, bins=25, range=(0, 50))\n",
    "axes[1,1].set_xlabel(r'Chirp mass, $\\mathcal{M}_c$', fontsize=fs)\n",
    "axes[1,1].set_ylabel(r'Mass distrbution of detections $[\\rm \\frac{\\mathrm{d}N}{\\mathrm{d}\\mathcal{M}_c \\mathrm{d}yr}]$', fontsize=fs)\n",
    "\n",
    "#########################\n",
    "#Plotvalues\n",
    "\n",
    "# Add text upper left corner\n",
    "axes[0,0].text(0.05,0.8, \n",
    "        \"mu0={} \\nmuz={} \\nsigma0={} \\nsigmaz={} \\nalpha={}\".format(mu0,muz,sigma0,sigmaz,alpha), \n",
    "        transform=axes[0,0].transAxes, size = fs) \n",
    "\n",
    "for ax in axes.flatten():\n",
    "    ax.tick_params(labelsize=0.9*fs)\n",
    "\n",
    "# Save and show :)\n",
    "plt.savefig(imageDir + \"RateInfoHist_mu0{}_muz{}_alpha{}_sigma0{}_sigmaz{}.png\".format(mu0, muz, alpha, sigma0, sigmaz), bbox_inches='tight') "
   ]
  },
  {
   "cell_type": "markdown",
   "metadata": {},
   "source": [
    "### One more plot for the road\n",
    "\n",
    "Depending on the size of the dataset you used in this notebook, the detected chirp mass distribution may not look great. \n",
    "\n",
    "Below is an example plotting the same distribution, but using a KDE to make things look smoother."
   ]
  },
  {
   "cell_type": "code",
   "execution_count": 85,
   "metadata": {
    "lines_to_next_cell": 0
   },
   "outputs": [
    {
     "data": {
      "image/png": "[encoded data removed]",
      "text/plain": [
       "<Figure size 864x576 with 1 Axes>"
      ]
     },
     "metadata": {},
     "output_type": "display_data"
    }
   ],
   "source": [
    "#########################\n",
    "# Get the Hist    \n",
    "bins = np.arange(0,50, 2)\n",
    "hist, bin_edge = np.histogram(chirp_masses, weights = detection_rate_by_binary, bins=bins)\n",
    "center_bins = (bin_edge[:-1] + bin_edge[1:])/2.\n",
    "# And the KDE\n",
    "kernel = stats.gaussian_kde(chirp_masses, bw_method='scott', weights=detection_rate_by_binary)\n",
    "binwidth = np.diff(bin_edge) \n",
    "\n",
    "colors = ['blue']\n",
    "###########################\n",
    "#Start plotting\n",
    "fig, ax = plt.subplots(figsize=(12,8))\n",
    "\n",
    "########################\n",
    "# Plot the Hist    \n",
    "norm = 1.\n",
    "ax.bar(center_bins, hist/norm, width= np.diff(bins), \n",
    "       alpha=1.0, fill=False, edgecolor=colors[0],lw = 1., zorder = 0) \n",
    "\n",
    "########################\n",
    "# Add KDE\n",
    "x_KDE = np.arange(bins[0],bins[-1],0.1)\n",
    "KDEy_vals = kernel(x_KDE)*sum(hist)*np.diff(bins)[0]/norm #re-normalize the KDE\n",
    "ax.plot(x_KDE, KDEy_vals, lw=5, color=colors[0], zorder =1,label = 'KDE of Mchirp')\n",
    "ax.fill_between(x_KDE, y1=0, y2=KDEy_vals, color=colors[0], alpha = 0.05, zorder = 1)\n",
    "\n",
    "########################\n",
    "#Plotvalues\n",
    "########################\n",
    "# Add text upper left corner\n",
    "ax.text(0.05,0.8, \n",
    "        \"mu0={} \\nmuz={} \\nsigma0={} \\nsigmaz={} \\nalpha={}\".format(mu0,muz,sigma0,sigmaz,alpha), \n",
    "        transform=ax.transAxes, size = 15) \n",
    "\n",
    "# ax.hist(chirp_masses, weights=detection_rate_by_binary, bins=25, range=(0, 50))\n",
    "ax.set_xlabel(r'Chirp mass, $\\mathcal{M}_c$ $\\mathrm{[M_{\\odot}]}$', fontsize=30)\n",
    "ax.set_ylabel(r'Mass distrbution of detections $[\\rm \\frac{\\mathrm{d}N}{\\mathrm{d}\\mathcal{M}_c \\mathrm{d}yr}]$', fontsize=30)\n",
    "plt.rc('xtick', labelsize=25)    # fontsize of the tick labels\n",
    "plt.rc('ytick', labelsize=25)    # fontsize of the tick labels\n",
    "\n",
    "# Save and show :)\n",
    "plt.savefig(imageDir + \"RateInfoKDE_mu0{}_muz{}_alpha{}_sigma0{}_sigmaz{}.png\".format(mu0, muz, alpha, sigma0, sigmaz), bbox_inches='tight') "
   ]
  },
  {
   "cell_type": "code",
   "execution_count": null,
   "metadata": {
    "lines_to_next_cell": 2
   },
   "outputs": [],
   "source": []
  }
 ],
 "metadata": {
  "jupytext": {
   "formats": "ipynb,py:light"
  },
  "kernelspec": {
   "display_name": "Python 3",
   "language": "python",
   "name": "python3"
  },
  "language_info": {
   "codemirror_mode": {
    "name": "ipython",
    "version": 3
   },
   "file_extension": ".py",
   "mimetype": "text/x-python",
   "name": "python",
   "nbconvert_exporter": "python",
   "pygments_lexer": "ipython3",
   "version": "3.7.6"
  }
 },
 "nbformat": 4,
 "nbformat_minor": 4
}
