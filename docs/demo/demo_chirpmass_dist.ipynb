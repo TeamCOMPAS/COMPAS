{
 "cells": [
  {
   "cell_type": "markdown",
   "metadata": {},
   "source": [
    "# Demo: Chirp mass distribution of binary black holes (BBHs)\n",
    "\n",
    "This notebook reproduces Figure 10 of the COMPAS Paper (_arXiv_: ; Mandel et al., in prep.) using the file COMPAS_CHE_30xZ_3000000.h5, which can be downloaded from the [COMPAS Zenodo community](https://zenodo.org/communities/compas/?page=1&size=20).\n",
    "\n",
    "This file contains the output of 3,000,000 binaries evolved using COMPAS v02.11.01a (v02.11.01 plus fix for issue #260) with the Fidicuial Model (Mandel et al., in prep.) over 30 different metallicities, uniform in $\\log(Z) \\in [10^{-4},10^{-1.825}]$. More details can be found in `Run_Details.txt`.\n",
    "\n",
    "We include some comments to clarify different parts of the code below. But for a full exposition to COMPAS's post-processing tools, please work through the Jupyter Notebook tutorials in the `postProcessing` directory."
   ]
  },
  {
   "cell_type": "markdown",
   "metadata": {},
   "source": [
    "## Paths and libraries\n",
    "* If you would like to use this script for your own COMPAS Output, you can change `fileName`."
   ]
  },
  {
   "cell_type": "code",
   "execution_count": 1,
   "metadata": {
    "collapsed": true
   },
   "outputs": [],
   "source": [
    "import os\n",
    "import sys\n",
    "import numpy as np\n",
    "import matplotlib.pyplot as plt\n",
    "\n",
    "COMPASdir = os.environ['COMPAS_ROOT_DIR']\n",
    "pathScripts = COMPASdir + \"/postProcessing/Folders/CosmicIntegration/PythonScripts/\"\n",
    "pathData = COMPASdir + \"/docs/demo/\"\n",
    "fileName = \"COMPAS_CHE_30xZ_3000000.h5\"\n",
    "\n",
    "sys.path.append(pathScripts)\n",
    "import ClassCosmicIntegrator\n",
    "\n",
    "# Importing ClassCosmicIntegrator imports other classes, including ClassCOMPAS,\n",
    "# ClassMSSFR, selection_effects, totalMassEvolvedPerZ. "
   ]
  },
  {
   "cell_type": "markdown",
   "metadata": {},
   "source": [
    "## Create instance of ClassCosmicIntegrator"
   ]
  },
  {
   "cell_type": "code",
   "execution_count": 2,
   "metadata": {},
   "outputs": [
    {
     "name": "stdout",
     "output_type": "stream",
     "text": [
      "reminders of what to set in the following order:\n",
      "\n",
      "ClassCOMPAS: Remember to self.setGridAndMassEvolved() [optional]\n",
      "                   then  self.setCOMPASDCOmask()\n",
      "                   then  self.setCOMPASData()\n",
      "ClassMSSFR: Remember to set self.SFRprescription() + subparts\n",
      "                            self.Zprescription()   +sub-parts\n",
      "                            set self.calculateMetallicityBinEdges()\n",
      "ClassCosmicIntegrator: Remember to setBirthTimesAnd2Darrays()\n",
      "                        to prepare calculation/results\n",
      "                        do you have the GW-detector you want?\n"
     ]
    }
   ],
   "source": [
    "CI = ClassCosmicIntegrator.CosmicIntegrator(pathCOMPAS=pathData, fileName=fileName)"
   ]
  },
  {
   "cell_type": "markdown",
   "metadata": {},
   "source": [
    "## Set the COMPAS class in our cosmicIntegrator"
   ]
  },
  {
   "cell_type": "code",
   "execution_count": 3,
   "metadata": {
    "collapsed": true
   },
   "outputs": [],
   "source": [
    "# Set lower and upper mass limits used for Kroupa IMF when drawing ZAMS stars in the COMPAS run\n",
    "CI.COMPAS.Mlower = 5.0\n",
    "CI.COMPAS.Mupper = 150.0\n",
    "\n",
    "CI.COMPAS.binaryFraction = 0.7\n",
    "\n",
    "CI.COMPAS.setGridAndMassEvolved()\n",
    "CI.COMPAS.setCOMPASDCOmask()  # By default, this masks for BBHs formed under the pessimistic CE assumption\n",
    "CI.COMPAS.setCOMPASData()  # This carries out the mask"
   ]
  },
  {
   "cell_type": "markdown",
   "metadata": {},
   "source": [
    "## Specify the MSSFR model"
   ]
  },
  {
   "cell_type": "code",
   "execution_count": 5,
   "metadata": {
    "collapsed": true
   },
   "outputs": [],
   "source": [
    "CI.MSSFR.SFRprescription = \"Neijssel et al. (2019)\"\n",
    "CI.MSSFR.Zprescription = \"logNormal\"\n",
    "CI.MSSFR.logNormalPrescription = \"Neijssel Phenomenological\"\n",
    "\n",
    "# Set the metallicity grid from the COMPAS output\n",
    "CI.MSSFR.metallicityGrid = CI.COMPAS.metallicityGrid\n",
    "CI.MSSFR.calculateMetallicityBinEdges()\n",
    "CI.setBirthTimesAnd2Darrays() "
   ]
  },
  {
   "cell_type": "markdown",
   "metadata": {},
   "source": [
    "## Perform the cosmic integration"
   ]
  },
  {
   "cell_type": "code",
   "execution_count": 6,
   "metadata": {
    "collapsed": true
   },
   "outputs": [],
   "source": [
    "CI.cosmologicalIntegration()"
   ]
  },
  {
   "cell_type": "markdown",
   "metadata": {},
   "source": [
    "## Create chirp mass distribution"
   ]
  },
  {
   "cell_type": "code",
   "execution_count": 10,
   "metadata": {
    "collapsed": true
   },
   "outputs": [],
   "source": [
    "chirpMass = CI.COMPAS.mChirp\n",
    "ratePerSys_observed = np.sum(CI.PerSystemPerRedshift_ratesObserved, axis=0)\n",
    "mask = chirpMass < 100 # Set maximum plotted chirp mass to be 100 Msun\n",
    "\n",
    "# Set grid in chirp mass\n",
    "binsMchirp = np.linspace(0, 40, 20)\n",
    "dMchirp = np.diff(binsMchirp)\n",
    "center = (binsMchirp[1:] + binsMchirp[:-1]) / 2.0\n",
    "\n",
    "yvalues, _ = np.histogram(chirpMass[mask], bins=binsMchirp, weights=ratePerSys_observed[mask])\n",
    "dydMchirp = np.divide(yvalues, dMchirp)"
   ]
  },
  {
   "cell_type": "markdown",
   "metadata": {},
   "source": [
    "## Plot chirp mass distribution"
   ]
  },
  {
   "cell_type": "code",
   "execution_count": 11,
   "metadata": {},
   "outputs": [
    {
     "data": {
      "image/png": "[encoded data removed]",
      "text/plain": [
       "<matplotlib.figure.Figure at 0x22e526198>"
      ]
     },
     "metadata": {},
     "output_type": "display_data"
    }
   ],
   "source": [
    "fig, axes = plt.subplots(1, 1)\n",
    "axes.plot(center, dydMchirp)\n",
    "plt.title(\"Chirp Mass Distribution of LIGO BBHs at O1 Sensitivity\")\n",
    "axes.set_xlabel(\"$\\mathcal{M}_c}$ / $\\mathrm{M}_\\odot$\")\n",
    "axes.set_ylabel(\"$\\\\frac{d^2N}{dtd\\mathcal{M}_c}$ / $\\mathrm{yr}^{-1}\\mathrm{M}_\\odot^{-1}$\")\n",
    "plt.show()"
   ]
  }
 ],
 "metadata": {
  "kernelspec": {
   "display_name": "Python 3",
   "language": "python",
   "name": "python3"
  },
  "language_info": {
   "codemirror_mode": {
    "name": "ipython",
    "version": 3
   },
   "file_extension": ".py",
   "mimetype": "text/x-python",
   "name": "python",
   "nbconvert_exporter": "python",
   "pygments_lexer": "ipython3",
   "version": "3.6.1"
  }
 },
 "nbformat": 4,
 "nbformat_minor": 2
}
