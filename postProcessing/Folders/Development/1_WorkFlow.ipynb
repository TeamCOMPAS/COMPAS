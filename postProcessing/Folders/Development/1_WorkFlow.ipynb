{
 "cells": [
  {
   "cell_type": "markdown",
   "metadata": {},
   "source": [
    "# Introduction\n",
    "\n",
    "\n",
    "This notebook shows a basic number of checks to do when changing\n",
    "the post-processing. These merely act as suggestions :D but are based on past mistakes.\n",
    "\n",
    "\n"
   ]
  },
  {
   "cell_type": "markdown",
   "metadata": {},
   "source": [
    "# 1 - Didactic Notes\n",
    "\n",
    "The trickiest part is to make the notes usable and readable.\n",
    "The notes are preferrably short, explaining a specific problem instead of showing the entire method from A-Z. This makes a notebook , like code snippets, more modular and easier to implement in other routines. In addition to the notes we try to offer\n",
    "the 'plain, but commented' python (.py) files for implementation into larger pipelines\n",
    "\n",
    "Try to ask yourself the following questions.\n",
    "\n",
    "1 - What level of prior knowledge is needed before starting this note?\n",
    "\n",
    "2 - Are there already notes on this prior knowledge?\n",
    "\n",
    "3 - Can I phrase the notes into answering a single concise question?\n",
    "\n",
    "4 - Can I write this into a single simple python script?\n",
    "\n",
    "\n",
    "Please respect everyones work and try to communicate as much as possible when making changes to someone else their files. In addition please refrain from putting your name on post-processing code as much as possible. Even a single script is often a collaborative effort and your contributions will be noted in the Logbook or the paper to which some pipelines are linked. Codes are often written based on ideas from others (stackoverflow) or many iterations with collaborators. That said, adding a stackoverflow link here and there might actually be a nice thing :D .\n",
    "\n"
   ]
  },
  {
   "cell_type": "markdown",
   "metadata": {},
   "source": [
    "# 2 - Structure of the Notes\n",
    "\n",
    "The post-processing is a combination of python scripts, ipython notebooks, html pages.\n",
    "\n",
    "- The ipython notebooks offer a working/interactive example with figures and tests. \n",
    "\n",
    "- The python scripts are the plain reduced code for implementation into larger pipelines.\n",
    "  For clarity try to give the script a similar name as the title/name of the notebook which explains/shows it.\n",
    "\n",
    "- The html pages, (mostly in the overview), allow for an easy way to navigate between notes\n",
    "  in an online environment, without the need to run cells."
   ]
  },
  {
   "cell_type": "markdown",
   "metadata": {},
   "source": [
    "# 3 - Creating the HTML\n",
    "\n",
    "To create the html you could either use the GUI in the top left corner.\n",
    "\n",
    "1 - Go to File\n",
    "\n",
    "2 - Go to Download as\n",
    "\n",
    "3 - Download the html\n",
    "\n",
    "4 - Place the html with the same name in the same folder as the notebook\n",
    "\n",
    "5 - Update/add the <'a></a'> html link in any notebook you want to link to the notebook\n",
    "    you just created \n",
    "\n",
    "Alternatively steps 1-4 can be replaced by running the RefreshHtml\n",
    "bashscript in the main postProcessing folder. This will convert all existing ipynb into htmls in the same folder. If the post-Processing suite becomes larger this becomes time-consuming, but it is a save bet in case you adjusted many notebooks at the same time."
   ]
  },
  {
   "cell_type": "markdown",
   "metadata": {},
   "source": [
    "# 4 - When adding a notebook or changing a notebook \n",
    "\n",
    "Ipython has the tricky habit of remembering parameters after you deleted it in a notebook.  After many edits your code might therefore not work as expected. Therefore before commiting or in general try to :\n",
    "\n",
    "- kill the kernel\n",
    "\n",
    "- restart and run the entire notebook to double check\n",
    "\n",
    "This includes notebooks where you only changed the html links\n",
    "\n",
    "### Things not to commit\n",
    "\n",
    "- .ipynb_checkpoints\n",
    "\n",
    "- auxilary files/ temporary files; au log pdf files etc of latex\n",
    "\n",
    "- private files / computer virus  ;)"
   ]
  },
  {
   "cell_type": "markdown",
   "metadata": {},
   "source": [
    "# 5 - Please keep track the LOG /TODO\n",
    "\n",
    "The git environment keeps track of all changes to the entire COMPAS suite, including post-processing. For clarity we keep track of changes in a seperate \n",
    "<li>\n",
    "    <a href=\"./log.txt\" style=\"text-decoration:none;\"> \n",
    "       Logbook:   <br/>  <br/>\n",
    "        <font size=\"+2\"> \n",
    "         </font>\n",
    "    </a>\n",
    "</li>\n",
    "\n",
    "\n",
    "This aims to keep track of changes and implementations, besides the comments in the GIT. Here you can also find contributions of different authors. \n",
    "\n",
    "\n",
    "There is also a TODO list.\n",
    "<li>\n",
    "    <a href=\"./todo.txt\" style=\"text-decoration:none;\"> \n",
    "       Todo:   <br/>  <br/>\n",
    "        <font size=\"+2\"> \n",
    "         </font>\n",
    "    </a>\n",
    "</li>\n",
    "Please try to update/remove features/bugs that have been checked :)\n",
    "\n",
    "Although a slight overkill compared to a text file, we keep them in the notebook/html format for consistency and for navigation in a web-page environment."
   ]
  },
  {
   "cell_type": "code",
   "execution_count": null,
   "metadata": {
    "collapsed": true
   },
   "outputs": [],
   "source": []
  }
 ],
 "metadata": {
  "kernelspec": {
   "display_name": "Python 3",
   "language": "python",
   "name": "python3"
  },
  "language_info": {
   "codemirror_mode": {
    "name": "ipython",
    "version": 3
   },
   "file_extension": ".py",
   "mimetype": "text/x-python",
   "name": "python",
   "nbconvert_exporter": "python",
   "pygments_lexer": "ipython3",
   "version": "3.5.2"
  }
 },
 "nbformat": 4,
 "nbformat_minor": 2
}
