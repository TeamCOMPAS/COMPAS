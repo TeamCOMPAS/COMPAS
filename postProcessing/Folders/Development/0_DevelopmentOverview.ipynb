{
 "cells": [
  {
   "cell_type": "markdown",
   "metadata": {},
   "source": [
    "# Introduction\n",
    "\n",
    "Hi COMPAS Developer !!!!\n",
    "\n",
    "First of all thank you for contributing to the COMPAS post-processing suite.\n",
    "\n",
    "The COMPAS suite is continuously being updated and improved. \n",
    "This means that the post-Processing sometimes has to either be adjusted or expanded.\n",
    "\n",
    "\n",
    "## Here we present;\n",
    "\n",
    "\n"
   ]
  },
  {
   "cell_type": "markdown",
   "metadata": {},
   "source": [
    "<ol>\n",
    "<font size=\"+3\"> \n",
    "\n",
    "<li>\n",
    "    <a href=\"./1_WorkFlow.html\" style=\"text-decoration:none;\"> \n",
    "        Workflow:   <br/>  <br/>\n",
    "        <font size=\"+2\"> \n",
    "        Tips on how to structure the notes and steps to take in testing\n",
    "        </font>\n",
    "    </a>\n",
    "</li>\n",
    "\n",
    "\n",
    "<br/>\n",
    "\n",
    "\n",
    "\n",
    "<li>\n",
    "    <a href=\"./log.txt\" style=\"text-decoration:none;\"> \n",
    "       Logbook:   <br/>  <br/>\n",
    "        <font size=\"+2\"> \n",
    "        List of past contributions and changes\n",
    "        </font>\n",
    "    </a>\n",
    "</li>\n",
    "\n",
    "<br/>\n",
    "\n",
    "<li>\n",
    "    <a href=\"./todo.txt\" style=\"text-decoration:none;\"> \n",
    "        Todo List:   <br/>  <br/>\n",
    "        <font size=\"+2\"> \n",
    "        A wish/to-do list for future implementations\n",
    "        </font>\n",
    "    </a>\n",
    "</li>\n",
    "\n",
    "</font>\n",
    "\n",
    "</ol>"
   ]
  },
  {
   "cell_type": "code",
   "execution_count": null,
   "metadata": {
    "collapsed": true
   },
   "outputs": [],
   "source": []
  }
 ],
 "metadata": {
  "kernelspec": {
   "display_name": "Python 3",
   "language": "python",
   "name": "python3"
  },
  "language_info": {
   "codemirror_mode": {
    "name": "ipython",
    "version": 3
   },
   "file_extension": ".py",
   "mimetype": "text/x-python",
   "name": "python",
   "nbconvert_exporter": "python",
   "pygments_lexer": "ipython3",
   "version": "3.5.2"
  }
 },
 "nbformat": 4,
 "nbformat_minor": 2
}
