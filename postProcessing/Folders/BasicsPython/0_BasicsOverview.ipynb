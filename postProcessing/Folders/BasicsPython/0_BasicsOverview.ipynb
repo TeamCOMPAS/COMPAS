{
 "cells": [
  {
   "cell_type": "markdown",
   "metadata": {},
   "source": [
    "# Introduction\n",
    "\n",
    "\n",
    "Most of the post-Processing material here uses python code.\n",
    "Here we show two important basics of python code in the context\n",
    "of investigating your COMPAS simulation\n",
    "\n",
    "\n",
    "## Material\n"
   ]
  },
  {
   "cell_type": "markdown",
   "metadata": {},
   "source": [
    "<ol>\n",
    "<font size=\"+3\"> \n",
    "\n",
    "<li>\n",
    "    <a href=\"./1_slicingData.html\" style=\"text-decoration:none;\"> \n",
    "        slicing the Data:   <br/>  <br/>\n",
    "        <font size=\"+2\"> \n",
    "        how to select specific systems and their parameters using seeds.\n",
    "        </font>\n",
    "    </a>\n",
    "</li>\n",
    "\n",
    "\n",
    "<br/>\n",
    "\n",
    "<li>\n",
    "    <a href=\"./2_visualisingData.html\" style=\"text-decoration:none;\"> \n",
    "        visualising the Data:   <br/>  <br/>\n",
    "        <font size=\"+2\"> \n",
    "        the basics of binning and visualising your data\n",
    "        </font>\n",
    "    </a>\n",
    "</li>\n",
    "\n",
    "</font>\n",
    "\n",
    "</ol>"
   ]
  },
  {
   "cell_type": "code",
   "execution_count": null,
   "metadata": {
    "collapsed": true
   },
   "outputs": [],
   "source": []
  }
 ],
 "metadata": {
  "kernelspec": {
   "display_name": "Python 3",
   "language": "python",
   "name": "python3"
  },
  "language_info": {
   "codemirror_mode": {
    "name": "ipython",
    "version": 3
   },
   "file_extension": ".py",
   "mimetype": "text/x-python",
   "name": "python",
   "nbconvert_exporter": "python",
   "pygments_lexer": "ipython3",
   "version": "3.5.2"
  }
 },
 "nbformat": 4,
 "nbformat_minor": 2
}
