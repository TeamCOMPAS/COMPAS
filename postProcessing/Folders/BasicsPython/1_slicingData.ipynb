{
 "cells": [
  {
   "cell_type": "markdown",
   "metadata": {},
   "source": [
    "# Introduction\n",
    "\n",
    "\n",
    "The most important number in the COMPAS data is the seed. The seed represents the unique identifier to a specific system in a simulation. Therefore the properties of a single system can be recovered by looking at seeds in different types of files. \n",
    "\n",
    "Here we introduce the basics of manipulating the data using the seeds. For example how we get the initial parameters of systems that ended up forming double compact objects\n",
    "\n",
    "Most often we start using python with 'for loops' and add the systems of interest to a list. However, such loops might take long.\n",
    "Here we present how we can more efficiently 'slice' the data using boolean masks. These are slightly more demanding but are quick and use intuitive logic.\n",
    "\n",
    "\n",
    "We assume you already have a h5file with data, if not see in section 1 how you can create the h5file using the csv data of your simulation, or download some data from compas.science.\n",
    "\n",
    "# careful these cells show examples which  take long if you test them on large data.\n",
    "\n"
   ]
  },
  {
   "cell_type": "markdown",
   "metadata": {},
   "source": [
    "# Path to be set by user\n"
   ]
  },
  {
   "cell_type": "code",
   "execution_count": 1,
   "metadata": {
    "collapsed": true
   },
   "outputs": [],
   "source": [
    "pathToData = '/home/cneijssel/Desktop/Test/COMPAS_output.h5'"
   ]
  },
  {
   "cell_type": "markdown",
   "metadata": {},
   "source": [
    "# Imports"
   ]
  },
  {
   "cell_type": "code",
   "execution_count": 2,
   "metadata": {
    "collapsed": true
   },
   "outputs": [],
   "source": [
    "#python libraries\n",
    "import numpy as np               #for handling arrays\n",
    "import h5py as h5                #for reading the COMPAS data\n",
    "import time                      #for timeing computation time"
   ]
  },
  {
   "cell_type": "code",
   "execution_count": 3,
   "metadata": {
    "collapsed": false
   },
   "outputs": [
    {
     "name": "stdout",
     "output_type": "stream",
     "text": [
      "<KeysViewHDF5 ['CommonEnvelopes', 'DoubleCompactObjects', 'RLOF', 'Supernovae', 'SystemParameters']>\n"
     ]
    }
   ],
   "source": [
    "Data  = h5.File(pathToData)\n",
    "print(Data.keys())\n",
    "nrSystems = len(Data['SystemParameters']['SEED'][()])\n",
    "Data.close()"
   ]
  },
  {
   "cell_type": "markdown",
   "metadata": {},
   "source": [
    "The print statement shows the different types of files that are combined in your h5file.\n",
    "Now the seed is the number that links the information of say the supernovae to the information in the SystemParameters"
   ]
  },
  {
   "cell_type": "markdown",
   "metadata": {},
   "source": [
    "### Question: What were the initial total masses of the double compact objects"
   ]
  },
  {
   "cell_type": "markdown",
   "metadata": {},
   "source": [
    "### The classic way when starting with python"
   ]
  },
  {
   "cell_type": "code",
   "execution_count": 4,
   "metadata": {
    "collapsed": false
   },
   "outputs": [],
   "source": [
    "def returnTotalMasses(pathData=None):\n",
    "    Data  = h5.File(pathToData)\n",
    "    \n",
    "    totalMasses = []\n",
    "    \n",
    "    #for syntax see section 1 with basic syntax\n",
    "    seedsDCOs     = Data['DoubleCompactObjects']['SEED'][()]\n",
    "    \n",
    "    #get info from ZAMS\n",
    "    seedsSystems  = Data['SystemParameters']['SEED'][()]\n",
    "    M1ZAMSs       = Data['SystemParameters']['Mass@ZAMS_1'][()]\n",
    "    M2ZAMSs       = Data['SystemParameters']['Mass@ZAMS_2'][()]\n",
    "\n",
    "    \n",
    "    \n",
    "    for seedDCO in seedsDCOs:\n",
    "        for nrseed in range(len(seedsSystems)):\n",
    "            seedSystem = seedsSystems[nrseed]\n",
    "            if seedSystem == seedDCO:\n",
    "                M1 = M1ZAMSs[nrseed]\n",
    "                M2 = M2ZAMSs[nrseed]\n",
    "                Mtot = M1+M2\n",
    "                totalMasses.append(Mtot)\n",
    "    Data.close()\n",
    "    return totalMasses"
   ]
  },
  {
   "cell_type": "code",
   "execution_count": 5,
   "metadata": {
    "collapsed": false
   },
   "outputs": [
    {
     "name": "stdout",
     "output_type": "stream",
     "text": [
      "120.01296210289001 seconds for 300000 systems\n"
     ]
    }
   ],
   "source": [
    "start   = time.time()\n",
    "MtotOld = returnTotalMasses(pathData=pathToData)\n",
    "end     = time.time()\n",
    "print(end - start, 'seconds for %s systems' %(nrSystems)) "
   ]
  },
  {
   "cell_type": "markdown",
   "metadata": {},
   "source": [
    "# Steps of optimising the above loop\n",
    "\n",
    "## 1 - using boolean masks in one file"
   ]
  },
  {
   "cell_type": "markdown",
   "metadata": {},
   "source": [
    "an array and a list are both series of input. \n",
    "However, when you work with arrays you can use numpy to do some optimsed tricks\n",
    "for example. Adding the entries of two lists"
   ]
  },
  {
   "cell_type": "code",
   "execution_count": 6,
   "metadata": {
    "collapsed": true
   },
   "outputs": [],
   "source": [
    "Data  = h5.File(pathToData)\n",
    "\n",
    "M1ZAMS  = Data['SystemParameters']['Mass@ZAMS_1'][()]\n",
    "M2ZAMS  = Data['SystemParameters']['Mass@ZAMS_2'][()]\n",
    "Mtotal  = np.add(M1ZAMS, M2ZAMS)\n",
    "\n"
   ]
  },
  {
   "cell_type": "markdown",
   "metadata": {},
   "source": [
    "A useful trick is when you want elements based on a condition.\n",
    "Where in the classic way we put the condition in a for loop and if statement,\n",
    "now we will work with an array of booleans or so called masks"
   ]
  },
  {
   "cell_type": "code",
   "execution_count": 7,
   "metadata": {
    "collapsed": true
   },
   "outputs": [],
   "source": [
    "#mask which gives total masses below or equal to 40\n",
    "maskMtot = Mtotal <=40\n",
    "#apply mask to get the masses\n",
    "MtotalBelow40 = Mtotal[maskMtot]"
   ]
  },
  {
   "cell_type": "markdown",
   "metadata": {},
   "source": [
    "The crucial trick is that you can apply this mask to other columns in the same file \n",
    "as long as you keep the length of the mask the same to the column that you apply it to.\n"
   ]
  },
  {
   "cell_type": "code",
   "execution_count": 8,
   "metadata": {
    "collapsed": true
   },
   "outputs": [],
   "source": [
    "# seeds of systems with total masses below 40\n",
    "seeds  = Data['SystemParameters']['SEED'][()]\n",
    "seedsMtotBelow40 = seeds[maskMtot]\n",
    "\n",
    "Data.close()"
   ]
  },
  {
   "cell_type": "markdown",
   "metadata": {},
   "source": [
    "Note that this works because the order of the two columns (seeds and total masses) are\n",
    "the same. Rephrased, the total mass at the third entry corresponds to the seed at the third entry."
   ]
  },
  {
   "cell_type": "markdown",
   "metadata": {},
   "source": [
    "## 2 - using seeds as mask between files"
   ]
  },
  {
   "cell_type": "markdown",
   "metadata": {},
   "source": [
    "Before we continue it is useful to realise how the COMPAS-popsynth printing works.\n",
    "Every time you simulate a system the output is printed in different files. \n",
    "Hence if you have four systems with seedds 1,2,3,4 then COMPAS will evolve seed 1, print the output, and then continue to evolve system 2 etc.\n",
    "\n",
    "If all four systems each had one supernova and one double compact object, then the array 'SEED' in each group would always look like [1,2,3,4]. Hence, if you create a mask based on information in one group (like the example above), you could immediately apply it to a column in the order group because they are ordered the same AND of the SAME LENGTH.\n",
    "However this is usually not the case.\n",
    "\n",
    "A system might not form a double compact object, maybe only seed 2 and 4.\n",
    "The trick is that the order in which the seeds are evaluated in COMPAS remains the same.\n",
    "Hence if you can create a mask that shows all the systems that became a DCO in the SystemParameters file, then after applying the mask the information between the two files\n",
    "is both ordered the same and of the same length."
   ]
  },
  {
   "cell_type": "code",
   "execution_count": 9,
   "metadata": {
    "collapsed": false
   },
   "outputs": [
    {
     "name": "stdout",
     "output_type": "stream",
     "text": [
      "[False  True False  True]\n",
      "[2 4]\n",
      "[20 45]\n"
     ]
    }
   ],
   "source": [
    "#small example\n",
    "SystemSeeds = np.array([1,2,3,4])\n",
    "SystemMass1 = np.array([10,20,15,45])\n",
    "DCOSeeds    = np.array([2,4])\n",
    "\n",
    "#compare which element of 1-d array are in other\n",
    "mask = np.in1d(SystemSeeds, DCOSeeds)\n",
    "print(mask)\n",
    "print(SystemSeeds[mask])\n",
    "print(SystemMass1[mask])\n"
   ]
  },
  {
   "cell_type": "markdown",
   "metadata": {},
   "source": [
    "The above shows how you can get the initial masses of DCO with seeds 2 and 4"
   ]
  },
  {
   "cell_type": "markdown",
   "metadata": {},
   "source": [
    "# Optimised loop"
   ]
  },
  {
   "cell_type": "code",
   "execution_count": 10,
   "metadata": {
    "collapsed": true
   },
   "outputs": [],
   "source": [
    "def returnTotalMasses2(pathData=None):\n",
    "    Data  = h5.File(pathToData)\n",
    "    \n",
    "    totalMasses = []\n",
    "    \n",
    "    #for syntax see section 1 with basic syntax\n",
    "    seedsDCOs     = Data['DoubleCompactObjects']['SEED'][()]\n",
    "    #get info from ZAMS\n",
    "    seedsSystems  = Data['SystemParameters']['SEED'][()]\n",
    "    M1ZAMSs       = Data['SystemParameters']['Mass@ZAMS_1'][()]\n",
    "    M2ZAMSs       = Data['SystemParameters']['Mass@ZAMS_2'][()]\n",
    "    \n",
    "    MZAMStotal    = np.add(M1ZAMS, M2ZAMS)\n",
    "    \n",
    "    maskSeedsBecameDCO  = np.in1d(seedsSystems, seedsDCOs)\n",
    "    totalMassZAMSDCO    = MZAMStotal[maskSeedsBecameDCO]\n",
    "    \n",
    "    Data.close()\n",
    "    return totalMassZAMSDCO"
   ]
  },
  {
   "cell_type": "code",
   "execution_count": 11,
   "metadata": {
    "collapsed": false
   },
   "outputs": [
    {
     "name": "stdout",
     "output_type": "stream",
     "text": [
      "0.038631439208984375 seconds for 300000 systems\n"
     ]
    }
   ],
   "source": [
    "start   = time.time()\n",
    "MtotNew = returnTotalMasses2(pathData=pathToData)\n",
    "end     = time.time()\n",
    "print(end - start, 'seconds for %s systems' %(nrSystems)) "
   ]
  },
  {
   "cell_type": "code",
   "execution_count": 12,
   "metadata": {
    "collapsed": false
   },
   "outputs": [
    {
     "name": "stdout",
     "output_type": "stream",
     "text": [
      "True\n"
     ]
    }
   ],
   "source": [
    "# test if I was lying (need to turn list into array)\n",
    "print(np.array_equal(np.array(MtotOld), MtotNew))"
   ]
  },
  {
   "cell_type": "markdown",
   "metadata": {},
   "source": [
    "Note that the above loop can easily be expanded with more conditions.\n",
    "If you do not want all the DCO initial total masses but only of the double neutron stars, then you just need to reduce the seedsDCO to those only becoming a double neutron star."
   ]
  },
  {
   "cell_type": "code",
   "execution_count": 13,
   "metadata": {
    "collapsed": false
   },
   "outputs": [],
   "source": [
    "def returnTotalMassesDNS(pathData=None):\n",
    "    Data  = h5.File(pathToData)\n",
    "    \n",
    "    totalMasses = []\n",
    "    \n",
    "    #for syntax see section 1 with basic syntax\n",
    "    seedsDCOs     = Data['DoubleCompactObjects']['SEED'][()]\n",
    "    type1         = Data['DoubleCompactObjects']['Stellar_Type_1'][()]\n",
    "    type2         = Data['DoubleCompactObjects']['Stellar_Type_2'][()]\n",
    "    maskDNS       = (type1 == 13) & (type2 == 13)\n",
    "    seedsDNS      = seedsDCOs[maskDNS]\n",
    "    \n",
    "    #get info from ZAMS\n",
    "    seedsSystems  = Data['SystemParameters']['SEED'][()]\n",
    "    M1ZAMSs       = Data['SystemParameters']['Mass@ZAMS_1'][()]\n",
    "    M2ZAMSs       = Data['SystemParameters']['Mass@ZAMS_2'][()]\n",
    "    \n",
    "    MZAMStotal    = np.add(M1ZAMS, M2ZAMS)\n",
    "    \n",
    "    \n",
    "    maskSeedsBecameDNS  = np.in1d(seedsSystems, seedsDNS)\n",
    "    totalMassZAMSDNS    = MZAMStotal[maskSeedsBecameDNS]\n",
    "    \n",
    "    Data.close()\n",
    "    return totalMassZAMSDNS\n",
    "#returnTotalMassesDNS(pathData=pathToData)"
   ]
  },
  {
   "cell_type": "markdown",
   "metadata": {},
   "source": [
    "## Warning, not all files have zero or one line per seed"
   ]
  },
  {
   "cell_type": "markdown",
   "metadata": {},
   "source": [
    "Sometimes a system can have multiple lines in a file. For example a system can experience 2 supernovae. The trick is then to think of a condition which is unique to the system.\n",
    "\n",
    "For example: \n",
    "\n",
    "If you want to link the double compact objects to the stellar types of the systems before their supernovae, then it is ill-phrased sice you van have multiple. The slicing will then not work since the SN array can have multiple instances of the seed.\n",
    "\n",
    "However, if you ask what were the stellar types of the primaries that went supernova, then the slicing works. Since a star can only go supernova once."
   ]
  },
  {
   "cell_type": "code",
   "execution_count": null,
   "metadata": {
    "collapsed": true
   },
   "outputs": [],
   "source": []
  }
 ],
 "metadata": {
  "kernelspec": {
   "display_name": "Python 3",
   "language": "python",
   "name": "python3"
  },
  "language_info": {
   "codemirror_mode": {
    "name": "ipython",
    "version": 3
   },
   "file_extension": ".py",
   "mimetype": "text/x-python",
   "name": "python",
   "nbconvert_exporter": "python",
   "pygments_lexer": "ipython3",
   "version": "3.5.2"
  }
 },
 "nbformat": 4,
 "nbformat_minor": 2
}
