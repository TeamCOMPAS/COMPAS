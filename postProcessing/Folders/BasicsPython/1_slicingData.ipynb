{
 "cells": [
  {
   "cell_type": "markdown",
   "metadata": {},
   "source": [
    "# Introduction\n",
    "\n",
    "\n",
    "The most important number in the COMPAS data is the seed. The seed represents the unique identifier to a specific system in a simulation. Therefore the properties of a single system can be recovered by looking at seeds in different types of files. \n",
    "\n",
    "Here we introduce the basics of manipulating the data using the seeds. For example how we get the initial parameters of systems that ended up forming double compact objects\n",
    "\n",
    "Most often we start using python with 'for loops' and add the systems of interest to a list. However, such loops might take long.\n",
    "Here we present how we can more efficiently 'slice' the data using boolean masks. These are slightly more demanding but are quick and use intuitive logic.\n",
    "\n",
    "\n",
    "We assume you already have a h5file with data, if not see in section 1 how you can create the h5file using the csv data of your simulation, or download some data from compas.science.\n",
    "\n",
    "# careful these cells show examples which  take long if you test them on large data.\n",
    "\n"
   ]
  },
  {
   "cell_type": "markdown",
   "metadata": {},
   "source": [
    "# Path to be set by user\n"
   ]
  },
  {
   "cell_type": "code",
   "execution_count": 1,
   "metadata": {
    "collapsed": true
   },
   "outputs": [],
   "source": [
    "pathToData = '/home/cneijssel/Desktop/Test/COMPAS_output.h5'"
   ]
  },
  {
   "cell_type": "markdown",
   "metadata": {},
   "source": [
    "# Imports"
   ]
  },
  {
   "cell_type": "code",
   "execution_count": 2,
   "metadata": {
    "collapsed": true
   },
   "outputs": [],
   "source": [
    "#python libraries\n",
    "import numpy as np               #for handling arrays\n",
    "import h5py as h5                #for reading the COMPAS data\n",
    "import time                      #for timeing computation time"
   ]
  },
  {
   "cell_type": "code",
   "execution_count": 3,
   "metadata": {
    "collapsed": false
   },
   "outputs": [
    {
     "name": "stdout",
     "output_type": "stream",
     "text": [
      "<KeysViewHDF5 ['CommonEnvelopes', 'DoubleCompactObjects', 'Supernovae', 'SystemParameters']>\n"
     ]
    }
   ],
   "source": [
    "Data  = h5.File(pathToData)\n",
    "print(Data.keys())\n",
    "nrSystems = len(Data['SystemParameters']['SEED'][()])\n",
    "Data.close()"
   ]
  },
  {
   "cell_type": "markdown",
   "metadata": {},
   "source": [
    "The print statement shows the different types of files that are combined in your h5file.\n",
    "Now the seed is the number that links the information of say the supernovae to the information in the SystemParameters"
   ]
  },
  {
   "cell_type": "markdown",
   "metadata": {},
   "source": [
    "### Question: What were the initial total masses of the double compact objects"
   ]
  },
  {
   "cell_type": "markdown",
   "metadata": {},
   "source": [
    "### The classic way when starting with python"
   ]
  },
  {
   "cell_type": "code",
   "execution_count": 4,
   "metadata": {
    "collapsed": false
   },
   "outputs": [],
   "source": [
    "def returnTotalMasses(pathData=None):\n",
    "    Data  = h5.File(pathToData)\n",
    "    \n",
    "    totalMasses = []\n",
    "    \n",
    "    #for syntax see section 1 with basic syntax\n",
    "    seedsDCOs     = Data['DoubleCompactObjects']['SEED'][()]\n",
    "    \n",
    "    #get info from ZAMS\n",
    "    seedsSystems  = Data['SystemParameters']['SEED'][()]\n",
    "    M1ZAMSs       = Data['SystemParameters']['Mass@ZAMS_1'][()]\n",
    "    M2ZAMSs       = Data['SystemParameters']['Mass@ZAMS_2'][()]\n",
    "\n",
    "    \n",
    "    \n",
    "    for seedDCO in seedsDCOs:\n",
    "        for nrseed in range(len(seedsSystems)):\n",
    "            seedSystem = seedsSystems[nrseed]\n",
    "            if seedSystem == seedDCO:\n",
    "                M1 = M1ZAMSs[nrseed]\n",
    "                M2 = M2ZAMSs[nrseed]\n",
    "                Mtot = M1+M2\n",
    "                totalMasses.append(Mtot)\n",
    "    Data.close()\n",
    "    return totalMasses"
   ]
  },
  {
   "cell_type": "code",
   "execution_count": 5,
   "metadata": {
    "collapsed": false
   },
   "outputs": [
    {
     "name": "stdout",
     "output_type": "stream",
     "text": [
      "118.17710280418396 seconds for 300000 systems\n"
     ]
    }
   ],
   "source": [
    "start   = time.time()\n",
    "MtotOld = returnTotalMasses(pathData=pathToData)\n",
    "end     = time.time()\n",
    "print(end - start, 'seconds for %s systems' %(nrSystems)) "
   ]
  },
  {
   "cell_type": "markdown",
   "metadata": {},
   "source": [
    "# Steps of optimising the above loop\n",
    "\n",
    "## 1 - using boolean masks in one file"
   ]
  },
  {
   "cell_type": "markdown",
   "metadata": {},
   "source": [
    "an array and a list are both series of input. \n",
    "However, when you work with arrays you can use numpy to do some optimsed tricks\n",
    "for example. Adding the entries of two lists"
   ]
  },
  {
   "cell_type": "code",
   "execution_count": 6,
   "metadata": {
    "collapsed": true
   },
   "outputs": [],
   "source": [
    "Data  = h5.File(pathToData)\n",
    "\n",
    "M1ZAMS  = Data['SystemParameters']['Mass@ZAMS_1'][()]\n",
    "M2ZAMS  = Data['SystemParameters']['Mass@ZAMS_2'][()]\n",
    "Mtotal  = np.add(M1ZAMS, M2ZAMS)\n",
    "\n"
   ]
  },
  {
   "cell_type": "markdown",
   "metadata": {},
   "source": [
    "A useful trick is when you want elements based on a condition.\n",
    "Where in the classic way we put the condition in a for loop and if statement,\n",
    "now we will work with an array of booleans or so called masks"
   ]
  },
  {
   "cell_type": "code",
   "execution_count": 7,
   "metadata": {
    "collapsed": true
   },
   "outputs": [],
   "source": [
    "#mask which gives total masses below or equal to 40\n",
    "maskMtot = Mtotal <=40\n",
    "#apply mask to get the masses\n",
    "MtotalBelow40 = Mtotal[maskMtot]"
   ]
  },
  {
   "cell_type": "markdown",
   "metadata": {},
   "source": [
    "The crucial trick is that you can apply this mask to other columns in the same file \n",
    "as long as you keep the length of the mask the same to the column that you apply it to.\n"
   ]
  },
  {
   "cell_type": "code",
   "execution_count": 8,
   "metadata": {
    "collapsed": true
   },
   "outputs": [],
   "source": [
    "# seeds of systems with total masses below 40\n",
    "seeds  = Data['SystemParameters']['SEED'][()]\n",
    "seedsMtotBelow40 = seeds[maskMtot]\n",
    "\n",
    "Data.close()"
   ]
  },
  {
   "cell_type": "markdown",
   "metadata": {},
   "source": [
    "Note that this works because the order of the two columns (seeds and total masses) are\n",
    "the same. Rephrased, the total mass at the third entry corresponds to the seed at the third entry."
   ]
  },
  {
   "cell_type": "markdown",
   "metadata": {},
   "source": [
    "## 2 - using seeds as mask between files"
   ]
  },
  {
   "cell_type": "markdown",
   "metadata": {},
   "source": [
    "## example 1\n",
    "Before we continue it is useful to realise how the COMPAS-popsynth printing works.\n",
    "Every time you simulate a system the output is printed in different files. \n",
    "Hence if you have four systems with seeds 1,2,3,4 then COMPAS will evolve seed 1, print the output, and then continue to evolve system 2 etc.\n",
    "\n",
    "Therefore in the systemparameters file, which prints a single line for all the systems, you will find seeds 1,2,3,4 printed in order. However this is generally not the case for the other files.\n",
    "For example the double compact objects file. This file also prints a single line per system, but not all the systems form double compact objects. However the systems are still printed in the same order hence a simple\n",
    "mask will link the parameters without you having to order them too.\n",
    "\n",
    "\n",
    "Imagine only seeds 2 and 4 formed a double compact objec (DCO) and you want to recover the initial primary mass of the systems. Lets create a simple example outside the COMPAS data\n",
    "\n"
   ]
  },
  {
   "cell_type": "code",
   "execution_count": 9,
   "metadata": {
    "collapsed": false
   },
   "outputs": [
    {
     "name": "stdout",
     "output_type": "stream",
     "text": [
      "[False  True False  True]\n",
      "[2 4]\n",
      "[20 45]\n"
     ]
    }
   ],
   "source": [
    "#small example mock data\n",
    "SystemSeeds = np.array([1 ,2 ,3 ,4 ])\n",
    "SystemMass1 = np.array([10,20,15,45])\n",
    "DCOSeeds    = np.array([   2 ,   4 ])\n",
    "\n",
    "#compare which element of 1-d array are in other\n",
    "mask = np.in1d(SystemSeeds, DCOSeeds)\n",
    "print(mask)\n",
    "print(SystemSeeds[mask])\n",
    "print(SystemMass1[mask])\n"
   ]
  },
  {
   "cell_type": "markdown",
   "metadata": {},
   "source": [
    "# Optimised loop"
   ]
  },
  {
   "cell_type": "code",
   "execution_count": 10,
   "metadata": {
    "collapsed": true
   },
   "outputs": [],
   "source": [
    "def returnTotalMasses2(pathData=None):\n",
    "    Data  = h5.File(pathToData)\n",
    "    \n",
    "    totalMasses = []\n",
    "    \n",
    "    #for syntax see section 1 with basic syntax\n",
    "    seedsDCOs     = Data['DoubleCompactObjects']['SEED'][()]\n",
    "    #get info from ZAMS\n",
    "    seedsSystems  = Data['SystemParameters']['SEED'][()]\n",
    "    M1ZAMSs       = Data['SystemParameters']['Mass@ZAMS_1'][()]\n",
    "    M2ZAMSs       = Data['SystemParameters']['Mass@ZAMS_2'][()]\n",
    "    \n",
    "    MZAMStotal    = np.add(M1ZAMS, M2ZAMS)\n",
    "    \n",
    "    maskSeedsBecameDCO  = np.in1d(seedsSystems, seedsDCOs)\n",
    "    totalMassZAMSDCO    = MZAMStotal[maskSeedsBecameDCO]\n",
    "    \n",
    "    Data.close()\n",
    "    return totalMassZAMSDCO"
   ]
  },
  {
   "cell_type": "code",
   "execution_count": 11,
   "metadata": {
    "collapsed": false
   },
   "outputs": [
    {
     "name": "stdout",
     "output_type": "stream",
     "text": [
      "0.04909825325012207 seconds for 300000 systems\n"
     ]
    }
   ],
   "source": [
    "start   = time.time()\n",
    "MtotNew = returnTotalMasses2(pathData=pathToData)\n",
    "end     = time.time()\n",
    "print(end - start, 'seconds for %s systems' %(nrSystems)) "
   ]
  },
  {
   "cell_type": "code",
   "execution_count": 12,
   "metadata": {
    "collapsed": false
   },
   "outputs": [
    {
     "name": "stdout",
     "output_type": "stream",
     "text": [
      "True\n"
     ]
    }
   ],
   "source": [
    "# test if I was lying (need to turn list into array)\n",
    "print(np.array_equal(np.array(MtotOld), MtotNew))"
   ]
  },
  {
   "cell_type": "markdown",
   "metadata": {},
   "source": [
    "Note that the above loop can easily be expanded with more conditions.\n",
    "If you do not want all the DCO initial total masses but only of the double neutron stars, then you just need to reduce the seedsDCOs to those only becoming a double neutron star."
   ]
  },
  {
   "cell_type": "code",
   "execution_count": 13,
   "metadata": {
    "collapsed": false
   },
   "outputs": [],
   "source": [
    "def returnTotalMassesDNS(pathData=None):\n",
    "    Data  = h5.File(pathToData)\n",
    "    \n",
    "    totalMasses = []\n",
    "    \n",
    "    #for syntax see section 1 with basic syntax\n",
    "    seedsDCOs     = Data['DoubleCompactObjects']['SEED'][()]\n",
    "    type1         = Data['DoubleCompactObjects']['Stellar_Type_1'][()]\n",
    "    type2         = Data['DoubleCompactObjects']['Stellar_Type_2'][()]\n",
    "    maskDNS       = (type1 == 13) & (type2 == 13)\n",
    "    seedsDNS      = seedsDCOs[maskDNS]\n",
    "    \n",
    "    #get info from ZAMS\n",
    "    seedsSystems  = Data['SystemParameters']['SEED'][()]\n",
    "    M1ZAMSs       = Data['SystemParameters']['Mass@ZAMS_1'][()]\n",
    "    M2ZAMSs       = Data['SystemParameters']['Mass@ZAMS_2'][()]\n",
    "    \n",
    "    MZAMStotal    = np.add(M1ZAMS, M2ZAMS)\n",
    "    \n",
    "    \n",
    "    maskSeedsBecameDNS  = np.in1d(seedsSystems, seedsDNS)\n",
    "    totalMassZAMSDNS    = MZAMStotal[maskSeedsBecameDNS]\n",
    "    \n",
    "    Data.close()\n",
    "    return totalMassZAMSDNS\n",
    "#returnTotalMassesDNS(pathData=pathToData)"
   ]
  },
  {
   "cell_type": "markdown",
   "metadata": {},
   "source": [
    "## example 2\n",
    "\n",
    "The previous example is relies on the fact that each file only prints at most one line per system.\n",
    "However there are events, such as supernovae (SNe), where the system could be printed 0,1,2 times depending on the masses of the stars.\n",
    "\n",
    "Now the aforementioned method will require some additional steps. Imagine again the 4 seeds of the previous example. Both 2 and 4 formed a DCO and hence both stars in both binaries went SN. Seeds 1 and 3 are low mass stars hence they did not go SN. The SN file prints one line per SN and therefore seeds 2 and 4 appear twice, but still in order.\n",
    "\n",
    "Imagine you want the primary masses of systems that experienced at any point a core collapse supernova (ccSN), (PPISN is pulsational pair instability SN). Lets reuse our mock data\n"
   ]
  },
  {
   "cell_type": "code",
   "execution_count": 14,
   "metadata": {
    "collapsed": false,
    "scrolled": true
   },
   "outputs": [
    {
     "name": "stdout",
     "output_type": "stream",
     "text": [
      "ccSN seeds =[2 2 4]\n",
      "[20 45]\n"
     ]
    }
   ],
   "source": [
    "#small example\n",
    "SystemSeeds = np.array([1 ,2 ,3 ,4 ])\n",
    "SystemMass1 = np.array([10,20,15,45])\n",
    "DCOSeeds    = np.array([2 ,4 ])\n",
    "SNSeeds     = np.array([2 ,2 ,4, 4 ])\n",
    "SNTypes     = np.array(['ccSN' ,'ccSN' ,'PPISN', 'ccSN'])\n",
    "\n",
    "#get seeds which had a ccSN\n",
    "maskCCSN  = SNTypes == 'ccSN'\n",
    "seedsCCSN = SNSeeds[maskCCSN]\n",
    "print('ccSN seeds =%s' %(seedsCCSN))\n",
    "#in principle you could directly compare to seedsCCSN\n",
    "#but I prefer to always be explicit and compare unique seeds\n",
    "seedsCCSN = np.unique(seedsCCSN)\n",
    "#compare which element of 1-d array are in other\n",
    "#this because in mroe complicated scenarios duplicate seeds might sometimes mess up your slicing\n",
    "mask = np.in1d(SystemSeeds, seedsCCSN)\n",
    "print(SystemMass1[mask])"
   ]
  },
  {
   "cell_type": "code",
   "execution_count": null,
   "metadata": {
    "collapsed": true
   },
   "outputs": [],
   "source": []
  }
 ],
 "metadata": {
  "kernelspec": {
   "display_name": "Python 3",
   "language": "python",
   "name": "python3"
  },
  "language_info": {
   "codemirror_mode": {
    "name": "ipython",
    "version": 3
   },
   "file_extension": ".py",
   "mimetype": "text/x-python",
   "name": "python",
   "nbconvert_exporter": "python",
   "pygments_lexer": "ipython3",
   "version": "3.5.2"
  }
 },
 "nbformat": 4,
 "nbformat_minor": 2
}
