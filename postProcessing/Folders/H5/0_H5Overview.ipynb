{
 "cells": [
  {
   "cell_type": "markdown",
   "metadata": {},
   "source": [
    "# Introduction\n",
    "\n",
    "The COMPAS core code gives a collection of human-readable CSV/txt files with \n",
    "data. Each file represents a type of data/physics and containts a series of columns.\n",
    "\n",
    "We convert it into a single non-human-readable h5 file which is more compact and easier to share upload and handle in a memory efficient way\n",
    "\n",
    "\n",
    "## Material\n"
   ]
  },
  {
   "cell_type": "markdown",
   "metadata": {},
   "source": [
    "<ol>\n",
    "<font size=\"+3\"> \n",
    "\n",
    "<li>\n",
    "    <a href=\"./1_creatingH5.html\" style=\"text-decoration:none;\"> \n",
    "        Creating h5 file:   <br/>  <br/>\n",
    "        <font size=\"+2\"> \n",
    "        how to combine the raw data into a single h5 file.\n",
    "        </font>\n",
    "    </a>\n",
    "</li>\n",
    "\n",
    "\n",
    "<br/>\n",
    "\n",
    "<li>\n",
    "    <a href=\"./2_readingH5.html\" style=\"text-decoration:none;\"> \n",
    "        Reading h5 file:   <br/>  <br/>\n",
    "        <font size=\"+2\"> \n",
    "        the basics of loading a h5 file and the syntax involved\n",
    "        </font>\n",
    "    </a>\n",
    "</li>\n",
    "\n",
    "\n",
    "<br/>\n",
    "\n",
    "\n",
    "<li>\n",
    "    <a href=\"./3_rewritingH5.html\" style=\"text-decoration:none;\"> \n",
    "        (Re-)writing h5 file:    <br/> <br/>\n",
    "        <font size=\"+2\"> \n",
    "            how to rewrite/reduce the h5 data to share  or upload.\n",
    "        </font>\n",
    "    </a>\n",
    "</li>\n",
    "</font>\n",
    "</ol>"
   ]
  },
  {
   "cell_type": "code",
   "execution_count": null,
   "metadata": {
    "collapsed": true
   },
   "outputs": [],
   "source": []
  }
 ],
 "metadata": {
  "kernelspec": {
   "display_name": "Python 3",
   "language": "python",
   "name": "python3"
  },
  "language_info": {
   "codemirror_mode": {
    "name": "ipython",
    "version": 3
   },
   "file_extension": ".py",
   "mimetype": "text/x-python",
   "name": "python",
   "nbconvert_exporter": "python",
   "pygments_lexer": "ipython3",
   "version": "3.5.2"
  }
 },
 "nbformat": 4,
 "nbformat_minor": 2
}
