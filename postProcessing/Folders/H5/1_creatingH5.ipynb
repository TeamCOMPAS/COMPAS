{
 "cells": [
  {
   "cell_type": "markdown",
   "metadata": {},
   "source": [
    "# Introduction\n",
    "\n",
    "Here we show an example of how to combine the data of a COMPAS simulation into a single h5 file. \n",
    "\n",
    "Note that the script can also be called from terminal (for more info read the script).\n",
    "Here we show how to call it from another script such as an ipython notebook. "
   ]
  },
  {
   "cell_type": "code",
   "execution_count": null,
   "metadata": {
    "collapsed": true
   },
   "outputs": [],
   "source": []
  },
  {
   "cell_type": "markdown",
   "metadata": {
    "collapsed": false
   },
   "source": [
    "# Imports"
   ]
  },
  {
   "cell_type": "code",
   "execution_count": 1,
   "metadata": {
    "collapsed": false
   },
   "outputs": [],
   "source": [
    "import sys   # for adding path python Script to python environment\n",
    "import os    # for handling paths\n",
    "#Note that the script has its own imports\n",
    "\n",
    "pathNoteBook     = os.getcwd()\n",
    "pathPythonScript = pathNoteBook + '/PythonScripts/'\n",
    "\n",
    "#custom scripts\n",
    "sys.path.append(pathPythonScript)\n",
    "import data_to_H5"
   ]
  },
  {
   "cell_type": "markdown",
   "metadata": {
    "collapsed": true
   },
   "source": [
    "# Paths to set"
   ]
  },
  {
   "cell_type": "markdown",
   "metadata": {},
   "source": [
    "The data can usually comes in two formats.\n",
    "\n",
    "1 - A single run on a single core which creates \n",
    "    one folder with outputfiles. Then put the path to this folder\n",
    "    \n",
    "2 - A single run on multiple cores. In which case there is a parentdirectory\n",
    "    having X subdirectories where X is the number of cores used for the run.\n",
    "    Each subdirectory has part of the data of the entire run. Set the path to the parent folder.\n",
    "    A 'tree walker' will grab and collect the data in the subdirectories\n",
    "."
   ]
  },
  {
   "cell_type": "code",
   "execution_count": 2,
   "metadata": {
    "collapsed": false
   },
   "outputs": [],
   "source": [
    "#Test was run for format 2 above\n",
    "pathData         = '/home/cneijssel/Desktop/Test'"
   ]
  },
  {
   "cell_type": "markdown",
   "metadata": {},
   "source": [
    "# Additional information needed"
   ]
  },
  {
   "cell_type": "markdown",
   "metadata": {},
   "source": [
    "Besides the path to the data we need additional information in order for the script to recognise the data. You can find what you need at the top of the script. They are:"
   ]
  },
  {
   "cell_type": "raw",
   "metadata": {},
   "source": [
    "### User-defined parameters\n",
    "dataRootDir    = '.'    # Location of root directory of the data - \n",
    "                        # user should change this if not running from root dir\n",
    "prefix         = ''     # Prefix of the data files shown here is default\n",
    "delimiter      = ','    # Delimeter used in the output csv files -\n",
    "                        # but can be set differently if desired\n",
    "extension      = 'csv'  # Extension of the data files\n",
    "\n",
    " #Which files to combine current options are\n",
    "filesToCombine = ['SystemParameters'    ,'CommonEnvelopes',\\\n",
    "                  'DoubleCompactObjects','Supernovae'       ]\n",
    "\n",
    "h5Name         =  'COMPAS_output.h5' #Name of the output file\n"
   ]
  },
  {
   "cell_type": "markdown",
   "metadata": {},
   "source": [
    "# Remarks\n",
    "\n",
    "The script first collects and combines the data in new txt files.\n",
    "This means that if you have a large run you need a similar amount  of available space\n",
    "in order to create these files.\n",
    "They will automatically be removed after the h5 file is createde\n",
    "\n",
    "The H5 file will be placed in the same directory as the path given\n",
    "and named COMPASOutput.h5\n",
    "\n",
    "The final h5 file groups and contents are printed to terminal/output\n",
    "\n",
    "\n"
   ]
  },
  {
   "cell_type": "markdown",
   "metadata": {},
   "source": [
    "# Example\n"
   ]
  },
  {
   "cell_type": "code",
   "execution_count": 3,
   "metadata": {
    "collapsed": true
   },
   "outputs": [],
   "source": [
    "### User-defined parameters\n",
    "dataRootDir    = pathData   # Location of root directory of the data - \n",
    "                        # user should change this if not running from root dir\n",
    "prefix         = 'BSE_' # Prefix of the data files shown here is default\n",
    "delimiter      = '\\t'   \n",
    "extension      = 'txt'  \n",
    "\n",
    "#Which files to combine current options are\n",
    "filesToCombine = ['SystemParameters'    ,'CommonEnvelopes',\\\n",
    "                  'DoubleCompactObjects','Supernovae'       ]\n",
    "\n",
    "h5Name         =  'COMPAS_output.h5' #Name of the output file\n"
   ]
  },
  {
   "cell_type": "code",
   "execution_count": 4,
   "metadata": {
    "collapsed": false,
    "scrolled": false
   },
   "outputs": [
    {
     "name": "stdout",
     "output_type": "stream",
     "text": [
      "Checking if directory and files to combine exist\n",
      "Combining txt files from subdirectories\n",
      "Creating H5 file COMPAS_output.h5\n",
      "Cleaning up the combined txt files\n",
      "\n",
      "-------------------------\n",
      "--Overview of your data--\n",
      "-------------------------\n",
      "Filename = CommonEnvelopes\n",
      "----------------------\n",
      "\t   column name                             unit                length\n",
      "\t   --------------------------------------------------------------------\n",
      "\t   BE_Fixed_1                              ergs                159535\n",
      "\t   BE_Fixed_2                              ergs                159535\n",
      "\t   BE_Kruckow_1                            ergs                159535\n",
      "\t   BE_Kruckow_2                            ergs                159535\n",
      "\t   BE_Loveridge_1                          ergs                159535\n",
      "\t   --------------------------------------------------------------------\n",
      "\t   BE_Loveridge_2                          ergs                159535\n",
      "\t   BE_Loveridge_Winds_1                    ergs                159535\n",
      "\t   BE_Loveridge_Winds_2                    ergs                159535\n",
      "\t   BE_Nanjing_1                            ergs                159535\n",
      "\t   BE_Nanjing_2                            ergs                159535\n",
      "\t   --------------------------------------------------------------------\n",
      "\t   Binding_Energy<CE_1                     ergs                159535\n",
      "\t   Binding_Energy<CE_2                     ergs                159535\n",
      "\t   CE_Event_Count                          Count               159535\n",
      "\t   Core_Mass_1                             Msol                159535\n",
      "\t   Core_Mass_2                             Msol                159535\n",
      "\t   --------------------------------------------------------------------\n",
      "\t   Double_Core_CE                          Event               159535\n",
      "\t   Eccentricity<CE                                             159535\n",
      "\t   Eccentricity>CE                                             159535\n",
      "\t   ID                                                          159535\n",
      "\t   Immediate_RLOF>CE                       Event               159535\n",
      "\t   --------------------------------------------------------------------\n",
      "\t   Kruckow_1                                                   159535\n",
      "\t   Kruckow_2                                                   159535\n",
      "\t   Lambda@CE_1                                                 159535\n",
      "\t   Lambda@CE_2                                                 159535\n",
      "\t   Lambda_Fixed_1                                              159535\n",
      "\t   --------------------------------------------------------------------\n",
      "\t   Lambda_Fixed_2                                              159535\n",
      "\t   Lambda_Nanjing_1                                            159535\n",
      "\t   Lambda_Nanjing_2                                            159535\n",
      "\t   Loveridge_1                                                 159535\n",
      "\t   Loveridge_2                                                 159535\n",
      "\t   --------------------------------------------------------------------\n",
      "\t   Loveridge_Winds_1                                           159535\n",
      "\t   Loveridge_Winds_2                                           159535\n",
      "\t   Luminosity<CE_1                         Lsol                159535\n",
      "\t   Luminosity<CE_2                         Lsol                159535\n",
      "\t   MT_History                                                  159535\n",
      "\t   --------------------------------------------------------------------\n",
      "\t   Mass_1<CE                               Msol                159535\n",
      "\t   Mass_2<CE                               Msol                159535\n",
      "\t   Mass_Env_1                              Msol                159535\n",
      "\t   Mass_Env_2                              Msol                159535\n",
      "\t   Merger                                  Event               159535\n",
      "\t   --------------------------------------------------------------------\n",
      "\t   Optimistic_CE                           State               159535\n",
      "\t   RLOF_1                                  State               159535\n",
      "\t   RLOF_2                                  State               159535\n",
      "\t   Radius_1<CE                             Rsol                159535\n",
      "\t   Radius_1>CE                             Rsol                159535\n",
      "\t   --------------------------------------------------------------------\n",
      "\t   Radius_2<CE                             Rsol                159535\n",
      "\t   Radius_2>CE                             Rsol                159535\n",
      "\t   RocheLobe_1<CE                          Rsol                159535\n",
      "\t   RocheLobe_1>CE                          Rsol                159535\n",
      "\t   RocheLobe_2<CE                          Rsol                159535\n",
      "\t   --------------------------------------------------------------------\n",
      "\t   RocheLobe_2>CE                          Rsol                159535\n",
      "\t   SEED                                                        159535\n",
      "\t   Separation<CE                           AU                  159535\n",
      "\t   Separation>CE                           AU                  159535\n",
      "\t   Simultaneous_RLOF                       Event               159535\n",
      "\t   --------------------------------------------------------------------\n",
      "\t   Stellar_Type_1                                              159535\n",
      "\t   Stellar_Type_1<CE                                           159535\n",
      "\t   Stellar_Type_2                                              159535\n",
      "\t   Stellar_Type_2<CE                                           159535\n",
      "\t   Tau_Circ                                Myr                 159535\n",
      "\t   --------------------------------------------------------------------\n",
      "\t   Tau_Dynamical<CE_1                      Myr                 159535\n",
      "\t   Tau_Dynamical<CE_2                      Myr                 159535\n",
      "\t   Tau_Nuclear<CE_1                        Myr                 159535\n",
      "\t   Tau_Nuclear<CE_2                        Myr                 159535\n",
      "\t   Tau_Radial<CE_1                         Myr                 159535\n",
      "\t   --------------------------------------------------------------------\n",
      "\t   Tau_Radial<CE_2                         Myr                 159535\n",
      "\t   Tau_Sync                                Myr                 159535\n",
      "\t   Tau_Thermal<CE_1                        Myr                 159535\n",
      "\t   Tau_Thermal<CE_2                        Myr                 159535\n",
      "\t   Teff<CE_1                               Tsol                159535\n",
      "\t   --------------------------------------------------------------------\n",
      "\t   Teff<CE_2                               Tsol                159535\n",
      "\t   Time                                    Myr                 159535\n",
      "\t   Zeta_RLOF_Analytic                                          159535\n",
      "\t   Zeta_Star_Compare                                           159535\n",
      "Filename = DoubleCompactObjects\n",
      "----------------------\n",
      "\t   column name                             unit                length\n",
      "\t   --------------------------------------------------------------------\n",
      "\t   Coalescence_Time                        Myr                 2750\n",
      "\t   Eccentricity@DCO                                            2750\n",
      "\t   ID                                                          2750\n",
      "\t   MT_Case_1                                                   2750\n",
      "\t   MT_Case_2                                                   2750\n",
      "\t   --------------------------------------------------------------------\n",
      "\t   Mass_1                                  Msol                2750\n",
      "\t   Mass_2                                  Msol                2750\n",
      "\t   Merges_Hubble_Time                      State               2750\n",
      "\t   Recycled_NS_1                           Event               2750\n",
      "\t   Recycled_NS_2                           Event               2750\n",
      "\t   --------------------------------------------------------------------\n",
      "\t   SEED                                                        2750\n",
      "\t   Separation@DCO                          AU                  2750\n",
      "\t   Stellar_Type_1                                              2750\n",
      "\t   Stellar_Type_2                                              2750\n",
      "\t   Time                                    Myr                 2750\n",
      "\t   --------------------------------------------------------------------\n",
      "Filename = Supernovae\n",
      "----------------------\n",
      "\t   column name                             unit                length\n",
      "\t   --------------------------------------------------------------------\n",
      "\t   Applied_Kick_Velocity_SN                kms^-1              107445\n",
      "\t   Drawn_Kick_Velocity_SN                  kms^-1              107445\n",
      "\t   Eccentricity                                                107445\n",
      "\t   Eccentricity<2ndSN                                          107445\n",
      "\t   Experienced_RLOF_SN                     Event               107445\n",
      "\t   --------------------------------------------------------------------\n",
      "\t   Fallback_Fraction_SN                                        107445\n",
      "\t   Hydrogen_Poor_SN                        State               107445\n",
      "\t   Hydrogen_Rich_SN                        State               107445\n",
      "\t   ID                                                          107445\n",
      "\t   Kick_Velocity(uK)                                           107445\n",
      "\t   --------------------------------------------------------------------\n",
      "\t   Mass_CO_Core@CO_SN                      Msol                107445\n",
      "\t   Mass_CP                                 Msol                107445\n",
      "\t   Mass_Core@CO_SN                         Msol                107445\n",
      "\t   Mass_He_Core@CO_SN                      Msol                107445\n",
      "\t   Mass_SN                                 Msol                107445\n",
      "\t   --------------------------------------------------------------------\n",
      "\t   Mass_Total@CO_SN                        Msol                107445\n",
      "\t   Orb_Velocity<2ndSN                      kms^-1              107445\n",
      "\t   Runaway_CP                              Event               107445\n",
      "\t   SEED                                                        107445\n",
      "\t   SN_Kick_Phi_SN                                              107445\n",
      "\t   --------------------------------------------------------------------\n",
      "\t   SN_Kick_Theta_SN                                            107445\n",
      "\t   SN_Type_SN                                                  107445\n",
      "\t   Separation                              Rsol                107445\n",
      "\t   Separation<2ndSN                        Rsol                107445\n",
      "\t   Stellar_Type_Prev_CP                                        107445\n",
      "\t   --------------------------------------------------------------------\n",
      "\t   Stellar_Type_Prev_SN                                        107445\n",
      "\t   Stellar_Type_SN                                             107445\n",
      "\t   Supernova_State                         State               107445\n",
      "\t   Systemic_Velocity                       kms^-1              107445\n",
      "\t   Time                                    Myr                 107445\n",
      "\t   --------------------------------------------------------------------\n",
      "\t   True_Anomaly(psi)_SN                                        107445\n",
      "\t   Unbound                                 State               107445\n",
      "Filename = SystemParameters\n",
      "----------------------\n",
      "\t   column name                             unit                length\n",
      "\t   --------------------------------------------------------------------\n",
      "\t   CE_Alpha                                                    300000\n",
      "\t   Eccentricity@ZAMS                                           300000\n",
      "\t   Error                                                       300000\n",
      "\t   ID                                                          300000\n",
      "\t   LBV_Multiplier                                              300000\n",
      "\t   --------------------------------------------------------------------\n",
      "\t   Mass@ZAMS_1                             Msol                300000\n",
      "\t   Mass@ZAMS_2                             Msol                300000\n",
      "\t   Merger                                  Event               300000\n",
      "\t   Merger_At_Birth                         Event               300000\n",
      "\t   Metallicity@ZAMS_1                                          300000\n",
      "\t   --------------------------------------------------------------------\n",
      "\t   Metallicity@ZAMS_2                                          300000\n",
      "\t   Omega@ZAMS_1                            yr^-1               300000\n",
      "\t   Omega@ZAMS_2                            yr^-1               300000\n",
      "\t   SEED                                                        300000\n",
      "\t   SN_Kick_Magnitude_Random_Number_1                           300000\n",
      "\t   --------------------------------------------------------------------\n",
      "\t   SN_Kick_Magnitude_Random_Number_2                           300000\n",
      "\t   SN_Kick_Mean_Anomaly_1                                      300000\n",
      "\t   SN_Kick_Mean_Anomaly_2                                      300000\n",
      "\t   SN_Kick_Phi_1                                               300000\n",
      "\t   SN_Kick_Phi_2                                               300000\n",
      "\t   --------------------------------------------------------------------\n",
      "\t   SN_Kick_Theta_1                                             300000\n",
      "\t   SN_Kick_Theta_2                                             300000\n",
      "\t   Separation@ZAMS                         AU                  300000\n",
      "\t   Sigma_Kick_CCSN_BH                      kms^-1              300000\n",
      "\t   Sigma_Kick_CCSN_NS                      kms^-1              300000\n",
      "\t   --------------------------------------------------------------------\n",
      "\t   Sigma_Kick_ECSN                         kms^-1              300000\n",
      "\t   Sigma_Kick_USSN                         kms^-1              300000\n",
      "\t   Stellar_Type@ZAMS_1                                         300000\n",
      "\t   Stellar_Type@ZAMS_2                                         300000\n",
      "\t   Stellar_Type_1                                              300000\n",
      "\t   --------------------------------------------------------------------\n",
      "\t   Stellar_Type_2                                              300000\n",
      "\t   Unbound                                 State               300000\n",
      "\t   WR_Multiplier                                               300000\n",
      "Done, :smiling_imp:\n"
     ]
    }
   ],
   "source": [
    "data_to_H5.main(filesToCombine= filesToCombine, \n",
    "                dataRootDir   = dataRootDir, \\\n",
    "                prefix        = prefix,\\\n",
    "                delimiter     = delimiter,\\\n",
    "                extension     = extension, \\\n",
    "                h5Name        = h5Name)"
   ]
  },
  {
   "cell_type": "code",
   "execution_count": null,
   "metadata": {
    "collapsed": true
   },
   "outputs": [],
   "source": []
  }
 ],
 "metadata": {
  "kernelspec": {
   "display_name": "Python 3",
   "language": "python",
   "name": "python3"
  },
  "language_info": {
   "codemirror_mode": {
    "name": "ipython",
    "version": 3
   },
   "file_extension": ".py",
   "mimetype": "text/x-python",
   "name": "python",
   "nbconvert_exporter": "python",
   "pygments_lexer": "ipython3",
   "version": "3.5.2"
  }
 },
 "nbformat": 4,
 "nbformat_minor": 2
}
