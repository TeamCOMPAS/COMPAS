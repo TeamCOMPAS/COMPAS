{
 "cells": [
  {
   "cell_type": "markdown",
   "metadata": {},
   "source": [
    "# Introduction\n",
    "\n",
    "The COMPAS simulations might be very large in data size\n",
    "while the actual data you need to reproduce your results could\n",
    "be small. Hence it might make sense to only publish a reduced number\n",
    "of files and columns based on some criteria.\n",
    "\n",
    "Here we show how you can reduce your data.\n",
    "The main things you need are:\n",
    "    \n",
    "1 - the seeds you want to have in your data\n",
    "\n",
    "2 - the files you want in your data\n",
    "\n",
    "3 - the columns you want for each file\n",
    "\n",
    "The plain python script to do this is placed in the H5 folder \n",
    "in postProcessing. Here we just show an example of how to reduce the data and call\n",
    "the script\n",
    "\n"
   ]
  },
  {
   "cell_type": "markdown",
   "metadata": {},
   "source": [
    "# Paths needed"
   ]
  },
  {
   "cell_type": "code",
   "execution_count": 1,
   "metadata": {
    "collapsed": true
   },
   "outputs": [],
   "source": [
    "pathToData = '/home/cneijssel/Desktop/Test/COMPAS_output.h5'"
   ]
  },
  {
   "cell_type": "markdown",
   "metadata": {},
   "source": [
    "# Imports"
   ]
  },
  {
   "cell_type": "code",
   "execution_count": 2,
   "metadata": {
    "collapsed": false
   },
   "outputs": [],
   "source": [
    "import h5py  as h5   #for handling data format\n",
    "import numpy as np  #for array handling\n",
    "import os           #For checking existence data\n",
    "import sys\n",
    "\n",
    "pathNoteBook     = os.getcwd()\n",
    "pathPythonScript = pathNoteBook + '/PythonScripts/'\n",
    "#custom scripts\n",
    "sys.path.append(pathPythonScript)\n",
    "import rewrite_H5"
   ]
  },
  {
   "cell_type": "markdown",
   "metadata": {},
   "source": [
    "# 1  Loading Data"
   ]
  },
  {
   "cell_type": "code",
   "execution_count": 3,
   "metadata": {
    "collapsed": false
   },
   "outputs": [
    {
     "name": "stdout",
     "output_type": "stream",
     "text": [
      "The main files I have at my disposal are:\n",
      " ['CommonEnvelopes', 'DoubleCompactObjects', 'RLOF', 'Supernovae', 'SystemParameters']\n"
     ]
    }
   ],
   "source": [
    "Data  = h5.File(pathToData)\n",
    "print(\"The main files I have at my disposal are:\\n\",list(Data.keys()))\n",
    "#Say you want only the double neutron stars which\n",
    "#But you do want masses of all the initial systems (i.e. different seeds per file)\n",
    "#but for some reason want systems in which one or more systems had a USSN \n",
    "#and you dont want the CommonEnvelopes file\n"
   ]
  },
  {
   "cell_type": "markdown",
   "metadata": {},
   "source": [
    "# 2 Files/Columns per file do I want?\n",
    "\n",
    "We use dictionaries to specifically link all the entries"
   ]
  },
  {
   "cell_type": "code",
   "execution_count": 4,
   "metadata": {
    "collapsed": true
   },
   "outputs": [],
   "source": [
    "\n",
    "\n",
    "# Which Files do I want?\n",
    "filesOfInterest   = {1:'DoubleCompactObjects',\\\n",
    "                     2:'Supernovae',\\\n",
    "                     3:'SystemParameters'}\n",
    "\n",
    "#Give a list of columns you want, if you want all, say ['All']\n",
    "columnsOfInterest = {1:['All'],\\\n",
    "                     2:['All'],\\\n",
    "                     3:['SEED', 'Mass@ZAMS_1', 'Mass@ZAMS_2']}\n",
    "\n",
    "#example of the seeds dictionary the actual one will be defined later\n",
    "seedsOfInterest   = {1:None,\\\n",
    "                     2:None,\\\n",
    "                     3:None}"
   ]
  },
  {
   "cell_type": "markdown",
   "metadata": {},
   "source": [
    "# 3 Which seeds do I want per file?"
   ]
  },
  {
   "cell_type": "code",
   "execution_count": 5,
   "metadata": {
    "collapsed": false
   },
   "outputs": [],
   "source": [
    "##### I want all the systems\n",
    "\n",
    "seedsSystems = Data['SystemParameters']['SEED'][()]\n",
    "\n",
    "\n",
    "\n",
    "#### Of the double COMPCt objects only the DNSs\n",
    "\n",
    "DCOs = Data['DoubleCompactObjects']\n",
    "\n",
    "typePrimary   =  DCOs['Stellar_Type_1'][()]\n",
    "typeSecondary =  DCOs['Stellar_Type_1'][()]\n",
    "seeds         =  DCOs['SEED'][()]\n",
    "\n",
    "DNSs          =  (typePrimary == 13) & (typeSecondary == 13)\n",
    "seedsDNS      =  seeds[DNSs]\n",
    "\n",
    "\n",
    "\n",
    "######## Only disrupted SN \n",
    "\n",
    "SNe  = Data['Supernovae']\n",
    "\n",
    "seeds     = SNe['SEED']\n",
    "USSN      = SNe['Unbound'][()] == True\n",
    "seedsUSSN = seeds[USSN]\n",
    "\n",
    "\n",
    "\n",
    "####put in dictionary (DOUBLE CHECK ORDER :) )\n",
    "\n",
    "seedsOfInterest   = {1:seedsDNS,\\\n",
    "                     2:seedsUSSN,\\\n",
    "                     3:seedsSystems}\n"
   ]
  },
  {
   "cell_type": "markdown",
   "metadata": {},
   "source": [
    "# 4 Call the function which creates the h5 file"
   ]
  },
  {
   "cell_type": "code",
   "execution_count": 6,
   "metadata": {
    "collapsed": false
   },
   "outputs": [],
   "source": [
    "pathToNewData = '/home/cneijssel/Desktop/Test/COMPAS_outputNew.h5'\n",
    "\n",
    "rewrite_H5.reduceH5(pathToOld = pathToData, pathToNew = pathToNewData,\\\n",
    "                     dictFiles=filesOfInterest, dictColumns=columnsOfInterest, dictSeeds=seedsOfInterest)"
   ]
  },
  {
   "cell_type": "code",
   "execution_count": 7,
   "metadata": {
    "collapsed": false,
    "scrolled": false
   },
   "outputs": [
    {
     "name": "stdout",
     "output_type": "stream",
     "text": [
      "Filename = DoubleCompactObjects\n",
      "----------------------\n",
      "\t   column name                             unit                length\n",
      "\t   --------------------------------------------------------------------\n",
      "\t   Coalescence_Time                        Myr                 107\n",
      "\t   Eccentricity@DCO                                            107\n",
      "\t   ID                                                          107\n",
      "\t   MT_Case_1                                                   107\n",
      "\t   MT_Case_2                                                   107\n",
      "\t   --------------------------------------------------------------------\n",
      "\t   Mass_1                                  Msol                107\n",
      "\t   Mass_2                                  Msol                107\n",
      "\t   Merges_Hubble_Time                      State               107\n",
      "\t   Recycled_NS_1                           Event               107\n",
      "\t   Recycled_NS_2                           Event               107\n",
      "\t   --------------------------------------------------------------------\n",
      "\t   SEED                                                        107\n",
      "\t   Separation@DCO                          AU                  107\n",
      "\t   Stellar_Type_1                                              107\n",
      "\t   Stellar_Type_2                                              107\n",
      "\t   Time                                    Myr                 107\n",
      "\t   --------------------------------------------------------------------\n",
      "Filename = Supernovae\n",
      "----------------------\n",
      "\t   column name                             unit                length\n",
      "\t   --------------------------------------------------------------------\n",
      "\t   Applied_Kick_Velocity_SN                kms^-1              97159\n",
      "\t   Drawn_Kick_Velocity_SN                  kms^-1              97159\n",
      "\t   Eccentricity                                                97159\n",
      "\t   Eccentricity<2ndSN                                          97159\n",
      "\t   Experienced_RLOF_SN                     Event               97159\n",
      "\t   --------------------------------------------------------------------\n",
      "\t   Fallback_Fraction_SN                                        97159\n",
      "\t   Hydrogen_Poor_SN                        State               97159\n",
      "\t   Hydrogen_Rich_SN                        State               97159\n",
      "\t   ID                                                          97159\n",
      "\t   Kick_Velocity(uK)                                           97159\n",
      "\t   --------------------------------------------------------------------\n",
      "\t   Mass_CO_Core@CO_SN                      Msol                97159\n",
      "\t   Mass_CP                                 Msol                97159\n",
      "\t   Mass_Core@CO_SN                         Msol                97159\n",
      "\t   Mass_He_Core@CO_SN                      Msol                97159\n",
      "\t   Mass_SN                                 Msol                97159\n",
      "\t   --------------------------------------------------------------------\n",
      "\t   Mass_Total@CO_SN                        Msol                97159\n",
      "\t   Orb_Velocity<2ndSN                      kms^-1              97159\n",
      "\t   Runaway_CP                              Event               97159\n",
      "\t   SEED                                                        97159\n",
      "\t   SN_Kick_Phi_SN                                              97159\n",
      "\t   --------------------------------------------------------------------\n",
      "\t   SN_Kick_Theta_SN                                            97159\n",
      "\t   SN_Type_SN                                                  97159\n",
      "\t   Separation                              Rsol                97159\n",
      "\t   Separation<2ndSN                        Rsol                97159\n",
      "\t   Stellar_Type_Prev_CP                                        97159\n",
      "\t   --------------------------------------------------------------------\n",
      "\t   Stellar_Type_Prev_SN                                        97159\n",
      "\t   Stellar_Type_SN                                             97159\n",
      "\t   Supernova_State                         State               97159\n",
      "\t   Systemic_Velocity                       kms^-1              97159\n",
      "\t   Time                                    Myr                 97159\n",
      "\t   --------------------------------------------------------------------\n",
      "\t   True_Anomaly(psi)_SN                                        97159\n",
      "\t   Unbound                                 State               97159\n",
      "Filename = SystemParameters\n",
      "----------------------\n",
      "\t   column name                             unit                length\n",
      "\t   --------------------------------------------------------------------\n",
      "\t   Mass@ZAMS_1                             Msol                300000\n",
      "\t   Mass@ZAMS_2                             Msol                300000\n",
      "\t   SEED                                                        300000\n"
     ]
    }
   ],
   "source": [
    "rewrite_H5.printAllColumnsInH5(pathToNewData)"
   ]
  },
  {
   "cell_type": "code",
   "execution_count": null,
   "metadata": {
    "collapsed": true
   },
   "outputs": [],
   "source": []
  }
 ],
 "metadata": {
  "kernelspec": {
   "display_name": "Python 3",
   "language": "python",
   "name": "python3"
  },
  "language_info": {
   "codemirror_mode": {
    "name": "ipython",
    "version": 3
   },
   "file_extension": ".py",
   "mimetype": "text/x-python",
   "name": "python",
   "nbconvert_exporter": "python",
   "pygments_lexer": "ipython3",
   "version": "3.5.2"
  }
 },
 "nbformat": 4,
 "nbformat_minor": 2
}
