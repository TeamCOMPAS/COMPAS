{
 "cells": [
  {
   "cell_type": "markdown",
   "metadata": {},
   "source": [
    "# Introduction\n",
    "\n",
    "\n",
    "The selection effects assign a probability of observing a system.\n",
    "\n",
    "We determine if we can confidently select a system by choosing a signal-to-noise ratio (SNR), for which we often use 8. \n",
    "\n",
    "The SNR depends on the individual component masses, the distance and the orientation of the binary compared to the gravitational wave detector.  \n",
    "\n",
    "By sampling uniformly over the possible orientations of the system\n",
    "we can assign the fraction of the time the system at that distance can be observed. This fraction is the probability.\n",
    "\n",
    "\n",
    "The SNR also depends on the sensitivity of the detector\n",
    "\n",
    "combined we need to pass to the function\n",
    "\n",
    "detection_probability(m1, m2, redshift, distance, snr_threshold,sensitivity='design')\n",
    "\n",
    "If you use this pipeline we would appreciate it if you cite\n",
    "Selection effects   ; https://arxiv.org/pdf/1711.06287\n"
   ]
  },
  {
   "cell_type": "markdown",
   "metadata": {},
   "source": [
    "# Paths"
   ]
  },
  {
   "cell_type": "code",
   "execution_count": 1,
   "metadata": {},
   "outputs": [],
   "source": [
    "import os\n",
    "\n",
    "pathNoteBook     = os.getcwd()\n",
    "pathClassCOMPAS  = pathNoteBook + '/PythonScripts/'\n",
    "\n"
   ]
  },
  {
   "cell_type": "markdown",
   "metadata": {
    "collapsed": true
   },
   "source": [
    "# Imports"
   ]
  },
  {
   "cell_type": "code",
   "execution_count": 2,
   "metadata": {},
   "outputs": [],
   "source": [
    "import numpy as np\n",
    "import sys\n",
    "#custom scripts\n",
    "sys.path.append(pathClassCOMPAS)\n",
    "import selection_effects"
   ]
  },
  {
   "cell_type": "markdown",
   "metadata": {},
   "source": [
    "# Quick example"
   ]
  },
  {
   "cell_type": "code",
   "execution_count": 3,
   "metadata": {},
   "outputs": [],
   "source": [
    "m1 = 40 #Msun\n",
    "m2 = 40 #Msun\n",
    "redshift = 0.1\n",
    "distance = 463.4  # Mpc quick estimate for illustration purpuses\n",
    "                  # code uses astropy toconvert\n",
    "                  # redshift to luminosity distance\n",
    "snr_threshold = 8\n",
    "sensitivity = 'O1'"
   ]
  },
  {
   "cell_type": "code",
   "execution_count": 4,
   "metadata": {},
   "outputs": [],
   "source": [
    "P = selection_effects.detection_probability(m1, m2, redshift, distance, snr_threshold,sensitivity=sensitivity)"
   ]
  },
  {
   "cell_type": "code",
   "execution_count": 5,
   "metadata": {},
   "outputs": [
    {
     "name": "stdout",
     "output_type": "stream",
     "text": [
      "0.7771859999999999\n"
     ]
    }
   ],
   "source": [
    "print(P)"
   ]
  },
  {
   "cell_type": "code",
   "execution_count": null,
   "metadata": {},
   "outputs": [],
   "source": []
  }
 ],
 "metadata": {
  "kernelspec": {
   "display_name": "Python 3",
   "language": "python",
   "name": "python3"
  },
  "language_info": {
   "codemirror_mode": {
    "name": "ipython",
    "version": 3
   },
   "file_extension": ".py",
   "mimetype": "text/x-python",
   "name": "python",
   "nbconvert_exporter": "python",
   "pygments_lexer": "ipython3",
   "version": "3.7.1"
  }
 },
 "nbformat": 4,
 "nbformat_minor": 2
}
