{
 "cells": [
  {
   "cell_type": "markdown",
   "metadata": {},
   "source": [
    "# Introduction\n",
    "\n",
    "This section covers data processing related to Cosmic Integration (see [Neijssel et al. 2020](https://arxiv.org/abs/1906.08136)).\n",
    "\n",
    "For these notes we assume that you have a COMPAS h5-data set. If not, see [COMPAS h5 files.](../H5/0_H5Overview.ipynb)\n",
    "\n",
    "These notes merely show how to call the functions and how to construct the pipeline. It does not offer any derivations.\n",
    "\n",
    "The duration from the birth of the binary until the merger as a double compact object (DCO) can range from a few million years (lifetime of the stars) to more than 100 Gigayears depending on the evolution of the system.\n",
    "\n",
    "This means two things\n",
    "\n",
    "1. DCOs merge at different redshifts\n",
    "2. Multiple DCOs merging at a specific redshift could have formed at different times.\n",
    "    \n",
    "We thus need to know the star formation that went into forming a single system. However, the star formation rate is non-constant over the lifetime of the universe. Furthermore, star formation is heavily dependent on the metallicity of the star forming gas, which also changes over the lifetime of the universe. Combined, we call this the metallicity-specific star formation rate (MSSFR).\n",
    "\n",
    "The cosmic-intergation pipeline tries to predict the population of DCO mergers assuming a model for the MSSFR.\n",
    "Here we show how to use the combination of scripts. We show the purpose of each separate script in the pipeline and how to combine them to derive our results. \n",
    "\n",
    "Note that although these pipelines are tailored for a COMPAS simulation, with some slight adjustments one could use these same pipelines for other (mock)-simulations provided all the information is given (see bottom of [Setting the Data](./1_ClassCOMPAS.ipynb#For-different-Data)). \n",
    "\n",
    "If you make use of any these pipelines, we would appreciate if you cite the following papers:\n",
    "\n",
    "Cosmic Integration https://arxiv.org/abs/1906.08136\n",
    "\n",
    "Selection effects https://arxiv.org/pdf/1711.06287"
   ]
  },
  {
   "cell_type": "markdown",
   "metadata": {},
   "source": [
    "## Material\n",
    "        \n",
    "### [Setting the Data:](./1_ClassCOMPAS.ipynb)\n",
    "Set the required columns and other information.\n",
    "\n",
    "### [Setting the MSSFR:](./2_MSSFR-or-SFRD-prescriptions.ipynb)\n",
    "Choose a model and plot it.\n",
    "\n",
    "### [Setting the Selection Effects:](./3_SelectionEffects.ipynb)\n",
    "Choose the sensitivity and calculate probability.\n",
    "\n",
    "### [Rate at single redshift:](./4_MergersAtSingleRedshift.ipynb)\n",
    "Combine data, MSSFR, and selection effects.\n",
    "\n",
    "### [Rate as function of redshift:](./5_MergersAsFunctionOfRedhisft.ipynb)\n",
    "Set the integral and combine results.\n",
    "\n",
    "\n",
    "### [Fast Cosmic Integration:](./6_FastCosmicIntegrator.ipynb)\n",
    "Do the whole routine in one go, using the phenomenological variation of the MSSFR and SFRD"
   ]
  },
  {
   "cell_type": "code",
   "execution_count": null,
   "metadata": {
    "collapsed": true
   },
   "outputs": [],
   "source": []
  }
 ],
 "metadata": {
  "kernelspec": {
   "display_name": "Python 3",
   "language": "python",
   "name": "python3"
  },
  "language_info": {
   "codemirror_mode": {
    "name": "ipython",
    "version": 3
   },
   "file_extension": ".py",
   "mimetype": "text/x-python",
   "name": "python",
   "nbconvert_exporter": "python",
   "pygments_lexer": "ipython3",
   "version": "3.7.1"
  }
 },
 "nbformat": 4,
 "nbformat_minor": 2
}
