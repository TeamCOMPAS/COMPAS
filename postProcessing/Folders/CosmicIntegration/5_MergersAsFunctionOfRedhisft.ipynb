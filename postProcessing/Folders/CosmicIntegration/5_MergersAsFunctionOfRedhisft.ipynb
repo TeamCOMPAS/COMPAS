{
 "cells": [
  {
   "cell_type": "code",
   "execution_count": 18,
   "metadata": {},
   "outputs": [],
   "source": [
    "# Magic function to set the backend of matplotlib to the 'inline' backend\n",
    "%matplotlib inline"
   ]
  },
  {
   "cell_type": "markdown",
   "metadata": {},
   "source": [
    "# Introduction\n",
    "\n",
    "\n",
    "Here we present show how to calculate the merger rate densities and observed probabilities\n",
    "for a population of double compact object mergers using the ClassCosmicIntegrator\n",
    "\n",
    "In reality this class is one major for loop to redo the calculation at a single redshift for different redshifts and a range of metallicities (see earlier notes).\n",
    "\n",
    "It combines all the classes/modules that we presented in the cosmic integration notes\n",
    "In addition it stores the results into several 2D arrays for easy plotting/binning\n",
    "already taking into account selection effects and volumes of the different redshift shells.\n",
    "\n",
    "Here we show:\n",
    "\n",
    "- How to set up the entire pipeline. The code specifically raises warnings/statements\n",
    "    to help to remind you. This is simply a summary of the previous notes in the Cosmic Integration section.\n",
    "\n",
    "\n",
    "- How to calculate the rate and plot the results using the 2D arrays in the ClassCosmicIntegrator\n",
    "\n",
    "- How to loop over variations efficiently to create different distributions"
   ]
  },
  {
   "cell_type": "markdown",
   "metadata": {},
   "source": [
    "# Paths"
   ]
  },
  {
   "cell_type": "code",
   "execution_count": 19,
   "metadata": {},
   "outputs": [],
   "source": [
    "import os\n",
    "\n",
    "pathNoteBook    = os.getcwd()\n",
    "pathScripts     = pathNoteBook + '/PythonScripts/'\n",
    "\n",
    "\n",
    "pathData        = '/Users/lieke/surfdrive/Documents/test_CI/COMPAS_Output/'#\"/home/cneijssel/Desktop/Test/\""
   ]
  },
  {
   "cell_type": "markdown",
   "metadata": {},
   "source": [
    "# Imports"
   ]
  },
  {
   "cell_type": "code",
   "execution_count": 20,
   "metadata": {},
   "outputs": [],
   "source": [
    "import numpy as np\n",
    "import sys\n",
    "import matplotlib.pyplot as plt\n",
    "#custom scripts\n",
    "sys.path.append(pathScripts)\n",
    "import ClassCosmicIntegrator #this imports other routines by itself\n"
   ]
  },
  {
   "cell_type": "markdown",
   "metadata": {},
   "source": [
    "# 1  Instance of Cosmic integrator class"
   ]
  },
  {
   "cell_type": "markdown",
   "metadata": {},
   "source": [
    "The main thing that needs to be defined in this class is the universe and the\n",
    "number of shells for which we want to calculate the merger rate densities. In addition we also set the GW-detector here\n",
    "\n",
    "To this end, the following variables need to be defined in the instance (showing their default values)\n",
    "\n",
    "    #For Data\n",
    "    pathCOMPAS         = None\n",
    "    \n",
    "    #Defining Universe\n",
    "    Cosmology          = 'WMAP'\n",
    "    hubbleConstant     = 67.8\n",
    "    omegaMatter        = 0.308\n",
    "    redshiftFirstSFR   = 10.\n",
    "    \n",
    "    #Defining integral\n",
    "    minRedshift        = 0.0\n",
    "    maxRedshift        = 2.\n",
    "    nrRedshiftBins     = 20\n",
    "    \n",
    "    #Method for calculating redshift from age\n",
    "    RedshiftTabulated  = True\n",
    "    RedshiftTabulatedResolution = 100000\n",
    "    \n",
    "    #Detector\n",
    "    GWdetector_sensitivity      = 'O1'\n",
    "    GWdetector_snrThreshold     = 8\n",
    "    \n",
    "    #Print steps\n",
    "    verbose   = False"
   ]
  },
  {
   "cell_type": "markdown",
   "metadata": {},
   "source": [
    "pathCOMPAS: \n",
    "    \n",
    "    path to the h5-data. \n",
    "    \n",
    "Cosmology:\n",
    "\n",
    "    Which of the astropy cosmology settings to use. Currently it takes either\n",
    "    'WMAP' or you set it to 'Custom Flat'. If you do the latter you need to \n",
    "    set the hubbleConstant and omegaMatter. In the case of 'WMAP' these are\n",
    "    ignored and a predefined setting is used\n",
    "    \n",
    "hubbleconstant:\n",
    "    \n",
    "    see Cosmology\n",
    "    \n",
    "omegaMatter:\n",
    "    \n",
    "    see Cosmology\n",
    "    \n",
    "redshiftFirstSFR:\n",
    "    \n",
    "    the highest redshift at which we assume the first stars are born.\n",
    "    Any star born at a higher redshift gets a rate of zero.\n",
    "    \n",
    "minRedshift:\n",
    "    \n",
    "    to lowest limit/edge of the redshift bins for the integral\n",
    "    \n",
    "maxRedshift:\n",
    "    \n",
    "    the upper limit/edge of the redshfit bins for the integral\n",
    "    \n",
    "nrRedshiftBins:\n",
    "    \n",
    "    number of bins in which to resolve the integral. \n",
    "\n",
    "RedshiftTabulated:\n",
    "\n",
    "    Boolean. Method to calculate redshift of universe based on age. The functions\n",
    "    are slow and hence looking it up in a predefined table is quicker and still sub-percent \n",
    "    precision. If true we use the table method. If False we use an alternative function,\n",
    "    which might be more precise but it is order of magnitude slower.\n",
    "    \n",
    "RedshiftTabulatedResolution:\n",
    "    \n",
    "    Resolution of table (in from 0- to redshift first SFR) to calculate ages\n",
    "    Hence the default tabulated method has a precision of dz = 1/10000\n",
    "    \n",
    "    \n",
    "GWdetector_sensitivity:\n",
    "\n",
    "    The sensitivity curve assumed to estimate the signal-to-noise of a system\n",
    "    \n",
    "GWdetector_snrThreshold:\n",
    "\n",
    "    The single detecter signal-to-noise limit above which we define a system\n",
    "    to be detectable\n",
    "\n",
    "verbose:\n",
    "\n",
    "    to print some intermediate output/messages during calculation\n"
   ]
  },
  {
   "cell_type": "markdown",
   "metadata": {},
   "source": [
    "# Creating all the instances"
   ]
  },
  {
   "cell_type": "code",
   "execution_count": 21,
   "metadata": {},
   "outputs": [
    {
     "name": "stdout",
     "output_type": "stream",
     "text": [
      "reminders of what to set in the following order:\n",
      "\n",
      "ClassCOMPAS: Remember to self.setCOMPASDCOmask()\n",
      "                    then self.setCOMPASData()\n",
      "          and optionally self.setGridAndMassEvolved() if using a metallicity grid\n",
      "ClassMSSFR: Remember to set self.SFRprescription() + subparts\n",
      "                            self.Zprescription()   +sub-parts\n",
      "                            set self.calculateMetallicityBinEdges()\n",
      "ClassCosmicIntegrator: Remember to setBirthTimesAnd2Darrays()\n",
      "                        to prepare calculation/results\n",
      "                        do you have the GW-detector you want?\n"
     ]
    }
   ],
   "source": [
    "#using the defaults\n",
    "CI = ClassCosmicIntegrator.CosmicIntegrator(pathCOMPAS=pathData)"
   ]
  },
  {
   "cell_type": "markdown",
   "metadata": {},
   "source": [
    "\n",
    "### classCOMPAS"
   ]
  },
  {
   "cell_type": "code",
   "execution_count": 22,
   "metadata": {},
   "outputs": [],
   "source": [
    "#Info python Submit and assumptions to recover Msun evovled\n",
    "CI.COMPAS.Mlower = 5.\n",
    "CI.COMPAS.Mupper = 150.\n",
    "CI.COMPAS.binaryFraction = 0.7\n",
    "CI.COMPAS.setGridAndMassEvolved()\n",
    "# which DCOs I want\n",
    "CI.COMPAS.setCOMPASDCOmask(types='BBH', pessimistic=True) \n",
    "# Get me the data\n",
    "CI.COMPAS.setCOMPASData()"
   ]
  },
  {
   "cell_type": "markdown",
   "metadata": {},
   "source": [
    "### classMSSFR\n"
   ]
  },
  {
   "cell_type": "code",
   "execution_count": 23,
   "metadata": {},
   "outputs": [],
   "source": [
    "# Pick the SFR model\n",
    "CI.MSSFR.SFRprescription = 'Neijssel et al. (2019)'\n",
    "#metallicity\n",
    "CI.MSSFR.Zprescription = 'logNormal'\n",
    "CI.MSSFR.logNormalPrescription ='Neijssel Phenomenological'\n",
    "\n",
    "#Use the grid of the simulation\n",
    "CI.MSSFR.metallicityGrid = CI.COMPAS.metallicityGrid\n",
    "CI.MSSFR.calculateMetallicityBinEdges()\n"
   ]
  },
  {
   "cell_type": "markdown",
   "metadata": {},
   "source": [
    "### classCosmicIntegrator\n"
   ]
  },
  {
   "cell_type": "code",
   "execution_count": 24,
   "metadata": {},
   "outputs": [],
   "source": [
    "#Use the COMPAS data and redshift grid to define 2D arrays and precalculate\n",
    "#values needed for quick integration. This takes a bit. That is why we do it outside\n",
    "#all other functions. Say you want to calculate the rates for three different\n",
    "#SFR models. These values don't change \n",
    "#(they only change when the redshift shells or the data changes)\n",
    "#Hence you do it once.\n",
    "CI.setBirthTimesAnd2Darrays()"
   ]
  },
  {
   "cell_type": "markdown",
   "metadata": {},
   "source": [
    "# 2 Calculate and plot"
   ]
  },
  {
   "cell_type": "code",
   "execution_count": 25,
   "metadata": {},
   "outputs": [],
   "source": [
    "# everthing is set so now so calculate :)\n",
    "CI.cosmologicalIntegration()"
   ]
  },
  {
   "cell_type": "markdown",
   "metadata": {},
   "source": [
    "It stores the results in several different 2D arrays, below is directly copied from source code"
   ]
  },
  {
   "cell_type": "raw",
   "metadata": {},
   "source": [
    "        #################################################\n",
    "        #                                               #\n",
    "        #     the eventual results of interest          #\n",
    "        #     if we already have data we can set it     #\n",
    "        #     else we have to manually call tis function#\n",
    "        #################################################\n",
    "        #Calculating birth age is simple subtraction age-merger -delaytime\n",
    "        self.PerSystemPerRedshift_ageBirth       = None\n",
    "        #Cannot do this in redshift so convert table above to a redshift table\n",
    "        self.PerSystemPerRedshift_redshiftBirth  = None\n",
    "        # dN Gpc-3 per year at z=redshift.     #each row is redshift merger\n",
    "        self.PerSystemPerRedshift_ratesIntrinsic = None\n",
    "        # dN per year in detector from shell \n",
    "        self.PerSystemPerRedshift_ratesObserved  = None\n"
   ]
  },
  {
   "cell_type": "markdown",
   "metadata": {},
   "source": [
    "They are 2D arrays where each row is a redshift and each column is a single system"
   ]
  },
  {
   "cell_type": "code",
   "execution_count": 26,
   "metadata": {},
   "outputs": [
    {
     "name": "stdout",
     "output_type": "stream",
     "text": [
      "(20, 304)\n",
      "20\n",
      "304\n"
     ]
    }
   ],
   "source": [
    "print(CI.PerSystemPerRedshift_ratesIntrinsic.shape)\n",
    "print(CI.nrRedshiftBins)\n",
    "print(len(CI.COMPAS.delayTimes))"
   ]
  },
  {
   "cell_type": "markdown",
   "metadata": {},
   "source": [
    "This means that each cell is the rate of a single system at a single redshift.\n",
    "Now you can add rows/columns according to your interest. Examples:"
   ]
  },
  {
   "cell_type": "markdown",
   "metadata": {},
   "source": [
    "## Example rate in shell, rate as function of redshift"
   ]
  },
  {
   "cell_type": "code",
   "execution_count": 27,
   "metadata": {},
   "outputs": [
    {
     "name": "stdout",
     "output_type": "stream",
     "text": [
      "[0.05 0.15 0.25 0.35 0.45 0.55 0.65 0.75 0.85 0.95 1.05 1.15 1.25 1.35\n",
      " 1.45 1.55 1.65 1.75 1.85 1.95]\n"
     ]
    }
   ],
   "source": [
    "#central redshift in the shell \n",
    "redshifts = CI.Shell_centerRedshift\n",
    "print(redshifts)"
   ]
  },
  {
   "cell_type": "code",
   "execution_count": 28,
   "metadata": {},
   "outputs": [
    {
     "name": "stdout",
     "output_type": "stream",
     "text": [
      "1.05\n",
      "802.8766071665997\n"
     ]
    }
   ],
   "source": [
    "#intrinsic merger rate of all systems at redshift of interest\n",
    "# say I want to know it in the 10th shell which is centered around\n",
    "#central redshift in the shell \n",
    "print(CI.Shell_centerRedshift[10])\n",
    "TotalIntrinsicRateAtSHell = np.sum(CI.PerSystemPerRedshift_ratesIntrinsic[10])\n",
    "print(TotalIntrinsicRateAtSHell)"
   ]
  },
  {
   "cell_type": "code",
   "execution_count": 29,
   "metadata": {},
   "outputs": [
    {
     "data": {
      "text/plain": [
       "Text(0, 0.5, 'rate Intrinsic [dN/dGpc3/dYr]')"
      ]
     },
     "execution_count": 29,
     "metadata": {},
     "output_type": "execute_result"
    },
    {
     "data": {
      "image/png": "[encoded data removed]",
      "text/plain": [
       "<Figure size 432x288 with 1 Axes>"
      ]
     },
     "metadata": {
      "needs_background": "light"
     },
     "output_type": "display_data"
    }
   ],
   "source": [
    "# Plot the intrinsic rate in shell\n",
    "z         = CI.Shell_centerRedshift\n",
    "#Now use numpy to just collapse all values\n",
    "rate      = np.sum(CI.PerSystemPerRedshift_ratesIntrinsic, axis=1)\n",
    "\n",
    "fig, axes = plt.subplots(1,1)\n",
    "axes.plot(z, rate)\n",
    "axes.set_xlabel('redshift')\n",
    "axes.set_ylabel('rate Intrinsic [dN/dGpc3/dYr]')"
   ]
  },
  {
   "cell_type": "markdown",
   "metadata": {},
   "source": [
    "## Example mask rate by mass and get observed rate\n",
    "\n",
    "The columns in the 2D array relate to the individual systems. They are ordered the same\n",
    "as the systems in the classCOMPAS. Hence we can use the parameters in the classCOMPAS\n",
    "to create a mask for our result!!! (hence the lazy data :) )\n",
    "\n",
    "Now a detector looks at all redshift simultaneously so lets sum the rate of each system from every shell in the detector frame. I.e. collapse to array of length number systems"
   ]
  },
  {
   "cell_type": "code",
   "execution_count": 30,
   "metadata": {},
   "outputs": [
    {
     "name": "stdout",
     "output_type": "stream",
     "text": [
      "304\n"
     ]
    }
   ],
   "source": [
    "ratePerSystemObserved = np.sum(CI.PerSystemPerRedshift_ratesObserved, axis=0)\n",
    "print(len(ratePerSystemObserved))"
   ]
  },
  {
   "cell_type": "code",
   "execution_count": 31,
   "metadata": {},
   "outputs": [
    {
     "data": {
      "image/png": "[encoded data removed]",
      "text/plain": [
       "<Figure size 432x288 with 1 Axes>"
      ]
     },
     "metadata": {
      "needs_background": "light"
     },
     "output_type": "display_data"
    }
   ],
   "source": [
    "# plot chirp mass distribution\n",
    "\n",
    "chirpMass  = CI.COMPAS.mChirp\n",
    "#for every chirpmass I know the rate at which you observe\n",
    "ratePerSystemObserved = np.sum(CI.PerSystemPerRedshift_ratesObserved, axis=0)\n",
    "\n",
    "#I only want systems with chirp masses below 10 Msun (for some reason)\n",
    "mask      = chirpMass < 10\n",
    "\n",
    "\n",
    "binsMchirp = np.linspace(0,15,20)\n",
    "dMchirp    = np.diff(binsMchirp)\n",
    "center     = (binsMchirp[1:]+binsMchirp[:-1])/2.\n",
    "\n",
    "yvalues, _ = np.histogram(chirpMass[mask], bins=binsMchirp, \\\n",
    "                          weights=ratePerSystemObserved[mask])\n",
    "\n",
    "dydMchirp  = np.divide(yvalues, dMchirp)\n",
    "\n",
    "fig, axes = plt.subplots(1,1)\n",
    "axes.plot(center, dydMchirp)\n",
    "axes.set_xlabel('Mchirp Msun')\n",
    "axes.set_ylabel('rate detect dN/dyr/dMchirp')\n",
    "plt.show()"
   ]
  },
  {
   "cell_type": "markdown",
   "metadata": {},
   "source": [
    "# 3 - Loop over the cosmic Integrator\n",
    "\n",
    "Once the class is set you could quickly change prescription or DCO\n",
    "type and recalculate without having to redo the entire instance.\n",
    "This especially saves time in terms of reading/setting the COMPASdata\n",
    "and preparing the 2D arrays in the classCosmicIntegrator. The exception being \n",
    "if you loop over the data or change the redshift shells. We provide an example in both cases"
   ]
  },
  {
   "cell_type": "code",
   "execution_count": 32,
   "metadata": {},
   "outputs": [
    {
     "name": "stdout",
     "output_type": "stream",
     "text": [
      "total predicted rate for O1 for SFR=174.0 mergers per year\n",
      "total predicted rate for O1 for SFR=137.0 mergers per year\n",
      "total predicted rate for O1 for SFR=299.0 mergers per year\n",
      "total predicted rate for O1 for SFR=158.0 mergers per year\n"
     ]
    }
   ],
   "source": [
    "# loop over prescriptions using the already defined class\n",
    "\n",
    "#data and redshift shells remain unchanged\n",
    "SFRprescriptions = ['Madau et al. (2014)',\\\n",
    "                    'Madau et al. (2017)',\\\n",
    "                    'Strolger et al. (2004)',\\\n",
    "                    'Neijssel et al. (2019)']\n",
    "\n",
    "for SFRprescription in SFRprescriptions:\n",
    "    #change SFR\n",
    "    CI.MSSFR.SFRprescription = SFRprescription\n",
    "    #calculate the result\n",
    "    CI.cosmologicalIntegration()\n",
    "    #print the total observed rate\n",
    "    observedRate = np.round(np.sum(CI.PerSystemPerRedshift_ratesObserved))\n",
    "    print('total predicted rate for %s for SFR=%s mergers per year' \\\n",
    "          %(CI.GWdetector_sensitivity, observedRate))"
   ]
  },
  {
   "cell_type": "code",
   "execution_count": 33,
   "metadata": {},
   "outputs": [
    {
     "name": "stdout",
     "output_type": "stream",
     "text": [
      "------total predicted rate for BBH =158.0 mergers per year\n",
      "------total predicted rate for BHNS =2.0 mergers per year\n",
      "------total predicted rate for BNS =0.0 mergers per year\n"
     ]
    }
   ],
   "source": [
    "# loop over prescriptions using the already defined class\n",
    "\n",
    "#careful the SFR is still the one of the previous cell!\n",
    "\n",
    "#loop over DCO types changing the Data \n",
    "#This takes longer\n",
    "\n",
    "types = ['BBH', 'BHNS', 'BNS']\n",
    "\n",
    "for t in types:\n",
    "    \n",
    "    # which DCOs I want\n",
    "    CI.COMPAS.setCOMPASDCOmask(types=t, pessimistic=True) \n",
    "    # Get me the data\n",
    "    CI.COMPAS.setCOMPASData()\n",
    "    \n",
    "    #the number of systems and their delay times have changed \n",
    "    #reset arrays results. Note that this goes considerably faster\n",
    "    #then the first time we do this, because we dont recalculate\n",
    "    #the redshift table if it is already done :) :) :)\n",
    "    CI.setBirthTimesAnd2Darrays()\n",
    "    \n",
    "    #calculate\n",
    "    CI.cosmologicalIntegration()\n",
    "\n",
    "    #print the total observed rate\n",
    "    observedRate = np.round(np.sum(CI.PerSystemPerRedshift_ratesObserved))\n",
    "    print('------total predicted rate for %s =%s mergers per year' \\\n",
    "          %(t, observedRate))"
   ]
  },
  {
   "cell_type": "markdown",
   "metadata": {},
   "source": [
    "Note that his means that if you want to loop over \n",
    "both DCO types and SFR prescriptions, it is more time-efficient\n",
    "to loop over types first and then SFR prescriptions.\n",
    "\n",
    "With this you should be all set. good luck\n",
    "For more info on how to create plots using this pipeline see\n",
    "the plotting library in the postProcessing notes :)\n",
    "    \n",
    "    "
   ]
  },
  {
   "cell_type": "code",
   "execution_count": null,
   "metadata": {
    "collapsed": true
   },
   "outputs": [],
   "source": []
  }
 ],
 "metadata": {
  "kernelspec": {
   "display_name": "Python 3",
   "language": "python",
   "name": "python3"
  },
  "language_info": {
   "codemirror_mode": {
    "name": "ipython",
    "version": 3
   },
   "file_extension": ".py",
   "mimetype": "text/x-python",
   "name": "python",
   "nbconvert_exporter": "python",
   "pygments_lexer": "ipython3",
   "version": "3.7.1"
  }
 },
 "nbformat": 4,
 "nbformat_minor": 2
}
