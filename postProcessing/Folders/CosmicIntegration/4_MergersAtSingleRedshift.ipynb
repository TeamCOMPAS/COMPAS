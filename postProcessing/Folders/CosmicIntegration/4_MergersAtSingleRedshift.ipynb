{
 "cells": [
  {
   "cell_type": "code",
   "execution_count": 19,
   "metadata": {},
   "outputs": [],
   "source": [
    "# Magic function to set the backend of matplotlib to the 'inline' backend\n",
    "%matplotlib inline"
   ]
  },
  {
   "cell_type": "markdown",
   "metadata": {},
   "source": [
    "# Introduction\n",
    "\n",
    "Here we show how to calculate the merger rate density of systems\n",
    "merging at a single redshift z. By now we assume you understand the indiviual pipelines of;\n",
    "\n",
    "ClassCOMPAS:\n",
    "\n",
    "    -- (handling the (mock) data needed)\n",
    "    \n",
    "ClassMSSFR:\n",
    "\n",
    "    -- defining the model for metallicity specific SFR\n",
    "    \n",
    "selection_effects:\n",
    "\n",
    "    -- module to calculate probility detecting a system\n",
    "\n",
    "\n",
    "\n",
    "Here we show which additional steps are needed for the calculation.\n",
    "All these steps are done by default in the ClassCosmicIntegrator.\n",
    "We highlight the steps here outside the function for clarity\n",
    "since the ClassCosmicIntegrator merely acts as a giant for loop over multiple redshifts and a way to conveniently store the results"
   ]
  },
  {
   "cell_type": "markdown",
   "metadata": {},
   "source": [
    "# Paths"
   ]
  },
  {
   "cell_type": "code",
   "execution_count": 2,
   "metadata": {},
   "outputs": [],
   "source": [
    "import os\n",
    "\n",
    "pathNoteBook    = os.getcwd()\n",
    "pathScripts     = pathNoteBook + '/PythonScripts/'\n",
    "\n",
    "\n",
    "pathData        = '/Users/lieke/surfdrive/Documents/test_CI/COMPAS_Output/'#\"/home/cneijssel/Desktop/Test/\"\n"
   ]
  },
  {
   "cell_type": "markdown",
   "metadata": {},
   "source": [
    "# Imports"
   ]
  },
  {
   "cell_type": "code",
   "execution_count": 3,
   "metadata": {},
   "outputs": [],
   "source": [
    "import numpy as np\n",
    "import sys\n",
    "import matplotlib.pyplot as plt\n",
    "\n",
    "from   astropy.cosmology import WMAP9 as cosmology\n",
    "from   scipy.optimize import newton\n",
    "#custom scripts\n",
    "sys.path.append(pathScripts)\n",
    "import ClassCOMPAS \n",
    "import ClassMSSFR  \n",
    "\n",
    "\n"
   ]
  },
  {
   "cell_type": "markdown",
   "metadata": {},
   "source": [
    "# 1- Set up data and MSSFR model"
   ]
  },
  {
   "cell_type": "code",
   "execution_count": 4,
   "metadata": {},
   "outputs": [
    {
     "name": "stdout",
     "output_type": "stream",
     "text": [
      "ClassCOMPAS: Remember to self.setCOMPASDCOmask()\n",
      "                    then self.setCOMPASData()\n",
      "          and optionally self.setGridAndMassEvolved() if using a metallicity grid\n"
     ]
    }
   ],
   "source": [
    "# Create instance COMPAS data class\n",
    "\n",
    "COMPAS = ClassCOMPAS.COMPASData(path=pathData, fileName='COMPAS_Output.h5')\n"
   ]
  },
  {
   "cell_type": "code",
   "execution_count": 6,
   "metadata": {},
   "outputs": [],
   "source": [
    "#Set the type of DCO of interest and recover their parameters\n",
    "COMPAS.Mlower = 15\n",
    "COMPAS.Mupper = 150\n",
    "COMPAS.binaryFraction =0.7\n",
    "\n",
    "COMPAS.setGridAndMassEvolved()\n",
    "\n",
    "COMPAS.setCOMPASDCOmask() #Pessimistic BBHs\n",
    "COMPAS.setCOMPASData()"
   ]
  },
  {
   "cell_type": "code",
   "execution_count": 7,
   "metadata": {},
   "outputs": [
    {
     "name": "stdout",
     "output_type": "stream",
     "text": [
      "ClassMSSFR: Remember to set self.SFRprescription() + subparts\n",
      "                            self.Zprescription()   +sub-parts\n"
     ]
    }
   ],
   "source": [
    "# The MSSFR model\n",
    "\n",
    "#use the metallicityGrid of the Data\n",
    "metallicityGrid = COMPAS.metallicityGrid\n",
    "\n",
    "#Create instance Class\n",
    "MSSFR = ClassMSSFR.MSSFR(metallicityGrid=metallicityGrid)\n"
   ]
  },
  {
   "cell_type": "code",
   "execution_count": 8,
   "metadata": {},
   "outputs": [],
   "source": [
    "#Set the MSSFR model\n",
    "MSSFR.SFRprescription = 'Neijssel et al. (2019)'\n",
    "MSSFR.Zprescription = 'logNormal'\n",
    "MSSFR.logNormalPrescription ='Neijssel Phenomenological'"
   ]
  },
  {
   "cell_type": "markdown",
   "metadata": {},
   "source": [
    "# 2 - Define the redshifts\n",
    "\n",
    "The entire calculation depends on defining a redshift\n",
    "at which the DCOs merge. Then using the delaytimes and astropy\n",
    "you need to recover when the systems were born\n",
    "\n",
    "First define our cosmology"
   ]
  },
  {
   "cell_type": "code",
   "execution_count": 9,
   "metadata": {},
   "outputs": [],
   "source": [
    "# see top notebook"
   ]
  },
  {
   "cell_type": "code",
   "execution_count": 10,
   "metadata": {},
   "outputs": [],
   "source": [
    "mergerRedshift = 0.2\n",
    "\n",
    "#Define an age when the first stars formed based on redshift\n",
    "firstSFR = cosmology.age(10).value\n",
    "#single value in units of Gyr\n",
    "ageUniverseAtMergerGyr = cosmology.age(mergerRedshift)\n",
    "#Recover the array delaytimes in Units of Gyr\n",
    "delayTimeGyr = np.divide(COMPAS.delayTimes, 1000)\n",
    "#Calculate the age at which they were born\n",
    "ageBirth   = ageUniverseAtMergerGyr.value - delayTimeGyr\n",
    "#If they are born before first SFR mask them\n",
    "maskUnreal = ageBirth<firstSFR\n",
    "#I set those to minus 1 to label them\n",
    "#This way we can use this as a mask everywhere instead of having\n",
    "#to slice the data in different ways. Useful for larger calculations\n",
    "ageBirth[maskUnreal] = -1\n"
   ]
  },
  {
   "cell_type": "markdown",
   "metadata": {},
   "source": [
    "Note that the above might further reduce the number of DCOs in the data, despite we use the flag merger in a Hubble time. This because that flag assumes redshift is zero. When we change our reference frame to higher redshifts, then the universe is younger and therefore fewer systems will be able to merge in  time\n",
    "\n",
    "We set the unphysical systems to -1. This because later when we loop over redshifts the number of possible systems can vary. However I want to fill in the rates in a predefined 2D array of fixed shape (nr systems, nr of redshift bins). Hence I assume the largest array (size of nr of DCOs) and set the rate to zero in case.  Note that the MSSFR script also depends on the mask of systems being unreal of -1. (see returnMSSFR())\n",
    "\n",
    "To recover the redshift it is a bit tricky. Astropy can quicly\n",
    "calculate the age from redshift, but the inverse is more difficult.\n",
    "In the code we use look up the nearest value in a dense precalculated table.\n",
    "Here we use a older method to calculate (for credits see source code classCosmicintegrator) which is considerably slower. "
   ]
  },
  {
   "cell_type": "code",
   "execution_count": 11,
   "metadata": {},
   "outputs": [],
   "source": [
    "redshiftsBirth = np.zeros(len(ageBirth))\n",
    "for nr, age in enumerate(ageBirth):\n",
    "    if age != -1:\n",
    "        redshiftsBirth[nr] = newton(lambda x: cosmology.age(x).value-age, 0)\n",
    "        \n",
    "    else:\n",
    "        redshiftsBirth[nr] = -1"
   ]
  },
  {
   "cell_type": "code",
   "execution_count": 12,
   "metadata": {},
   "outputs": [
    {
     "name": "stdout",
     "output_type": "stream",
     "text": [
      "nr of DCOs 19, nr DCOs merging 19\n"
     ]
    }
   ],
   "source": [
    "print(\"nr of DCOs %s, nr DCOs merging %s\"\\\n",
    "     %(len(COMPAS.delayTimes), np.sum(ageBirth!=-1)))\n"
   ]
  },
  {
   "cell_type": "markdown",
   "metadata": {},
   "source": [
    "# Calculate the rate of systems per metallicity\n",
    "\n",
    "The code is structured to do the calculation per subpopulation of DCOs of a single metallicity. Note that if the system was not physically possible (age == -1) then the rate is set to zero."
   ]
  },
  {
   "cell_type": "code",
   "execution_count": 13,
   "metadata": {},
   "outputs": [],
   "source": [
    "#create an array for rate per system merging at redshift z\n",
    "ratePerSystem = np.zeros(len(COMPAS.delayTimes))"
   ]
  },
  {
   "cell_type": "code",
   "execution_count": 14,
   "metadata": {},
   "outputs": [],
   "source": [
    "for nrZ, Z in enumerate(metallicityGrid):\n",
    "    maskZ    = COMPAS.metallicitySystems == Z\n",
    "    #give MSSFR per system which has metallicity Z [Msun/dGpc3/dyr]\n",
    "    mssfr    = MSSFR.returnMSSFR(metallicity=Z,\\\n",
    "                                 agesBirth  =ageBirth[maskZ],\n",
    "                                 redshiftBirth=redshiftsBirth[maskZ])\n",
    "    #Calculate rate using amount of Msun evolved [dN/dGpc3/dyr]\n",
    "    RatesZ   = np.divide(mssfr, COMPAS.totalMassEvolvedPerZ[nrZ])\n",
    "    #Fill the rates in the defined array according to mask\n",
    "    ratePerSystem[maskZ] = RatesZ"
   ]
  },
  {
   "cell_type": "code",
   "execution_count": 15,
   "metadata": {},
   "outputs": [
    {
     "name": "stdout",
     "output_type": "stream",
     "text": [
      "[0.00142]\n"
     ]
    }
   ],
   "source": [
    "print(metallicityGrid)"
   ]
  },
  {
   "cell_type": "code",
   "execution_count": 16,
   "metadata": {},
   "outputs": [
    {
     "name": "stdout",
     "output_type": "stream",
     "text": [
      "[113.58954022  42.63850121  43.63640751  48.95943414  45.89350266\n",
      " 103.88864283  39.28588509  40.45210129  39.75191701  47.70707998\n",
      "  71.26510367  40.79324527  39.34333569 106.02539307  53.23760513\n",
      "  39.40500536  40.51284623  40.5421396   40.18914844]\n"
     ]
    }
   ],
   "source": [
    "print(ratePerSystem)"
   ]
  },
  {
   "cell_type": "code",
   "execution_count": 17,
   "metadata": {},
   "outputs": [
    {
     "name": "stdout",
     "output_type": "stream",
     "text": [
      "1037.1168344022635\n"
     ]
    }
   ],
   "source": [
    "print(np.sum(ratePerSystem))"
   ]
  },
  {
   "cell_type": "code",
   "execution_count": 18,
   "metadata": {},
   "outputs": [
    {
     "data": {
      "image/png": "[encoded data removed]",
      "text/plain": [
       "<Figure size 648x576 with 1 Axes>"
      ]
     },
     "metadata": {
      "needs_background": "light"
     },
     "output_type": "display_data"
    }
   ],
   "source": [
    "# Using the rates in a histogram\n",
    "\n",
    "chirpMasses = COMPAS.mChirp\n",
    "\n",
    "binsM = np.linspace(0,30,100)\n",
    "dM    = np.diff(binsM)\n",
    "center= (binsM[1:]+binsM[:-1])/2.\n",
    "\n",
    "#remember that the reight is essentially a weight per system\n",
    "\n",
    "y , _     = np.histogram(chirpMasses, bins=binsM, \\\n",
    "                     weights=ratePerSystem)\n",
    "\n",
    "dydMchirp = np.divide(y, dM)\n",
    "\n",
    "fig, axes = plt.subplots(1,1, figsize=(9,8))\n",
    "axes.plot(center, dydMchirp)\n",
    "axes.set_xlabel('chirp mass [Msun]', fontsize=20)\n",
    "axes.set_ylabel('rate [yr-1 Gpc-3]', fontsize=20)\n",
    "axes.set_title('merger rate density at z=%s'\\\n",
    "               %(mergerRedshift), fontsize=20)\n",
    "plt.tight_layout()\n",
    "plt.show()\n"
   ]
  },
  {
   "cell_type": "markdown",
   "metadata": {},
   "source": [
    "Now here we only have the chirp mass distribution at a single redshift\n",
    "per unit volume. The next step is to do it over a range of redshifts\n",
    "and get the absolute rates."
   ]
  },
  {
   "cell_type": "code",
   "execution_count": null,
   "metadata": {
    "collapsed": true
   },
   "outputs": [],
   "source": []
  }
 ],
 "metadata": {
  "kernelspec": {
   "display_name": "Python 3",
   "language": "python",
   "name": "python3"
  },
  "language_info": {
   "codemirror_mode": {
    "name": "ipython",
    "version": 3
   },
   "file_extension": ".py",
   "mimetype": "text/x-python",
   "name": "python",
   "nbconvert_exporter": "python",
   "pygments_lexer": "ipython3",
   "version": "3.7.1"
  }
 },
 "nbformat": 4,
 "nbformat_minor": 2
}
