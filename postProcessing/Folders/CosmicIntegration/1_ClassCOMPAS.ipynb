{
 "cells": [
  {
   "cell_type": "markdown",
   "metadata": {},
   "source": [
    "# Introduction\n",
    "\n",
    "In order to calculate the formation rate of a type of double compact object at a given redshift, we need to know:\n",
    "\n",
    "1 - The grid of metallicities we assume for the integral\n",
    "\n",
    "2 - The amount of solar mass evolved per metallicity per system $\\frac{d}{dMsun}(Z)$\n",
    "\n",
    "3 - The type of double compact object (DCO) we are interested in \n",
    "\n",
    "4 - The metallicity  $Z$ at which each DCO formed and the\n",
    "    delay time (time from formation till merger) $t_c$ for each DCO\n",
    "\n",
    "\n",
    "Given a time at which it merges we can then calculate the time at which it formed to recover the MSSFR ($\\frac{dMsun}{dt})$ \n",
    "\n",
    "\n",
    "In addition we need to know the component masses of the system in order to calculate any selection effects\n",
    "\n",
    "\n",
    "The ClassCOMPAS.py is there to store the information that we need such that we can access it quickly when calculating the rates."
   ]
  },
  {
   "cell_type": "markdown",
   "metadata": {},
   "source": [
    "# Paths"
   ]
  },
  {
   "cell_type": "code",
   "execution_count": 23,
   "metadata": {},
   "outputs": [],
   "source": [
    "import os\n",
    "pathNoteBook     = os.getcwd()\n",
    "pathClassCOMPAS  = pathNoteBook + '/PythonScripts/'\n",
    "pathData        = \"/home/cneijssel/Desktop/Test/\""
   ]
  },
  {
   "cell_type": "markdown",
   "metadata": {},
   "source": [
    "# Imports"
   ]
  },
  {
   "cell_type": "code",
   "execution_count": 24,
   "metadata": {},
   "outputs": [],
   "source": [
    "import numpy as np\n",
    "import sys\n",
    "sys.path.append(pathClassCOMPAS)\n",
    "import ClassCOMPAS"
   ]
  },
  {
   "cell_type": "markdown",
   "metadata": {},
   "source": [
    "# Creating an instance of the COMPAS data class"
   ]
  },
  {
   "cell_type": "markdown",
   "metadata": {},
   "source": [
    "To create an instance of the COMPAS output class, we need to specify the following attributes:\n",
    "\n",
    "    path      = None\n",
    "    fileName  = 'COMPAS_output.h5'\n",
    "    \n",
    "    lazyData  = True\n",
    "\n",
    "    Mlower    = None\n",
    "    Mupper    = None\n",
    "    binaryFraction=None"
   ]
  },
  {
   "cell_type": "markdown",
   "metadata": {},
   "source": [
    "Path: \n",
    "    \n",
    "    path to the h5-data. \n",
    "    \n",
    "fileName:\n",
    "\n",
    "    name of the h5 data\n",
    "\n",
    "lazyData:\n",
    "\n",
    "    means we store additional info like the mass ratios, chirpmasses of \n",
    "    each DCO system. In principle this could be done externally but this\n",
    "    is slightly easier when plotting/combingin info later on, \n",
    "    but it does use more memory\n",
    "    \n",
    "    \n",
    "Mlower:\n",
    "\n",
    "    lower limit used for M1 in the pythonSubmit of the simulation. \n",
    "    Needed to recover `true' amount of Msun evolved (see step 4)\n",
    "    \n",
    "Mupper:\n",
    "\n",
    "    upper limit used for M1 in the pythonSubmit of the simulation. \n",
    "    Needed to recover `true' amount of Msun evolved (see step 4)\n",
    "\n",
    "binaryFraction:\n",
    "\n",
    "\n",
    "    assumed fraction of stars in binaries. \n",
    "    Needed to recover `true' amount of Msun evolved (see step 4)\n"
   ]
  },
  {
   "cell_type": "code",
   "execution_count": 25,
   "metadata": {
    "scrolled": true
   },
   "outputs": [
    {
     "name": "stdout",
     "output_type": "stream",
     "text": [
      "ClassCOMPAS: Remember to self.setGridAndMassEvolved()\n",
      "                   then  self.setCOMPASDCOmask()\n",
      "                   then  self.setCOMPASData()\n"
     ]
    }
   ],
   "source": [
    "#I assume all the defaults and just set the path\n",
    "COMPASData = ClassCOMPAS.COMPASData(path=pathData)"
   ]
  },
  {
   "cell_type": "markdown",
   "metadata": {},
   "source": [
    "The output are  reminders which will be explained in next steps"
   ]
  },
  {
   "cell_type": "markdown",
   "metadata": {},
   "source": [
    "# 1 Total mass Evolved\n",
    "\n",
    "In the COMPAS simulation we often only evolve massive stars.\n",
    "This means that the total mass in our simulation does not represent the total mass evolved\n",
    "in all stars. Here we recover an estimate of what that total mass is using the\n",
    "lower and upper mass for the primary from your python submit and assuming a binary fraction.\n",
    "\n",
    "The code will then check your data and test per metallicity how much mass is evolved.\n",
    "It assumes the metallicities are subject to the same pytonSubmit, but maybe due to sampling had a different number of systems. It also recovers from the data what metallicity grid is used"
   ]
  },
  {
   "cell_type": "code",
   "execution_count": 26,
   "metadata": {},
   "outputs": [],
   "source": [
    "COMPASData.Mlower = 5\n",
    "COMPASData.Mupper = 150\n",
    "COMPASData.binaryFraction =0.7\n",
    "\n",
    "COMPASData.setGridAndMassEvolved()"
   ]
  },
  {
   "cell_type": "markdown",
   "metadata": {},
   "source": [
    "# 1.1 The grid of metallicities we assume for the integral"
   ]
  },
  {
   "cell_type": "markdown",
   "metadata": {},
   "source": [
    "By default the ClassCOMPAS will automatically try to recover the metallicity grid from the data/\n",
    "It assumes that metallicities of all the systems in the h5-data represent the assumed metallicity grid\n",
    "for the calculation. \n",
    "\n",
    "        metallicities =Data['SystemParameters']['Metallicity@ZAMS_1'][()]\n",
    "        self.metallicityGrid     = np.unique(metallicities)"
   ]
  },
  {
   "cell_type": "markdown",
   "metadata": {},
   "source": [
    "In principle you could instead overwrite this with your own metallicity grid. However\n",
    "remember to reassign the metallicities of each DCO and the amount of solar mass evolved per metallicity. However, we leave it at that for now. You can acces the grid by printing"
   ]
  },
  {
   "cell_type": "code",
   "execution_count": 27,
   "metadata": {},
   "outputs": [
    {
     "name": "stdout",
     "output_type": "stream",
     "text": [
      "[0.0142]\n"
     ]
    }
   ],
   "source": [
    "print(COMPASData.metallicityGrid)"
   ]
  },
  {
   "cell_type": "markdown",
   "metadata": {},
   "source": [
    "# 2 The amount of solar mass evolved per system per Z"
   ]
  },
  {
   "cell_type": "markdown",
   "metadata": {},
   "source": [
    "Again by default the ClassCOMPAS will automatically recover the amount of\n",
    "`true'  amount of solar mass evolved per system using the totalMassEvolvedPerZ script and\n",
    "by reading the total mass per system in the simulation. This recovers an amount of solar mass per metallicity of the metallicity grid (units Msun)."
   ]
  },
  {
   "cell_type": "code",
   "execution_count": 28,
   "metadata": {},
   "outputs": [
    {
     "name": "stdout",
     "output_type": "stream",
     "text": [
      "[484520.33588899]\n"
     ]
    }
   ],
   "source": [
    "print(COMPASData.totalMassEvolvedPerZ)"
   ]
  },
  {
   "cell_type": "markdown",
   "metadata": {},
   "source": [
    "# 3 The select type of DCO to calculate the merger rate for"
   ]
  },
  {
   "cell_type": "markdown",
   "metadata": {},
   "source": [
    "To recover the metallicities delaytimes and other parameters of the DCOs you are interested in we use a boolean mask. The boolean mask, which has the same length as the DCO h5 group, selects the systems we want to include in the calculation. \n",
    "\n",
    "You could set your own mask using any combination you want by\n",
    "\n",
    "    maskDCO = some criteria you like on the h5 data\n",
    "    COMPASData.DCOmask = maskDCO\n",
    "    \n",
    "However, usually we are interested in a specific group of merging DCOs assuming a type of physics. The setCOMPASDCOmask()  allows you to quickly set the mask without doing the slicing yourself and takes the following arguments (default then all options)\n",
    "\n",
    "    argument         = default   / options\n",
    "    types            =  'BBH'    / 'BBH', 'BNS', 'BHNS', 'All' (BBH, BNS, or BHNS)\n",
    "    withinHubbleTime =  True     / True, False \n",
    "    pessimistic      =  True     / True, False\n",
    "    noRLOFafterCEE   =  True     / True, False"
   ]
  },
  {
   "cell_type": "markdown",
   "metadata": {},
   "source": [
    "type: Type of double compact object (DCO) to mask for. Can also take the argument 'All' to mask for BBHs, BNSs, and BHNSs.\n",
    "\n",
    "withinHubbleTime: If True, only use DCOs that merge within a Hubble time.\n",
    "\n",
    "pessimistic: If True, mask out DCOs that have formed through a common-envelope event involving a Hertzsprung-gap donor. \n",
    "\n",
    "noRLOFafterCEE: If True, mask out DCOs that have at some point experienced RLOF immediately after a common-envelope event. "
   ]
  },
  {
   "cell_type": "code",
   "execution_count": 29,
   "metadata": {},
   "outputs": [
    {
     "name": "stdout",
     "output_type": "stream",
     "text": [
      "Warning no RLOF_SECONDARY_POST_COMMON_ENVELOPE column\n",
      "I will not mask the data for this\n",
      "Warning no Optimistic_Common_Envelope column\n",
      "I will not mask the data for this\n"
     ]
    }
   ],
   "source": [
    "COMPASData.setCOMPASDCOmask(types='BNS', optimistic=True)"
   ]
  },
  {
   "cell_type": "code",
   "execution_count": 30,
   "metadata": {},
   "outputs": [
    {
     "name": "stdout",
     "output_type": "stream",
     "text": [
      "nr systems =0 \n"
     ]
    }
   ],
   "source": [
    "#Check if we have any system meeting the criteria\n",
    "print('nr systems =%s ' %(np.sum(COMPASData.DCOmask)))"
   ]
  },
  {
   "cell_type": "markdown",
   "metadata": {},
   "source": [
    "# 4 - Get the metallicities and delay times\n",
    "\n",
    "using the DCO mask defined in step 3 the class can now get the parameters of interest\n",
    "for each mergingg DCO\n"
   ]
  },
  {
   "cell_type": "code",
   "execution_count": 31,
   "metadata": {},
   "outputs": [],
   "source": [
    "COMPASData.setCOMPASData()"
   ]
  },
  {
   "cell_type": "markdown",
   "metadata": {},
   "source": [
    "Now the data is set and you are ready to go"
   ]
  },
  {
   "cell_type": "markdown",
   "metadata": {},
   "source": [
    "\n",
    "# For different Data"
   ]
  },
  {
   "cell_type": "markdown",
   "metadata": {
    "collapsed": true
   },
   "source": [
    "If you have your own simulation which is different then the COMPAS data, or you want\n",
    "to test a toy model, then you can still use the set of pipelines for the cosmic integration.\n",
    "\n",
    "The only thing you need to do is construct your own arrays.\n",
    "\n",
    "Create an instance of the clasCOMPAS without a path"
   ]
  },
  {
   "cell_type": "code",
   "execution_count": 32,
   "metadata": {},
   "outputs": [
    {
     "name": "stdout",
     "output_type": "stream",
     "text": [
      "Just to double check you create instance of ClassCOMPAS without path/Data\n",
      "ClassCOMPAS: Remember to self.setGridAndMassEvolved()\n",
      "                   then  self.setCOMPASDCOmask()\n",
      "                   then  self.setCOMPASData()\n"
     ]
    }
   ],
   "source": [
    "MockData = ClassCOMPAS.COMPASData(path=None)"
   ]
  },
  {
   "cell_type": "markdown",
   "metadata": {},
   "source": [
    "Then manually set each array for\n",
    "\n",
    "    #grid for integral\n",
    "    MockData.metallicityGrid\n",
    "    MockData.totalMassEvolvedPerZ #same length array as grid\n",
    "    \n",
    "    #Metallicity of each system corresponding to a grid-point\n",
    "    MockData.metallicitySystems\n",
    "    MockData.delayTimes  #Myr\n",
    "    MockData.mass1       #Msun\n",
    "    MockData.mass2       #Msun    \n",
    "    #All four arrays are same length since they correspond to number of systems"
   ]
  },
  {
   "cell_type": "markdown",
   "metadata": {},
   "source": [
    "All other pipelines just read arrays and are independent of the data"
   ]
  },
  {
   "cell_type": "markdown",
   "metadata": {},
   "source": [
    "So you could sample from the IMF for M1 and M2, \n",
    "create a grid in metallicities and uniformly sample from the grid and then sample\n",
    "from a $t^{-1}$ delay time distribution, just note the assumed units :)\n",
    "\n",
    "If you then set the totalMassEvolvedperZ to an array of ones, then you can at least create\n",
    "predictions for the shape of the merger rate distributions. Since this array is only a normalization affecting the absolute rates."
   ]
  },
  {
   "cell_type": "code",
   "execution_count": null,
   "metadata": {},
   "outputs": [],
   "source": []
  }
 ],
 "metadata": {
  "kernelspec": {
   "display_name": "Python 3",
   "language": "python",
   "name": "python3"
  },
  "language_info": {
   "codemirror_mode": {
    "name": "ipython",
    "version": 3
   },
   "file_extension": ".py",
   "mimetype": "text/x-python",
   "name": "python",
   "nbconvert_exporter": "python",
   "pygments_lexer": "ipython3",
   "version": "3.6.5"
  }
 },
 "nbformat": 4,
 "nbformat_minor": 2
}