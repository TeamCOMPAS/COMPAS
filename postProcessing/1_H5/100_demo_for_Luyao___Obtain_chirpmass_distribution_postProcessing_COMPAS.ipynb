{
 "cells": [
  {
   "cell_type": "markdown",
   "metadata": {},
   "source": [
    "# Introduction \n",
    "\n",
    "\n",
    "Using the jupyter notebook 1_combineCSVtoH5 you should now have a COMPAS output file in hdf5 format, e.g. with the name **COMPASOutput.h5**. This jupyter notebook is written for Luyao's project and will obtain the chirpmass distribution (with selection effects of the double compact type, and pessimistic/optimistic) for the new COMPAS code. The outcome of this jupyter notebook is a chirpmass distribution and an array of chirp masses."
   ]
  },
  {
   "cell_type": "markdown",
   "metadata": {},
   "source": [
    "# Import libraries "
   ]
  },
  {
   "cell_type": "code",
   "execution_count": 3,
   "metadata": {},
   "outputs": [
    {
     "data": {
      "text/html": [
       "<style>.container { width:100% !important; }</style>"
      ],
      "text/plain": [
       "<IPython.core.display.HTML object>"
      ]
     },
     "metadata": {},
     "output_type": "display_data"
    }
   ],
   "source": [
    "import numpy as np\n",
    "import matplotlib.pyplot as plt\n",
    "import h5py as h5\n",
    "from matplotlib.ticker import AutoMinorLocator, MultipleLocator\n",
    "minor = AutoMinorLocator()\n",
    "\n",
    "from IPython.core.display import display, HTML\n",
    "display(HTML(\"<style>.container { width:100% !important; }</style>\"))\n",
    "\n"
   ]
  },
  {
   "cell_type": "markdown",
   "metadata": {},
   "source": [
    "# Set input"
   ]
  },
  {
   "cell_type": "code",
   "execution_count": 15,
   "metadata": {},
   "outputs": [],
   "source": [
    "# path to hdf5 output file\n",
    "pathCOMPASOutput = '/Users/floorbroekgaarden/Programs/newGithubCOMPAS/COMPAS/src/COMPAS_output.h5'\n",
    "\n",
    "fdata = h5.File(pathCOMPASOutput)\n"
   ]
  },
  {
   "cell_type": "markdown",
   "metadata": {},
   "source": [
    "# Obtain Chirp mass \n",
    "\n"
   ]
  },
  {
   "cell_type": "code",
   "execution_count": 54,
   "metadata": {},
   "outputs": [],
   "source": [
    "class postProcessingCOMPAS(object):\n",
    "\n",
    "    \n",
    "    \n",
    "    def __init__(self, hdf5, DCOtype, boolDCOmask):\n",
    "        \"\"\"\n",
    "        hdf5 = output file in hdf5 format\n",
    "        DCOtype = 'BBH' / 'ALL' / 'BHNS' or 'BNS' \n",
    "        boolDCOmask = [Hubble, RLOF, Pessimistic] # boolean values whether to mask mergers in a Hubble time, \n",
    "        binaries that have RLOFSecondaryAfterCEE = True, and Pessimistic binaries (i.e. optimisticCEFlag == 0)      \n",
    "        \"\"\"\n",
    "        self.hdf5 = hdf5  # \n",
    "        self.DCOtype = DCOtype\n",
    "        self.boolDCOmask = boolDCOmask\n",
    "\n",
    "\n",
    "        self.fDCO  = self.hdf5['DoubleCompactObjects']\n",
    "        self.fSN   = self.hdf5['Supernovae']\n",
    "        self.fCE  = self.hdf5['CommonEnvelopes']\n",
    "        self.fSystems = self.hdf5['SystemParameters']\n",
    "        self.totalSystems= len((self.hdf5['SystemParameters']['MZAMS_1'][...].squeeze()))\n",
    "\n",
    "            \n",
    "        \n",
    "        \n",
    "    def obtainData(self, param):\n",
    "        \"\"\"returns for STROOPWAFEL (AIS) simulation the data of wanted variable\n",
    "        combines the data from AIS_oratory and AIS_sampling \n",
    "\n",
    "        param = [xparam, fxparam] ,  are the name of the variable header and hdf5 keyname where it is in\n",
    "        e.g. param = ['MZAMS_1', 'DoubleCompactObjects'] (see also: print(list(fdata.keys())))\n",
    "        \"\"\" \n",
    "\n",
    "        xparam, fxparam = param\n",
    "        fAIS = self.hdf5\n",
    "    \n",
    "        \n",
    "\n",
    "        ##### get parameter from two directories and combine them ############\n",
    "        xvalues         = fAIS[fxparam][xparam][...].squeeze()\n",
    "        return   xvalues\n",
    "\n",
    "\n",
    "\n",
    "    def maskTarget(self):\n",
    "        \"\"\"returns mask of DCOs of interest\n",
    "        \"\"\"\n",
    "\n",
    "        Hubble, RLOF, Pessimistic = self.boolDCOmask\n",
    "\n",
    "                \n",
    "\n",
    "        # mask binaries of given DCO type\n",
    "        if self.DCOtype == 'BNS':\n",
    "            mask0 = ((self.fDCO['Stellar_Type_1'][...] == 13) & (self.fDCO['Stellar_Type_2'][...] == 13))\n",
    "        elif (self.DCOtype == 'BHNS') | (self.DCOtype == 'NSBH'):\n",
    "            mask0 = ((self.fDCO['Stellar_Type_1'][...] == 13) & (self.fDCO['Stellar_Type_2'][...] == 14)) | \\\n",
    "                ((self.fDCO['Stellar_Type_1'][...] == 14) & (self.fDCO['Stellar_Type_2'][...] == 13) )          \n",
    "        elif self.DCOtype == 'BBH':\n",
    "            mask0 = ((self.fDCO['Stellar_Type_1'][...] == 14) & (self.fDCO['Stellar_Type_2'][...] == 14))\n",
    "        elif (self.DCOtype == 'all') | (self.DCOtype == 'ALL') :\n",
    "            mask0 = ((self.fDCO['Stellar_Type_1'][...] == 14) | (self.fDCO['Stellar_Type_1'][...] == 13))\n",
    "        else:\n",
    "            print('error: DCO type not known')\n",
    "\n",
    "        # Hubble mask\n",
    "        if Hubble:\n",
    "            mask1 = (self.fDCO['Merges_Hubble_Time'][...]==True) \n",
    "        elif not Hubble:\n",
    "            mask1 = (self.fDCO['Merges_Hubble_Time'][...]==True) |  (self.fDCO['Merges_Hubble_Time'][...]==False) \n",
    "        # RLOF mask\n",
    "        if RLOF:\n",
    "            mask2 = (self.fDCO['RLOF_Secondary>CE'][...]==False)\n",
    "        elif not RLOF:\n",
    "            mask2 = (self.fDCO['RLOF_Secondary>CE'][...]==False) | (self.fDCO['RLOF_Secondary>CE'][...]==True)\n",
    "        # Pessimistic mask :  if True mask systems that have optimistic CE flag ==1\n",
    "        if Pessimistic:\n",
    "            mask3 = np.logical_not(self.fDCO[\"Optimistic_CE\"][...] == 1)\n",
    "        elif not Pessimistic:\n",
    "            mask3 = np.logical_not(self.fDCO[\"Optimistic_CE\"][...] == 1) + \\\n",
    "            np.logical_not(self.fDCO[\"Optimistic_CE\"][...] == 0)   \n",
    "\n",
    "                \n",
    "        # combine the different masks and the oratory and refinement masks\n",
    "        combinedmask = mask0 * mask1 * mask2 * mask3\n",
    "        combinedmask = combinedmask.squeeze()\n",
    "\n",
    "\n",
    "        return combinedmask\n",
    "\n",
    "\n",
    "\n",
    "\n",
    "\n",
    "    def chirpmass(self, m1, m2):\n",
    "        numer = (m1*m2)**(3/5)\n",
    "        denom = (m1+m2)**(1/5)\n",
    "\n",
    "        return numer/denom\n",
    "\n",
    "\n",
    "\n",
    "\n",
    "    def obtainM1BHandM2BHassymetric(self, m1, m2):\n",
    "        \"\"\"returns ordered masses, where m1 will always be the most massive\n",
    "        and m2 the least massive object of the binary\"\"\"\n",
    "        m1bh, m2bh = np.zeros_like(m1), np.zeros_like(m1)\n",
    "        maskm1heavier = ( m1 >= m2)\n",
    "        maskm2heavier = (m1 < m2)\n",
    "\n",
    "        m1bh[maskm1heavier] = m1[maskm1heavier] \n",
    "        m1bh[maskm2heavier] = m2[maskm2heavier]\n",
    "        m2bh[maskm1heavier] = m2[maskm1heavier]\n",
    "        m2bh[maskm2heavier] = m1[maskm2heavier]\n",
    "\n",
    "        return m1bh, m2bh # m1bh has all the heaviest systems\n",
    "\n",
    "\n",
    "\n",
    "        \n",
    "        \n",
    "    def getvariables(self, var_x, var_y):\n",
    "        '''\n",
    "        var_x = name of x variable we want to get (has to live in DCO file)\n",
    "        var_y = name of y variable we want to get (has to live in DCO file)\n",
    "        '''\n",
    "\n",
    "\n",
    "        if self.metallicity:\n",
    "            # mask specific requested metallicity  \n",
    "            maskDCO_temp = self.maskTargetDCOsSTROOPWAFEL(self,\\\n",
    "                                                otherSelection=None, otherparam=None) \n",
    "            maskDCO = (self.fDCO['Metallicity1'][...].squeeze() == self.metallicity) & (maskDCO_temp == 1)\n",
    "\n",
    "        else:\n",
    "            #Only want selected DCO type (combines all metallicities & does not mask specific metallicity)\n",
    "            maskDCO = self.maskTargetDCOsSTROOPWAFEL(self,\\\n",
    "                                                otherSelection=None, otherparam=None)\n",
    "\n",
    "\n",
    "        #Because I dont want to retype the columns every time and I dont want \n",
    "        #all the data \n",
    "#             metallicities    = np.log10((fDCO['Metallicity1'][...][maskDCO].squeeze())/0.0142)\n",
    "        varx             = self.fDCO[var_x][...][maskDCO].squeeze()\n",
    "        vary             = self.fDCO[var_y][...][maskDCO].squeeze()\n",
    "\n",
    "\n",
    "\n",
    "        return varx, vary\n",
    "\n",
    "\n",
    "\n",
    "\n",
    "    \n",
    "\n",
    "\n",
    "\n",
    "\n",
    "    \n",
    "    \n",
    "\n",
    "\n",
    "\n"
   ]
  },
  {
   "cell_type": "markdown",
   "metadata": {},
   "source": [
    "The following block prints the datafiles in the COMPAS hdf5 output files. In addition, it prints for the datafile 'DoubleCompactObjects' the header names of the parameters. <br>\n",
    "These can be used as input in the variable **param = [headername, datafilename]** in the function below. "
   ]
  },
  {
   "cell_type": "code",
   "execution_count": 25,
   "metadata": {},
   "outputs": [
    {
     "name": "stdout",
     "output_type": "stream",
     "text": [
      "\n",
      "the hdf5 file contains the following datafiles:\n",
      "<KeysViewHDF5 ['CommonEnvelopes', 'DoubleCompactObjects', 'RLOF', 'Supernovae', 'SystemParameters']>\n",
      "\n",
      "The DoubleCompactObjects file contains the following parameter headers:\n",
      "<KeysViewHDF5 ['Binding_Energy@CE_1', 'Binding_Energy@CE_2', 'CEE', 'CE_Alpha', 'Coalescence_Time', 'Double_Core_CE', 'Eccentricity<2ndSN', 'Eccentricity<CE', 'Eccentricity>CE', 'Eccentricity@DCO', 'Eccentricity_0', 'Experienced_SN_Type_1', 'Experienced_SN_Type_2', 'ID', 'Kick_Velocity_1', 'Kick_Velocity_2', 'LBV_Multiplier', 'Lambda@CE_1', 'Lambda@CE_2', 'MT_Case_1', 'MT_Case_2', 'MZAMS_1', 'MZAMS_2', 'Mass_0_1', 'Mass_0_2', 'Mass_1', 'Mass_2', 'Mass_CO_Core@CE_1', 'Mass_CO_Core@CE_2', 'Mass_CO_Core@CO_1', 'Mass_CO_Core@CO_2', 'Mass_Core@CE_1', 'Mass_Core@CE_2', 'Mass_Core@CO_1', 'Mass_Core@CO_2', 'Mass_He_Core@CE_1', 'Mass_He_Core@CE_2', 'Mass_He_Core@CO_1', 'Mass_He_Core@CO_2', 'Mass_Total@CO_1', 'Mass_Total@CO_2', 'Merges_Hubble_Time', 'Metallicity_1', 'Metallicity_2', 'Optimistic_CE', 'Orb_Velocity<2ndSN', 'Orbital_Energy<SN_1', 'Orbital_Energy<SN_2', 'Orbital_Energy>SN_1', 'Orbital_Energy>SN_2', 'RLOF_Secondary>CE', 'Recycled_NS_1', 'Recycled_NS_2', 'RocheLobe_1<CE', 'RocheLobe_1>CE', 'RocheLobe_2<CE', 'RocheLobe_2>CE', 'SEED', 'SN_Phi_1', 'SN_Phi_2', 'SN_Theta_1', 'SN_Theta_2', 'SN_Type_1', 'SN_Type_2', 'Separation', 'Separation<2ndSN', 'Separation<CE', 'Separation>CE', 'Separation@DCO', 'Sigma_Kick_CCSN_BH', 'Sigma_Kick_CCSN_NS', 'Stellar_Type_1', 'Stellar_Type_2', 'Stellar_Type_ZAMS_1', 'Stellar_Type_ZAMS_2', 'Time', 'WR_Multiplier']>\n"
     ]
    }
   ],
   "source": [
    "\n",
    "print()\n",
    "print('the hdf5 file contains the following datafiles:')\n",
    "print(fdata.keys())\n",
    "\n",
    "print()\n",
    "print('The DoubleCompactObjects file contains the following parameter headers:')\n",
    "print(fdata['DoubleCompactObjects'].keys())\n",
    "\n"
   ]
  },
  {
   "cell_type": "markdown",
   "metadata": {},
   "source": [
    "In the following block we will as an example read in the final masses of all BH-BH mergers <br>\n",
    "This is done by setting dcotype = 'BBH' to select this type of Double compact object merger (other options are \"ALL\" and \"BNS\" and \"BHNS\"  <br>\n",
    "In addition, we want to only select mergers that   (1)  merge in a Hubble time, (2) are in binaries that have RLOFSecondaryAfterCEE = False (3) are Pessimistic binaries (i.e. optimisticCEFlag == 0) \n",
    "and we do this using boolDCOmask = [Hubble, RLOF, Pessimistic] = [(1), (2), (3)] = [1,1,1]\n"
   ]
  },
  {
   "cell_type": "code",
   "execution_count": 46,
   "metadata": {},
   "outputs": [
    {
     "name": "stdout",
     "output_type": "stream",
     "text": [
      "32\n"
     ]
    },
    {
     "data": {
      "image/png": "[encoded data removed]",
      "text/plain": [
       "<Figure size 1152x720 with 1 Axes>"
      ]
     },
     "metadata": {
      "needs_background": "light"
     },
     "output_type": "display_data"
    }
   ],
   "source": [
    "\n",
    "\n",
    "\n",
    "boolmask=[1,1,1]\n",
    "dcotype = 'BBH'\n",
    "\n",
    "ppCOMPAS = postProcessingCOMPAS(hdf5=fdata, DCOtype=dcotype, boolDCOmask=boolmask)\n",
    "\n",
    "# read in parameters of interest:\n",
    "xvar1, xvar2 = ppCOMPAS.obtainData(param=['Mass_1','DoubleCompactObjects']), ppCOMPAS.obtainData(param=['Mass_2','DoubleCompactObjects'])\n",
    "DCOmask = ppCOMPAS.maskTarget()\n",
    "\n",
    "# now use DCOmask to obtain the BH masses of our selection of BH-BH mergers\n",
    "Mass_1_BBH, Mass_2_BBH = xvar1[DCOmask], xvar2[DCOmask]\n",
    "\n",
    "\n",
    "# and use the chirpmass function to transform Mass_1 and Mass_2 into a chirpmass:\n",
    "chirpmass_BBH = ppCOMPAS.chirpmass(Mass_1_BBH, Mass_2_BBH)\n",
    "print(len(chirpmass_BBH))\n",
    "\n",
    "\n",
    "# plot chirpmass distribution\n",
    "f, ax= plt.subplots(ncols=1, nrows=1, figsize=(16,10))\n",
    "fs=20\n",
    "ax.hist(chirpmass_BBH, bins=20, lw=3, density=True)\n",
    "\n",
    "\n",
    "ax.set_ylabel('PDF', fontsize=fs)\n",
    "ax.set_xlabel('chirpmass [${M}_{\\odot}$]', fontsize=fs)\n",
    "ax.tick_params(labelsize=fs)\n",
    "plt.show()\n",
    "\n",
    "\n",
    "\n"
   ]
  },
  {
   "cell_type": "markdown",
   "metadata": {},
   "source": [
    "note the plot doesnt look so smooth, because the total nr of BH-BHs in this simulation is just 32 and very small. This is because I ran a low nr of binaries in this dataset <br>\n",
    "You can set DCOmask = [0,1,1] to make it higher (and include also BH-BH systems that dont merge in a Hubble time)\n",
    "\n"
   ]
  },
  {
   "cell_type": "markdown",
   "metadata": {},
   "source": [
    "# Obtain other parameters \n",
    "\n",
    "If you want to obtain other properties of the above selected BH-BH binaries, such as the initial masses you can do something similar to this using the unique SEED identifier to cross-match the datafiles:\n",
    "\n"
   ]
  },
  {
   "cell_type": "code",
   "execution_count": 58,
   "metadata": {},
   "outputs": [
    {
     "data": {
      "image/png": "[encoded data removed]",
      "text/plain": [
       "<Figure size 1152x720 with 1 Axes>"
      ]
     },
     "metadata": {
      "needs_background": "light"
     },
     "output_type": "display_data"
    }
   ],
   "source": [
    "\n",
    "\n",
    "\n",
    "boolmask=[1,1,1]\n",
    "dcotype = 'BBH'\n",
    "\n",
    "ppCOMPAS = postProcessingCOMPAS(hdf5=fdata, DCOtype=dcotype, boolDCOmask=boolmask)\n",
    "\n",
    "# read in parameters of interest:\n",
    "xvar1, xvar2 = ppCOMPAS.obtainData(param=['MZAMS_1','SystemParameters']), ppCOMPAS.obtainData(param=['MZAMS_2','SystemParameters'])\n",
    "\n",
    "\n",
    "DCOmask = ppCOMPAS.maskTarget()\n",
    "\n",
    "#what are the seeds of the systems that form BBHs? First: obtain seeds from DoubleCompactObjects and systemParameters file\n",
    "SEED_DCO, SEED_sys = ppCOMPAS.obtainData(param=['SEED','DoubleCompactObjects']), ppCOMPAS.obtainData(param=['SEED','SystemParameters'])\n",
    "#Give me a bool of the lines in formation channels that form BBHs\n",
    "# this is the cross matching of the datafiles, it makes one mask (bools) for the systemParameters data\n",
    "SEED_BBH = SEED_DCO[DCOmask]\n",
    "bools = np.in1d(SEED_sys, SEED_BBH)\n",
    "\n",
    "\n",
    "\n",
    "# # now use DCOmask to obtain the BH masses of our selection of BH-BH mergers\n",
    "MZAMS_1_BBH, MZAMS_2_BBH = xvar1[bools], xvar2[bools]\n",
    "\n",
    "\n",
    "\n",
    "# plot birth masses of BH-BH that merge in a Hubble time, Pessimistic and have RLOFafterCEE==0 \n",
    "f, ax= plt.subplots(ncols=1, nrows=1, figsize=(16,10))\n",
    "fs=20\n",
    "ax.scatter(MZAMS_1_BBH, MZAMS_2_BBH, s=80)\n",
    "\n",
    "\n",
    "ax.set_ylabel('MZAMS 1 [${M}_{\\odot}$]', fontsize=fs)\n",
    "ax.set_xlabel('MZAMS 2 [${M}_{\\odot}$]', fontsize=fs)\n",
    "ax.tick_params(labelsize=fs)\n",
    "plt.show()\n",
    "\n",
    "\n",
    "\n",
    "\n"
   ]
  },
  {
   "cell_type": "code",
   "execution_count": null,
   "metadata": {},
   "outputs": [],
   "source": []
  }
 ],
 "metadata": {
  "kernelspec": {
   "display_name": "Python 3",
   "language": "python",
   "name": "python3"
  },
  "language_info": {
   "codemirror_mode": {
    "name": "ipython",
    "version": 3
   },
   "file_extension": ".py",
   "mimetype": "text/x-python",
   "name": "python",
   "nbconvert_exporter": "python",
   "pygments_lexer": "ipython3",
   "version": "3.7.4"
  }
 },
 "nbformat": 4,
 "nbformat_minor": 2
}
