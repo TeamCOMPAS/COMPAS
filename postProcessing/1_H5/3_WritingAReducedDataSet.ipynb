{
 "cells": [
  {
   "cell_type": "markdown",
   "metadata": {},
   "source": [
    "# Introduction\n",
    "\n",
    "The COMPAS simulations might be very large in data size\n",
    "while the actual data you need to reproduce your results could\n",
    "be small. Hence it might make sense to only publish a reduced number\n",
    "of files and columns based on some criteria.\n",
    "\n",
    "Here we show how you can reduce your data.\n",
    "The main things you need are:\n",
    "    \n",
    "1 - the seeds you want to have in your data\n",
    "\n",
    "2 - the files you want in your data\n",
    "\n",
    "3 - the columns you want for each file\n",
    "\n",
    "The plain python script to do this is placed in the H5 folder \n",
    "in postProcessing. Here we just show an example of how to reduce the data and call\n",
    "the script\n",
    "\n"
   ]
  },
  {
   "cell_type": "markdown",
   "metadata": {},
   "source": [
    "# Paths needed"
   ]
  },
  {
   "cell_type": "code",
   "execution_count": 1,
   "metadata": {
    "collapsed": true
   },
   "outputs": [],
   "source": [
    "pathToData = '/home/cneijssel/Desktop/IlyaData/VignaGomezRepeat/COMPAS_output.h5'"
   ]
  },
  {
   "cell_type": "markdown",
   "metadata": {},
   "source": [
    "# Imports"
   ]
  },
  {
   "cell_type": "code",
   "execution_count": 2,
   "metadata": {
    "collapsed": false
   },
   "outputs": [],
   "source": [
    "import h5py  as h5   #for handling data format\n",
    "import numpy as np  #for array handling\n",
    "import os           #For checking existence data\n",
    "\n",
    "import WriteH5File"
   ]
  },
  {
   "cell_type": "markdown",
   "metadata": {},
   "source": [
    "# 1  Loading Data"
   ]
  },
  {
   "cell_type": "code",
   "execution_count": 3,
   "metadata": {
    "collapsed": false
   },
   "outputs": [
    {
     "name": "stdout",
     "output_type": "stream",
     "text": [
      "The main files I have at my disposal are:\n",
      " ['CommonEnvelopes', 'DoubleCompactObjects', 'Supernovae', 'SystemParameters']\n"
     ]
    }
   ],
   "source": [
    "Data  = h5.File(pathToData)\n",
    "print(\"The main files I have at my disposal are:\\n\",list(Data.keys()))\n",
    "#Say you want only the double neutron stars which\n",
    "#But you do want masses of all the initial systems (i.e. different seeds per file)\n",
    "#but for some reason want systems in which one or more systems had a USSN \n",
    "#and you dont want the CommonEnvelopes file\n"
   ]
  },
  {
   "cell_type": "markdown",
   "metadata": {},
   "source": [
    "# 2 Files/Columns per file do I want?\n",
    "\n",
    "We use dictionaries to specifically link all the entries"
   ]
  },
  {
   "cell_type": "code",
   "execution_count": 4,
   "metadata": {
    "collapsed": true
   },
   "outputs": [],
   "source": [
    "\n",
    "\n",
    "# Which Files do I want?\n",
    "filesOfInterest   = {1:'DoubleCompactObjects',\\\n",
    "                     2:'Supernovae',\\\n",
    "                     3:'SystemParameters'}\n",
    "\n",
    "#Give a list of columns you want, if you want all, say ['All']\n",
    "columnsOfInterest = {1:['All'],\\\n",
    "                     2:['All'],\\\n",
    "                     3:['SEED', 'MZAMS_1', 'MZAMS_2']}\n",
    "\n",
    "#example of the seeds dictionary the actual one will be defined later\n",
    "seedsOfInterest   = {1:None,\\\n",
    "                     2:None,\\\n",
    "                     3:None}"
   ]
  },
  {
   "cell_type": "markdown",
   "metadata": {},
   "source": [
    "# 3 Which seeds do I want per file?"
   ]
  },
  {
   "cell_type": "code",
   "execution_count": 5,
   "metadata": {
    "collapsed": false
   },
   "outputs": [],
   "source": [
    "##### I want all the systems\n",
    "\n",
    "seedsSystems = Data['SystemParameters']['SEED'][()]\n",
    "\n",
    "\n",
    "\n",
    "#### Of the double COMPCt objects\n",
    "\n",
    "DCOs = Data['DoubleCompactObjects']\n",
    "\n",
    "typePrimary   =  DCOs['Stellar_Type_1'][()]\n",
    "typeSecondary =  DCOs['Stellar_Type_1'][()]\n",
    "seeds         =  DCOs['SEED'][()]\n",
    "\n",
    "DNSs          =  (typePrimary == 13) & (typeSecondary == 13)\n",
    "seedsDNS      =  seeds[DNSs]\n",
    "\n",
    "\n",
    "\n",
    "######## Only disrupted SN \n",
    "\n",
    "SNe  = Data['Supernovae']\n",
    "\n",
    "seeds     = SNe['SEED']\n",
    "USSN      = SNe['USSN_SN'][()] == True\n",
    "seedsUSSN = seeds[USSN]\n",
    "\n",
    "\n",
    "\n",
    "####put in dictionary (DOUBLE CHECK ORDER :) )\n",
    "\n",
    "seedsOfInterest   = {1:seedsDNS,\\\n",
    "                     2:seedsUSSN,\\\n",
    "                     3:seedsSystems}\n"
   ]
  },
  {
   "cell_type": "markdown",
   "metadata": {},
   "source": [
    "# 4 Call the function which creates the h5 file"
   ]
  },
  {
   "cell_type": "code",
   "execution_count": 6,
   "metadata": {
    "collapsed": false
   },
   "outputs": [],
   "source": [
    "pathToNewData = '/home/cneijssel/Desktop/IlyaData/VignaGomezRepeat/COMPAS_outputNew.h5'\n",
    "\n",
    "\n",
    "WriteH5File.reduceH5(pathToOld = pathToData, pathToNew = pathToNewData,\\\n",
    "                     dictFiles=filesOfInterest, dictColumns=columnsOfInterest, dictSeeds=seedsOfInterest)"
   ]
  },
  {
   "cell_type": "code",
   "execution_count": 7,
   "metadata": {
    "collapsed": false,
    "scrolled": false
   },
   "outputs": [
    {
     "name": "stdout",
     "output_type": "stream",
     "text": [
      "Filename = DoubleCompactObjects\n",
      "----------------------\n",
      "\t   column name                             unit                length\n",
      "\t   --------------------------------------------------------------------\n",
      "\t   Binding_Energy@CE_1                     b'ergs'                5\n",
      "\t   Binding_Energy@CE_2                     b'ergs'                5\n",
      "\t   CEE                                     b'Event'               5\n",
      "\t   CE_Alpha                                b''                    5\n",
      "\t   Coalescence_Time                        b'Myr'                 5\n",
      "\t   --------------------------------------------------------------------\n",
      "\t   Double_Core_CE                          b'Event'               5\n",
      "\t   ECSN_1                                  b'State'               5\n",
      "\t   ECSN_2                                  b'State'               5\n",
      "\t   Eccentricity<2ndSN                      b''                    5\n",
      "\t   Eccentricity<CE                         b''                    5\n",
      "\t   --------------------------------------------------------------------\n",
      "\t   Eccentricity>CE                         b''                    5\n",
      "\t   Eccentricity@DCO                        b''                    5\n",
      "\t   Eccentricity_0                          b''                    5\n",
      "\t   Experienced_ECSN_1                      b'Event'               5\n",
      "\t   Experienced_ECSN_2                      b'Event'               5\n",
      "\t   --------------------------------------------------------------------\n",
      "\t   Experienced_PISN_1                      b'Event'               5\n",
      "\t   Experienced_PISN_2                      b'Event'               5\n",
      "\t   Experienced_PPISN_1                     b'Event'               5\n",
      "\t   Experienced_PPISN_2                     b'Event'               5\n",
      "\t   ID                                      b''                    5\n",
      "\t   --------------------------------------------------------------------\n",
      "\t   Kick_Velocity_1                         b'kms^-1'              5\n",
      "\t   Kick_Velocity_2                         b'kms^-1'              5\n",
      "\t   LBV_Multiplier                          b''                    5\n",
      "\t   Lambda@CE_1                             b''                    5\n",
      "\t   Lambda@CE_2                             b''                    5\n",
      "\t   --------------------------------------------------------------------\n",
      "\t   MT_Case_1                               b''                    5\n",
      "\t   MT_Case_2                               b''                    5\n",
      "\t   MZAMS_1                                 b'Msol'                5\n",
      "\t   MZAMS_2                                 b'Msol'                5\n",
      "\t   Mass_0_1                                b'Msol'                5\n",
      "\t   --------------------------------------------------------------------\n",
      "\t   Mass_0_2                                b'Msol'                5\n",
      "\t   Mass_1                                  b'Msol'                5\n",
      "\t   Mass_2                                  b'Msol'                5\n",
      "\t   Mass_CO_Core@CE_1                       b'Msol'                5\n",
      "\t   Mass_CO_Core@CE_2                       b'Msol'                5\n",
      "\t   --------------------------------------------------------------------\n",
      "\t   Mass_CO_Core@CO_1                       b'Msol'                5\n",
      "\t   Mass_CO_Core@CO_2                       b'Msol'                5\n",
      "\t   Mass_Core@CE_1                          b'Msol'                5\n",
      "\t   Mass_Core@CE_2                          b'Msol'                5\n",
      "\t   Mass_Core@CO_1                          b'Msol'                5\n",
      "\t   --------------------------------------------------------------------\n",
      "\t   Mass_Core@CO_2                          b'Msol'                5\n",
      "\t   Mass_He_Core@CE_1                       b'Msol'                5\n",
      "\t   Mass_He_Core@CE_2                       b'Msol'                5\n",
      "\t   Mass_He_Core@CO_1                       b'Msol'                5\n",
      "\t   Mass_He_Core@CO_2                       b'Msol'                5\n",
      "\t   --------------------------------------------------------------------\n",
      "\t   Mass_Total@CO_1                         b'Msol'                5\n",
      "\t   Mass_Total@CO_2                         b'Msol'                5\n",
      "\t   Merges_Hubble_Time                      b'State'               5\n",
      "\t   Metallicity_1                           b''                    5\n",
      "\t   Metallicity_2                           b''                    5\n",
      "\t   --------------------------------------------------------------------\n",
      "\t   Optimistic_CE                           b'State'               5\n",
      "\t   Orb_Velocity<2ndSN                      b'kms^-1'              5\n",
      "\t   Orbital_Energy<SN_1                     b'Msol^2AU^-1'         5\n",
      "\t   Orbital_Energy<SN_2                     b'Msol^2AU^-1'         5\n",
      "\t   Orbital_Energy>SN_1                     b'Msol^2AU^-1'         5\n",
      "\t   --------------------------------------------------------------------\n",
      "\t   Orbital_Energy>SN_2                     b'Msol^2AU^-1'         5\n",
      "\t   RLOF_Secondary>CE                       b'Event'               5\n",
      "\t   Recycled_NS_1                           b'Event'               5\n",
      "\t   Recycled_NS_2                           b'Event'               5\n",
      "\t   RocheLobe_1<CE                          b'Rsol'                5\n",
      "\t   --------------------------------------------------------------------\n",
      "\t   RocheLobe_1>CE                          b'Rsol'                5\n",
      "\t   RocheLobe_2<CE                          b'Rsol'                5\n",
      "\t   RocheLobe_2>CE                          b'Rsol'                5\n",
      "\t   SEED                                    b''                    5\n",
      "\t   SN_Phi_1                                b''                    5\n",
      "\t   --------------------------------------------------------------------\n",
      "\t   SN_Phi_2                                b''                    5\n",
      "\t   SN_Theta_1                              b''                    5\n",
      "\t   SN_Theta_2                              b''                    5\n",
      "\t   Separation                              b'AU'                  5\n",
      "\t   Separation<2ndSN                        b'AU'                  5\n",
      "\t   --------------------------------------------------------------------\n",
      "\t   Separation<CE                           b'AU'                  5\n",
      "\t   Separation>CE                           b'AU'                  5\n",
      "\t   Separation@DCO                          b'AU'                  5\n",
      "\t   Sigma_Kick_CCSN_BH                      b'kms^-1'              5\n",
      "\t   Sigma_Kick_CCSN_NS                      b'kms^-1'              5\n",
      "\t   --------------------------------------------------------------------\n",
      "\t   Stellar_Type_1                          b''                    5\n",
      "\t   Stellar_Type_2                          b''                    5\n",
      "\t   Stellar_Type_ZAMS_1                     b''                    5\n",
      "\t   Stellar_Type_ZAMS_2                     b''                    5\n",
      "\t   Time                                    b'Myr'                 5\n",
      "\t   --------------------------------------------------------------------\n",
      "\t   WR_Multiplier                           b''                    5\n",
      "Filename = Supernovae\n",
      "----------------------\n",
      "\t   column name                             unit                length\n",
      "\t   --------------------------------------------------------------------\n",
      "\t   CEE                                     b'Event'               957\n",
      "\t   Drawn_Kick_Velocity_SN                  b'kms^-1'              957\n",
      "\t   ECSN_SN                                 b'State'               957\n",
      "\t   Eccentricity                            b''                    957\n",
      "\t   Eccentricity<2ndSN                      b''                    957\n",
      "\t   --------------------------------------------------------------------\n",
      "\t   Experienced_PISN_SN                     b'Event'               957\n",
      "\t   Experienced_PPISN_SN                    b'Event'               957\n",
      "\t   Experienced_RLOF_SN                     b'Event'               957\n",
      "\t   Fallback_Fraction_SN                    b''                    957\n",
      "\t   Hydrogen_Poor_SN                        b'State'               957\n",
      "\t   --------------------------------------------------------------------\n",
      "\t   Hydrogen_Rich_SN                        b'State'               957\n",
      "\t   ID                                      b''                    957\n",
      "\t   Kick_Velocity(uK)                       b''                    957\n",
      "\t   Kick_Velocity_SN                        b'kms^-1'              957\n",
      "\t   MZAMS_CP                                b'Msol'                957\n",
      "\t   --------------------------------------------------------------------\n",
      "\t   MZAMS_SN                                b'Msol'                957\n",
      "\t   Mass_CO_Core@CO_SN                      b'Msol'                957\n",
      "\t   Mass_CP                                 b'Msol'                957\n",
      "\t   Mass_Core@CO_SN                         b'Msol'                957\n",
      "\t   Mass_SN                                 b'Msol'                957\n",
      "\t   --------------------------------------------------------------------\n",
      "\t   Mass_Total@CO_SN                        b'Msol'                957\n",
      "\t   Metallicity_SN                          b''                    957\n",
      "\t   Orbital_Velocity                        b'kms^-1'              957\n",
      "\t   RLOF->NS_SN                             b'Event'               957\n",
      "\t   Runaway_CP                              b'Event'               957\n",
      "\t   --------------------------------------------------------------------\n",
      "\t   SEED                                    b''                    957\n",
      "\t   SN_Phi_SN                               b''                    957\n",
      "\t   SN_SN                                   b'State'               957\n",
      "\t   SN_Theta_SN                             b''                    957\n",
      "\t   Separation                              b'Rsol'                957\n",
      "\t   --------------------------------------------------------------------\n",
      "\t   Separation<2ndSN                        b'Rsol'                957\n",
      "\t   Stable_RLOF>CE                          b'State'               957\n",
      "\t   Stellar_Type_Prev_CP                    b''                    957\n",
      "\t   Stellar_Type_Prev_SN                    b''                    957\n",
      "\t   Stellar_Type_SN                         b''                    957\n",
      "\t   --------------------------------------------------------------------\n",
      "\t   Stellar_Type_ZAMS_SN                    b''                    957\n",
      "\t   Supernova_State                         b'State'               957\n",
      "\t   Survived_SN_Event                       b'State'               957\n",
      "\t   Systemic_Velocity                       b'kms^-1'              957\n",
      "\t   Time                                    b'Myr'                 957\n",
      "\t   --------------------------------------------------------------------\n",
      "\t   True_Anomaly(psi)_SN                    b''                    957\n",
      "\t   USSN_SN                                 b'State'               957\n",
      "Filename = SystemParameters\n",
      "----------------------\n",
      "\t   column name                             unit                length\n",
      "\t   --------------------------------------------------------------------\n",
      "\t   MZAMS_1                                 b'Msol'                100000\n",
      "\t   MZAMS_2                                 b'Msol'                100000\n",
      "\t   SEED                                    b''                    100000\n"
     ]
    }
   ],
   "source": [
    "import PrintAllH5Columns #imports h5py and os\n",
    "PrintAllH5Columns.printAllColumnsInH5(pathToNewData)"
   ]
  },
  {
   "cell_type": "code",
   "execution_count": null,
   "metadata": {
    "collapsed": true
   },
   "outputs": [],
   "source": []
  }
 ],
 "metadata": {
  "kernelspec": {
   "display_name": "Python 3",
   "language": "python",
   "name": "python3"
  },
  "language_info": {
   "codemirror_mode": {
    "name": "ipython",
    "version": 3
   },
   "file_extension": ".py",
   "mimetype": "text/x-python",
   "name": "python",
   "nbconvert_exporter": "python",
   "pygments_lexer": "ipython3",
   "version": "3.5.2"
  }
 },
 "nbformat": 4,
 "nbformat_minor": 2
}
