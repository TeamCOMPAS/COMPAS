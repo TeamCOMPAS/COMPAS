{
 "cells": [
  {
   "cell_type": "markdown",
   "metadata": {},
   "source": [
    "# Introduction\n",
    "\n",
    "Here we show the basic syntax on how to:\n",
    "    \n",
    "1 - load the data\n",
    "\n",
    "2 - Common h5 syntax\n",
    "\n",
    "3 - close the data"
   ]
  },
  {
   "cell_type": "markdown",
   "metadata": {},
   "source": [
    "# Paths needed"
   ]
  },
  {
   "cell_type": "code",
   "execution_count": 1,
   "metadata": {
    "collapsed": true
   },
   "outputs": [],
   "source": [
    "pathToData = '/home/cneijssel/Desktop/IlyaData/VignaGomezRepeat/COMPAS_output.h5'"
   ]
  },
  {
   "cell_type": "markdown",
   "metadata": {},
   "source": [
    "# Imports"
   ]
  },
  {
   "cell_type": "code",
   "execution_count": 2,
   "metadata": {
    "collapsed": false
   },
   "outputs": [],
   "source": [
    "import h5py  as h5   #for handling data format\n",
    "import numpy as np  #for array handling\n",
    "import os           #For checking existence data"
   ]
  },
  {
   "cell_type": "markdown",
   "metadata": {},
   "source": [
    "# 1 - Load the data"
   ]
  },
  {
   "cell_type": "code",
   "execution_count": 3,
   "metadata": {
    "collapsed": false
   },
   "outputs": [],
   "source": [
    "Data  = h5.File(pathToData)"
   ]
  },
  {
   "cell_type": "markdown",
   "metadata": {},
   "source": [
    "# 2 - The main commands/syntax"
   ]
  },
  {
   "cell_type": "markdown",
   "metadata": {},
   "source": [
    "### To the show which files you have"
   ]
  },
  {
   "cell_type": "code",
   "execution_count": 4,
   "metadata": {
    "collapsed": false
   },
   "outputs": [
    {
     "name": "stdout",
     "output_type": "stream",
     "text": [
      "<KeysViewHDF5 ['CommonEnvelopes', 'DoubleCompactObjects', 'Supernovae', 'SystemParameters']>\n"
     ]
    }
   ],
   "source": [
    "# WHat files do we have in our data\n",
    "print(Data.keys())"
   ]
  },
  {
   "cell_type": "markdown",
   "metadata": {},
   "source": [
    "### To the columns in a file"
   ]
  },
  {
   "cell_type": "code",
   "execution_count": 5,
   "metadata": {
    "collapsed": false
   },
   "outputs": [
    {
     "name": "stdout",
     "output_type": "stream",
     "text": [
      "<KeysViewHDF5 ['CE_Alpha', 'Disbound', 'Eccentricity_0', 'Error', 'ID', 'LBV_Multiplier', 'MZAMS_1', 'MZAMS_2', 'Mass_0_1', 'Mass_0_2', 'Mean_Anomaly_1', 'Mean_Anomaly_2', 'Merger', 'Merger_At_Birth', 'Metallicity_1', 'Metallicity_2', 'Omega_ZAMS_1', 'Omega_ZAMS_2', 'SEED', 'SN_Kick_VM_Rand_1', 'SN_Kick_VM_Rand_2', 'SN_Phi_1', 'SN_Phi_2', 'SN_Theta_1', 'SN_Theta_2', 'Secondary<<DCO', 'Separation', 'Sigma_Kick_CCSN_BH', 'Sigma_Kick_CCSN_NS', 'Sigma_Kick_ECSN', 'Sigma_Kick_USSN', 'Stellar_Type_1', 'Stellar_Type_2', 'Stellar_Type_ZAMS_1', 'Stellar_Type_ZAMS_2', 'WR_Multiplier']>\n"
     ]
    }
   ],
   "source": [
    "#Access a specific file and show the keys\n",
    "#print(Data['SystemParameters'].keys())\n",
    "\n",
    "#It is a pain to write the entire group each time so redefine\n",
    "Systems = Data['SystemParameters']\n",
    "print(Systems.keys())\n",
    "#The number of members means the number of columns"
   ]
  },
  {
   "cell_type": "markdown",
   "metadata": {},
   "source": [
    "### To find the unit of the column"
   ]
  },
  {
   "cell_type": "code",
   "execution_count": 6,
   "metadata": {
    "collapsed": false
   },
   "outputs": [
    {
     "name": "stdout",
     "output_type": "stream",
     "text": [
      "b'Msol'\n"
     ]
    }
   ],
   "source": [
    "print(Systems['MZAMS_1'].attrs['units'])"
   ]
  },
  {
   "cell_type": "markdown",
   "metadata": {},
   "source": [
    "### To access a the values of a column"
   ]
  },
  {
   "cell_type": "code",
   "execution_count": 7,
   "metadata": {
    "collapsed": false,
    "scrolled": false
   },
   "outputs": [
    {
     "name": "stdout",
     "output_type": "stream",
     "text": [
      "(100000,)\n",
      "[147.595      7.522782   8.620206 ...  24.53193    5.2997     5.962571]\n"
     ]
    }
   ],
   "source": [
    "#Giving me the actual array\n",
    "MZAMS1 = Systems['MZAMS_1'][()]\n",
    "print(MZAMS1.shape)\n",
    "print(MZAMS1)\n",
    "\n"
   ]
  },
  {
   "cell_type": "markdown",
   "metadata": {},
   "source": [
    "# 3 - Closing the Data\n",
    "\n",
    "Accessing a single h5file from multiple scripts is not always possible.\n",
    "With notebooks, sometimes closing the notebook is not enough to have it \n",
    "close the h5data. Therefore we recommend to close the h5file explicitly after\n",
    "the calculations are done\n"
   ]
  },
  {
   "cell_type": "code",
   "execution_count": 8,
   "metadata": {
    "collapsed": true
   },
   "outputs": [],
   "source": [
    "Data.close()"
   ]
  },
  {
   "cell_type": "markdown",
   "metadata": {},
   "source": [
    "# Bonus function that combines syntax"
   ]
  },
  {
   "cell_type": "code",
   "execution_count": 9,
   "metadata": {
    "collapsed": false,
    "scrolled": false
   },
   "outputs": [
    {
     "name": "stdout",
     "output_type": "stream",
     "text": [
      "Filename = CommonEnvelopes\n",
      "----------------------\n",
      "\t   column name                             unit                length\n",
      "\t   --------------------------------------------------------------------\n",
      "\t   BE_Fixed_1                              b'ergs'                38702\n",
      "\t   BE_Fixed_2                              b'ergs'                38702\n",
      "\t   BE_Kruckow_1                            b'ergs'                38702\n",
      "\t   BE_Kruckow_2                            b'ergs'                38702\n",
      "\t   BE_Loveridge_1                          b'ergs'                38702\n",
      "\t   --------------------------------------------------------------------\n",
      "\t   BE_Loveridge_2                          b'ergs'                38702\n",
      "\t   BE_Loveridge_Winds_1                    b'ergs'                38702\n",
      "\t   BE_Loveridge_Winds_2                    b'ergs'                38702\n",
      "\t   BE_Nanjing_1                            b'ergs'                38702\n",
      "\t   BE_Nanjing_2                            b'ergs'                38702\n",
      "\t   --------------------------------------------------------------------\n",
      "\t   Binding_Energy<CE_1                     b'ergs'                38702\n",
      "\t   Binding_Energy<CE_2                     b'ergs'                38702\n",
      "\t   CE_Alpha                                b''                    38702\n",
      "\t   CE_Event_Count                          b'Count'               38702\n",
      "\t   Core_Mass_1                             b'Msol'                38702\n",
      "\t   --------------------------------------------------------------------\n",
      "\t   Core_Mass_2                             b'Msol'                38702\n",
      "\t   Double_Core_CE                          b'Event'               38702\n",
      "\t   Eccentricity<CE                         b''                    38702\n",
      "\t   Eccentricity>CE                         b''                    38702\n",
      "\t   ID                                      b''                    38702\n",
      "\t   --------------------------------------------------------------------\n",
      "\t   Immediate_RLOF>CE                       b'Event'               38702\n",
      "\t   Kruckow_1                               b''                    38702\n",
      "\t   Kruckow_2                               b''                    38702\n",
      "\t   Lambda@CE_1                             b''                    38702\n",
      "\t   Lambda@CE_2                             b''                    38702\n",
      "\t   --------------------------------------------------------------------\n",
      "\t   Lambda_Fixed_1                          b''                    38702\n",
      "\t   Lambda_Fixed_2                          b''                    38702\n",
      "\t   Lambda_Nanjing_1                        b''                    38702\n",
      "\t   Lambda_Nanjing_2                        b''                    38702\n",
      "\t   Loveridge_1                             b''                    38702\n",
      "\t   --------------------------------------------------------------------\n",
      "\t   Loveridge_2                             b''                    38702\n",
      "\t   Loveridge_Winds_1                       b''                    38702\n",
      "\t   Loveridge_Winds_2                       b''                    38702\n",
      "\t   Luminosity<CE_1                         b'Lsol'                38702\n",
      "\t   Luminosity<CE_2                         b'Lsol'                38702\n",
      "\t   --------------------------------------------------------------------\n",
      "\t   MT_History                              b''                    38702\n",
      "\t   MZAMS_1                                 b'Msol'                38702\n",
      "\t   MZAMS_2                                 b'Msol'                38702\n",
      "\t   Mass_1<CE                               b'Msol'                38702\n",
      "\t   Mass_2<CE                               b'Msol'                38702\n",
      "\t   --------------------------------------------------------------------\n",
      "\t   Mass_Env_1                              b'Msol'                38702\n",
      "\t   Mass_Env_2                              b'Msol'                38702\n",
      "\t   Merger                                  b'Event'               38702\n",
      "\t   Optimistic_CE                           b'State'               38702\n",
      "\t   RLOF_1                                  b'State'               38702\n",
      "\t   --------------------------------------------------------------------\n",
      "\t   RLOF_2                                  b'State'               38702\n",
      "\t   Radius_1<CE                             b'Rsol'                38702\n",
      "\t   Radius_1>CE                             b'Rsol'                38702\n",
      "\t   Radius_2<CE                             b'Rsol'                38702\n",
      "\t   Radius_2>CE                             b'Rsol'                38702\n",
      "\t   --------------------------------------------------------------------\n",
      "\t   RocheLobe_1<CE                          b'Rsol'                38702\n",
      "\t   RocheLobe_1>CE                          b'Rsol'                38702\n",
      "\t   RocheLobe_2<CE                          b'Rsol'                38702\n",
      "\t   RocheLobe_2>CE                          b'Rsol'                38702\n",
      "\t   SEED                                    b''                    38702\n",
      "\t   --------------------------------------------------------------------\n",
      "\t   Separation<CE                           b'AU'                  38702\n",
      "\t   Separation>CE                           b'AU'                  38702\n",
      "\t   Simultaneous_RLOF                       b'Event'               38702\n",
      "\t   Stellar_Type_1                          b''                    38702\n",
      "\t   Stellar_Type_1<CE                       b''                    38702\n",
      "\t   --------------------------------------------------------------------\n",
      "\t   Stellar_Type_2                          b''                    38702\n",
      "\t   Stellar_Type_2<CE                       b''                    38702\n",
      "\t   Tau_Circ                                b'Myr'                 38702\n",
      "\t   Tau_Dynamical<CE_1                      b'Myr'                 38702\n",
      "\t   Tau_Dynamical<CE_2                      b'Myr'                 38702\n",
      "\t   --------------------------------------------------------------------\n",
      "\t   Tau_Nuclear<CE_1                        b'Myr'                 38702\n",
      "\t   Tau_Nuclear<CE_2                        b'Myr'                 38702\n",
      "\t   Tau_Radial<CE_1                         b'Myr'                 38702\n",
      "\t   Tau_Radial<CE_2                         b'Myr'                 38702\n",
      "\t   Tau_Sync                                b'Myr'                 38702\n",
      "\t   --------------------------------------------------------------------\n",
      "\t   Tau_Thermal<CE_1                        b'Myr'                 38702\n",
      "\t   Tau_Thermal<CE_2                        b'Myr'                 38702\n",
      "\t   Teff<CE_1                               b'Tsol'                38702\n",
      "\t   Teff<CE_2                               b'Tsol'                38702\n",
      "\t   Time                                    b'Myr'                 38702\n",
      "\t   --------------------------------------------------------------------\n",
      "\t   Zeta_RLOF_Analytic                      b''                    38702\n",
      "\t   Zeta_Star_Compare                       b''                    38702\n",
      "Filename = DoubleCompactObjects\n",
      "----------------------\n",
      "\t   column name                             unit                length\n",
      "\t   --------------------------------------------------------------------\n",
      "\t   Binding_Energy@CE_1                     b'ergs'                384\n",
      "\t   Binding_Energy@CE_2                     b'ergs'                384\n",
      "\t   CEE                                     b'Event'               384\n",
      "\t   CE_Alpha                                b''                    384\n",
      "\t   Coalescence_Time                        b'Myr'                 384\n",
      "\t   --------------------------------------------------------------------\n",
      "\t   Double_Core_CE                          b'Event'               384\n",
      "\t   ECSN_1                                  b'State'               384\n",
      "\t   ECSN_2                                  b'State'               384\n",
      "\t   Eccentricity<2ndSN                      b''                    384\n",
      "\t   Eccentricity<CE                         b''                    384\n",
      "\t   --------------------------------------------------------------------\n",
      "\t   Eccentricity>CE                         b''                    384\n",
      "\t   Eccentricity@DCO                        b''                    384\n",
      "\t   Eccentricity_0                          b''                    384\n",
      "\t   Experienced_ECSN_1                      b'Event'               384\n",
      "\t   Experienced_ECSN_2                      b'Event'               384\n",
      "\t   --------------------------------------------------------------------\n",
      "\t   Experienced_PISN_1                      b'Event'               384\n",
      "\t   Experienced_PISN_2                      b'Event'               384\n",
      "\t   Experienced_PPISN_1                     b'Event'               384\n",
      "\t   Experienced_PPISN_2                     b'Event'               384\n",
      "\t   ID                                      b''                    384\n",
      "\t   --------------------------------------------------------------------\n",
      "\t   Kick_Velocity_1                         b'kms^-1'              384\n",
      "\t   Kick_Velocity_2                         b'kms^-1'              384\n",
      "\t   LBV_Multiplier                          b''                    384\n",
      "\t   Lambda@CE_1                             b''                    384\n",
      "\t   Lambda@CE_2                             b''                    384\n",
      "\t   --------------------------------------------------------------------\n",
      "\t   MT_Case_1                               b''                    384\n",
      "\t   MT_Case_2                               b''                    384\n",
      "\t   MZAMS_1                                 b'Msol'                384\n",
      "\t   MZAMS_2                                 b'Msol'                384\n",
      "\t   Mass_0_1                                b'Msol'                384\n",
      "\t   --------------------------------------------------------------------\n",
      "\t   Mass_0_2                                b'Msol'                384\n",
      "\t   Mass_1                                  b'Msol'                384\n",
      "\t   Mass_2                                  b'Msol'                384\n",
      "\t   Mass_CO_Core@CE_1                       b'Msol'                384\n",
      "\t   Mass_CO_Core@CE_2                       b'Msol'                384\n",
      "\t   --------------------------------------------------------------------\n",
      "\t   Mass_CO_Core@CO_1                       b'Msol'                384\n",
      "\t   Mass_CO_Core@CO_2                       b'Msol'                384\n",
      "\t   Mass_Core@CE_1                          b'Msol'                384\n",
      "\t   Mass_Core@CE_2                          b'Msol'                384\n",
      "\t   Mass_Core@CO_1                          b'Msol'                384\n",
      "\t   --------------------------------------------------------------------\n",
      "\t   Mass_Core@CO_2                          b'Msol'                384\n",
      "\t   Mass_He_Core@CE_1                       b'Msol'                384\n",
      "\t   Mass_He_Core@CE_2                       b'Msol'                384\n",
      "\t   Mass_He_Core@CO_1                       b'Msol'                384\n",
      "\t   Mass_He_Core@CO_2                       b'Msol'                384\n",
      "\t   --------------------------------------------------------------------\n",
      "\t   Mass_Total@CO_1                         b'Msol'                384\n",
      "\t   Mass_Total@CO_2                         b'Msol'                384\n",
      "\t   Merges_Hubble_Time                      b'State'               384\n",
      "\t   Metallicity_1                           b''                    384\n",
      "\t   Metallicity_2                           b''                    384\n",
      "\t   --------------------------------------------------------------------\n",
      "\t   Optimistic_CE                           b'State'               384\n",
      "\t   Orb_Velocity<2ndSN                      b'kms^-1'              384\n",
      "\t   Orbital_Energy<SN_1                     b'Msol^2AU^-1'         384\n",
      "\t   Orbital_Energy<SN_2                     b'Msol^2AU^-1'         384\n",
      "\t   Orbital_Energy>SN_1                     b'Msol^2AU^-1'         384\n",
      "\t   --------------------------------------------------------------------\n",
      "\t   Orbital_Energy>SN_2                     b'Msol^2AU^-1'         384\n",
      "\t   RLOF_Secondary>CE                       b'Event'               384\n",
      "\t   Recycled_NS_1                           b'Event'               384\n",
      "\t   Recycled_NS_2                           b'Event'               384\n",
      "\t   RocheLobe_1<CE                          b'Rsol'                384\n",
      "\t   --------------------------------------------------------------------\n",
      "\t   RocheLobe_1>CE                          b'Rsol'                384\n",
      "\t   RocheLobe_2<CE                          b'Rsol'                384\n",
      "\t   RocheLobe_2>CE                          b'Rsol'                384\n",
      "\t   SEED                                    b''                    384\n",
      "\t   SN_Phi_1                                b''                    384\n",
      "\t   --------------------------------------------------------------------\n",
      "\t   SN_Phi_2                                b''                    384\n",
      "\t   SN_Theta_1                              b''                    384\n",
      "\t   SN_Theta_2                              b''                    384\n",
      "\t   Separation                              b'AU'                  384\n",
      "\t   Separation<2ndSN                        b'AU'                  384\n",
      "\t   --------------------------------------------------------------------\n",
      "\t   Separation<CE                           b'AU'                  384\n",
      "\t   Separation>CE                           b'AU'                  384\n",
      "\t   Separation@DCO                          b'AU'                  384\n",
      "\t   Sigma_Kick_CCSN_BH                      b'kms^-1'              384\n",
      "\t   Sigma_Kick_CCSN_NS                      b'kms^-1'              384\n",
      "\t   --------------------------------------------------------------------\n",
      "\t   Stellar_Type_1                          b''                    384\n",
      "\t   Stellar_Type_2                          b''                    384\n",
      "\t   Stellar_Type_ZAMS_1                     b''                    384\n",
      "\t   Stellar_Type_ZAMS_2                     b''                    384\n",
      "\t   Time                                    b'Myr'                 384\n",
      "\t   --------------------------------------------------------------------\n",
      "\t   WR_Multiplier                           b''                    384\n",
      "Filename = Supernovae\n",
      "----------------------\n",
      "\t   column name                             unit                length\n",
      "\t   --------------------------------------------------------------------\n",
      "\t   CEE                                     b'Event'               36325\n",
      "\t   Drawn_Kick_Velocity_SN                  b'kms^-1'              36325\n",
      "\t   ECSN_SN                                 b'State'               36325\n",
      "\t   Eccentricity                            b''                    36325\n",
      "\t   Eccentricity<2ndSN                      b''                    36325\n",
      "\t   --------------------------------------------------------------------\n",
      "\t   Experienced_PISN_SN                     b'Event'               36325\n",
      "\t   Experienced_PPISN_SN                    b'Event'               36325\n",
      "\t   Experienced_RLOF_SN                     b'Event'               36325\n",
      "\t   Fallback_Fraction_SN                    b''                    36325\n",
      "\t   Hydrogen_Poor_SN                        b'State'               36325\n",
      "\t   --------------------------------------------------------------------\n",
      "\t   Hydrogen_Rich_SN                        b'State'               36325\n",
      "\t   ID                                      b''                    36325\n",
      "\t   Kick_Velocity(uK)                       b''                    36325\n",
      "\t   Kick_Velocity_SN                        b'kms^-1'              36325\n",
      "\t   MZAMS_CP                                b'Msol'                36325\n",
      "\t   --------------------------------------------------------------------\n",
      "\t   MZAMS_SN                                b'Msol'                36325\n",
      "\t   Mass_CO_Core@CO_SN                      b'Msol'                36325\n",
      "\t   Mass_CP                                 b'Msol'                36325\n",
      "\t   Mass_Core@CO_SN                         b'Msol'                36325\n",
      "\t   Mass_SN                                 b'Msol'                36325\n",
      "\t   --------------------------------------------------------------------\n",
      "\t   Mass_Total@CO_SN                        b'Msol'                36325\n",
      "\t   Metallicity_SN                          b''                    36325\n",
      "\t   Orbital_Velocity                        b'kms^-1'              36325\n",
      "\t   RLOF->NS_SN                             b'Event'               36325\n",
      "\t   Runaway_CP                              b'Event'               36325\n",
      "\t   --------------------------------------------------------------------\n",
      "\t   SEED                                    b''                    36325\n",
      "\t   SN_Phi_SN                               b''                    36325\n",
      "\t   SN_SN                                   b'State'               36325\n",
      "\t   SN_Theta_SN                             b''                    36325\n",
      "\t   Separation                              b'Rsol'                36325\n",
      "\t   --------------------------------------------------------------------\n",
      "\t   Separation<2ndSN                        b'Rsol'                36325\n",
      "\t   Stable_RLOF>CE                          b'State'               36325\n",
      "\t   Stellar_Type_Prev_CP                    b''                    36325\n",
      "\t   Stellar_Type_Prev_SN                    b''                    36325\n",
      "\t   Stellar_Type_SN                         b''                    36325\n",
      "\t   --------------------------------------------------------------------\n",
      "\t   Stellar_Type_ZAMS_SN                    b''                    36325\n",
      "\t   Supernova_State                         b'State'               36325\n",
      "\t   Survived_SN_Event                       b'State'               36325\n",
      "\t   Systemic_Velocity                       b'kms^-1'              36325\n",
      "\t   Time                                    b'Myr'                 36325\n",
      "\t   --------------------------------------------------------------------\n",
      "\t   True_Anomaly(psi)_SN                    b''                    36325\n",
      "\t   USSN_SN                                 b'State'               36325\n",
      "Filename = SystemParameters\n",
      "----------------------\n",
      "\t   column name                             unit                length\n",
      "\t   --------------------------------------------------------------------\n",
      "\t   CE_Alpha                                b''                    100000\n",
      "\t   Disbound                                b'State'               100000\n",
      "\t   Eccentricity_0                          b''                    100000\n",
      "\t   Error                                   b''                    100000\n",
      "\t   ID                                      b''                    100000\n",
      "\t   --------------------------------------------------------------------\n",
      "\t   LBV_Multiplier                          b''                    100000\n",
      "\t   MZAMS_1                                 b'Msol'                100000\n",
      "\t   MZAMS_2                                 b'Msol'                100000\n",
      "\t   Mass_0_1                                b'Msol'                100000\n",
      "\t   Mass_0_2                                b'Msol'                100000\n",
      "\t   --------------------------------------------------------------------\n",
      "\t   Mean_Anomaly_1                          b''                    100000\n",
      "\t   Mean_Anomaly_2                          b''                    100000\n",
      "\t   Merger                                  b'Event'               100000\n",
      "\t   Merger_At_Birth                         b'Event'               100000\n",
      "\t   Metallicity_1                           b''                    100000\n",
      "\t   --------------------------------------------------------------------\n",
      "\t   Metallicity_2                           b''                    100000\n",
      "\t   Omega_ZAMS_1                            b'yr^-1'               100000\n",
      "\t   Omega_ZAMS_2                            b'yr^-1'               100000\n",
      "\t   SEED                                    b''                    100000\n",
      "\t   SN_Kick_VM_Rand_1                       b''                    100000\n",
      "\t   --------------------------------------------------------------------\n",
      "\t   SN_Kick_VM_Rand_2                       b''                    100000\n",
      "\t   SN_Phi_1                                b''                    100000\n",
      "\t   SN_Phi_2                                b''                    100000\n",
      "\t   SN_Theta_1                              b''                    100000\n",
      "\t   SN_Theta_2                              b''                    100000\n",
      "\t   --------------------------------------------------------------------\n",
      "\t   Secondary<<DCO                          b'State'               100000\n",
      "\t   Separation                              b'AU'                  100000\n",
      "\t   Sigma_Kick_CCSN_BH                      b'kms^-1'              100000\n",
      "\t   Sigma_Kick_CCSN_NS                      b'kms^-1'              100000\n",
      "\t   Sigma_Kick_ECSN                         b'kms^-1'              100000\n",
      "\t   --------------------------------------------------------------------\n",
      "\t   Sigma_Kick_USSN                         b'kms^-1'              100000\n",
      "\t   Stellar_Type_1                          b''                    100000\n",
      "\t   Stellar_Type_2                          b''                    100000\n",
      "\t   Stellar_Type_ZAMS_1                     b''                    100000\n",
      "\t   Stellar_Type_ZAMS_2                     b''                    100000\n",
      "\t   --------------------------------------------------------------------\n",
      "\t   WR_Multiplier                           b''                    100000\n"
     ]
    }
   ],
   "source": [
    "import PrintAllH5Columns #imports h5py and os\n",
    "PrintAllH5Columns.printAllColumnsInH5(pathToData)"
   ]
  }
 ],
 "metadata": {
  "kernelspec": {
   "display_name": "Python 3",
   "language": "python",
   "name": "python3"
  },
  "language_info": {
   "codemirror_mode": {
    "name": "ipython",
    "version": 3
   },
   "file_extension": ".py",
   "mimetype": "text/x-python",
   "name": "python",
   "nbconvert_exporter": "python",
   "pygments_lexer": "ipython3",
   "version": "3.5.2"
  }
 },
 "nbformat": 4,
 "nbformat_minor": 2
}
