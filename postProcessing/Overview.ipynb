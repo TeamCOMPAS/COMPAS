{
 "cells": [
  {
   "cell_type": "markdown",
   "metadata": {},
   "source": [
    "<img src=\"./Folders/Development/logo.png\">\n"
   ]
  },
  {
   "cell_type": "markdown",
   "metadata": {},
   "source": [
    "# COMPAS"
   ]
  },
  {
   "cell_type": "markdown",
   "metadata": {
    "collapsed": true
   },
   "source": [
    "<font size=\"+1\"> \n",
    "\n",
    "<a href=http://compas.science>\n",
    "COMPAS website : http://compas.science\n",
    "</a>\n",
    "\n",
    "<font/>"
   ]
  },
  {
   "cell_type": "markdown",
   "metadata": {
    "collapsed": true
   },
   "source": [
    "## Introduction\n",
    "\n",
    "Welcome to the post-processing documentation of the COMPAS code. In here you will the additional material outside the source code used to manipulate the data and/or calculate rates/weights/samples to place the results of the simulation in different scientific contexts. \n",
    "\n",
    "We provide a series of jupyter/ipython notebooks and 'raw' python scripts. The notebooks show how to call the python scripts and the involved syntax. All notebooks are made ito html pages for easy reading and indexing of available material.\n",
    "\n",
    "## How to reference:\n",
    "\n",
    "If you use source-code/data/post-processing pipelines for your\n",
    "study we would appreciate if you acknowledge it accordingly.\n",
    "\n",
    "For source-code and data please see XXX\n",
    "\n",
    "For the pipelines XXX\n",
    "\n",
    "\n",
    "\n",
    "## Other documentation is available:\n",
    "\n",
    "For source code documentation please see XXX\n",
    "\n",
    "For source code installation documentation please see XXX\n",
    "\n",
    "For git documentation please see XXX\n",
    "\n",
    "## Material"
   ]
  },
  {
   "cell_type": "markdown",
   "metadata": {},
   "source": [
    "<ol>\n",
    "<font size=\"+3\"> \n",
    "\n",
    "<li>\n",
    "    <a href=\"./Folders/H5/0_H5Overview.html\" style=\"text-decoration:none;\"> \n",
    "        H5 files:   <br/>  <br/>\n",
    "        <font size=\"+2\"> \n",
    "        compiling, reading, rewriting\n",
    "        </font>\n",
    "    </a>\n",
    "</li>\n",
    "\n",
    "\n",
    "<br/>\n",
    "\n",
    "<li>\n",
    "    <a href=\"./Folders/BasicsPython/0_BasicsOverview.html\" style=\"text-decoration:none;\"> \n",
    "        Basics Python:   <br/>  <br/>\n",
    "        <font size=\"+2\"> \n",
    "        slicing, binning, plotting\n",
    "        </font>\n",
    "    </a>\n",
    "</li>\n",
    "\n",
    "\n",
    "<br/>\n",
    "\n",
    "\n",
    "<li>\n",
    "    <a href=\"./Folders/Development/DevelopmentOverview.html\" style=\"text-decoration:none;\"> \n",
    "        Development:    <br/> <br/>\n",
    "        <font size=\"+2\"> \n",
    "            log, todo, maintenance\n",
    "        </font>\n",
    "    </a>\n",
    "</li>\n",
    "</font>\n",
    "</ol>"
   ]
  },
  {
   "cell_type": "code",
   "execution_count": null,
   "metadata": {
    "collapsed": true
   },
   "outputs": [],
   "source": []
  }
 ],
 "metadata": {
  "kernelspec": {
   "display_name": "Python 3",
   "language": "python",
   "name": "python3"
  },
  "language_info": {
   "codemirror_mode": {
    "name": "ipython",
    "version": 3
   },
   "file_extension": ".py",
   "mimetype": "text/x-python",
   "name": "python",
   "nbconvert_exporter": "python",
   "pygments_lexer": "ipython3",
   "version": "3.5.2"
  }
 },
 "nbformat": 4,
 "nbformat_minor": 2
}
