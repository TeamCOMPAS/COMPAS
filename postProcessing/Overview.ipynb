{
 "cells": [
  {
   "cell_type": "markdown",
   "metadata": {},
   "source": [
    "<img src=\"./Images/logo.png\">\n"
   ]
  },
  {
   "cell_type": "markdown",
   "metadata": {},
   "source": [
    "# COMPAS"
   ]
  },
  {
   "cell_type": "markdown",
   "metadata": {
    "collapsed": true
   },
   "source": [
    "<a href=http://compas.science>\n",
    "COMPAS website : http://compas.science\n",
    "</a>\n",
    " "
   ]
  },
  {
   "cell_type": "markdown",
   "metadata": {
    "collapsed": true
   },
   "source": [
    "# Test my python libraries\n",
    "\n",
    "For the different routines and postprocessing we might, besides are own scripts you can download,\n",
    "also depend on specific python libraries such as Scipy, numpy, astropy etc.\n",
    "We have a notebook here which quickly tries to import the necessary libraries and breaks/gives an error\n",
    "if it can't. This way you know before hand what you might need to install on your machine\n",
    "Then download this script and run it. It simply tries to import the libraries and breaks if you do not have it. It does not test if you have the post-processing scripts presented here\n",
    "\n",
    "<li>\n",
    "<a href=\"./0_BeginnersGuide/TestLibraries.py.zip\" download=\" \" class=\"Nbutton\">  download TestLibraries.py\n",
    "</a>\n",
    "</li>"
   ]
  },
  {
   "cell_type": "markdown",
   "metadata": {},
   "source": [
    "# h5 files :creating, reading, rewriting\n",
    "\n",
    "H5 files are non-human-readable files which can consist of several\n",
    "sub-groups each containing a collection of columns. \n",
    "This is the common format in which we aim to publish our data.\n",
    "\n",
    "Here we present some examples and scripts relating to h5 files,\n",
    "both for developers and users.\n",
    "\n",
    "\n",
    "\n",
    "\n",
    "<ul>\n",
    "    <li>\n",
    "        <a href=\"./1_H5/1_combineCSVtoH5.html\">\n",
    "        Combining CSV files from COMPAS to single h5 file\n",
    "        </a>\n",
    "    </li>\n",
    "    <li>\n",
    "        <a href=\"./1_H5/2_ReadingAndBasicSyntax.html\">\n",
    "        Loading a COMPASOutput.h5 file and basic h5py syntax.\n",
    "        </a>\n",
    "    </li>\n",
    "    <li>\n",
    "        <a href=\"./1_H5/3_WritingAReducedDataSet.html\">\n",
    "        Writing a reduced h5file based on an existing data-set\n",
    "        </a>\n",
    "    </li>\n",
    "\n",
    "</ul>"
   ]
  },
  {
   "cell_type": "markdown",
   "metadata": {},
   "source": [
    "# 1 - Rate per unit solar mass\n",
    "\n",
    "Explanation for calculating the rate of a population per unit solar mass.\n",
    "The main script we use is totalMassEvolved.py These are generic calculations\n",
    "which do note relate to a paper\n",
    "\n",
    "<a href=\"./1_RatePerUnitSolarMass/1_Intro.html\">\n",
    "1 - concept of rate per unit solar mass\n",
    "</a>\n",
    "\n",
    "<a href=\"./1_RatePerUnitSolarMass/None.html\">\n",
    "2 - TODO  Notes/derivations/tests/tricks\n",
    "</a>\n",
    "\n",
    "<a href=\"./1_RatePerUnitSolarMass/3_CallingTheFunction.html\">\n",
    "3 - calling  totalMassEvolved.py\n",
    "</a>\n",
    "\n",
    "\n",
    "\n",
    "<a href=\"./1_RatePerUnitSolarMass/totalMassEvolved.py.zip\" download=\"4 - download totalMassEvolved.py\" class=\"Nbutton\"> 4 - download totalMassEvolved.py\n",
    "</a>"
   ]
  },
  {
   "cell_type": "markdown",
   "metadata": {},
   "source": [
    "# 2 - Cosmic integration \n",
    "\n",
    "\n",
    "Explanation for reweighting a population by its metallicity specific\n",
    "star formation rate. This is used to calculate the merger rate of double compact\n",
    "objects as a function of redshift with an without selection effects. This section does not\n",
    "include the Bayesian analysis\n",
    "\n",
    "\n",
    "The method and scientific case are presented in\n",
    "\n",
    "<a href=\"https://arxiv.org/abs/1906.08136\">\n",
    "https://arxiv.org/abs/1906.08136\n",
    "</a>\n",
    "\n",
    "\n",
    "<a href=\"./2_CosmicIntegration/1_Intro.html\">\n",
    "1 - concept of cosmic integration\n",
    "</a>\n",
    "\n",
    "<a href=\"./2_CosmicIntegration/Notes.html\">\n",
    "2 - TODO Notes/derivations/tests/tricks\n",
    "</a>\n",
    "\n",
    "<a href=\"./2_CosmicIntegration/3_CallingTheFunction.html\">\n",
    "3 - calling  cosmic integration scripts\n",
    "</a>\n",
    "\n",
    "<a href=\"./2_CosmicIntegration/Scripts.zip\" download=\"4 - download folder scripts\" class=\"Nbutton\"> 4 - download folder scripts\n",
    "</a>\n",
    "\n",
    "Note that if you use the downloaded scripts you have to introduce you own paths to it in the notebook.\n",
    "\n"
   ]
  },
  {
   "cell_type": "markdown",
   "metadata": {},
   "source": [
    "# 3 - AIS weights\n",
    "\n",
    "Explanation of the Adaptive Importance Sampling in COMPAS\n",
    "\n",
    "The main routine is implemented in the COMPAS simulation therefore it does \n",
    "not relate to an individual post-processing routine.\n",
    "\n",
    "However it does give an additional set of weights to the population which affects\n",
    "the aforementioned total mass evolved routines and the cosmic integration routines\n",
    "\n",
    "Hence 3 relates to how to combine those routines with an additional set of weights\n",
    "\n",
    "The method and scientific case is presented in\n",
    "\n",
    "<a href=\"https://arxiv.org/abs/1905.00910\">\n",
    "https://arxiv.org/abs/1905.00910\n",
    "</a>\n",
    "\n",
    "<a href=\"./1_H5files/None.html\">\n",
    "1 - TODO concept of AIS sampling\n",
    "</a>\n",
    "\n",
    "<a href=\"./1_H5files/None.html\">\n",
    "2 - TODO Notes/derivations/tests/tricks\n",
    "</a>\n",
    "\n",
    "<a href=\"./1_H5files/None.html\">\n",
    "3 - TODO calling  totalMassEvolved.py with AIS\n",
    "</a>\n",
    "\n"
   ]
  },
  {
   "cell_type": "markdown",
   "metadata": {},
   "source": [
    "# 4 - Formation Channels\n",
    "\n",
    "The formation channels is a routine to create a chronological order of events\n",
    "for each binary in the COMPAS simulation. It does not relate to any particalur method/calculation/paper,\n",
    "but often proves valuable in pinpointing the key prescription/physics that affects your results\n",
    "However it might take a unpleasant amount of time and partially knowledge of the data structure to collect and and combine the data and create a story from it. Reinventing the wheel is not really needed here.\n",
    "Hence we provide a script that summarises the story of each individual binary or a population, and some additional tricks to use.\n",
    "\n",
    "\n",
    "<a href=\"./1_H5files/None.html\">\n",
    "1 - TODO concept of formation channels\n",
    "</a>\n",
    "\n",
    "<a href=\"./1_H5files/None.html\">\n",
    "2 - TODO tests/tricks\n",
    "</a>\n",
    "\n",
    "<a href=\"./1_H5files/None.html\">\n",
    "3 - TODO calling  FormationChannels.py\n",
    "</a>\n",
    "\n",
    "<a href=\"./1_H5files/None.html\">\n",
    "4 - TODO download FormationChannels.py\n",
    "</a>"
   ]
  },
  {
   "cell_type": "markdown",
   "metadata": {},
   "source": [
    "# 5 - Writing H5 and column discriptions"
   ]
  },
  {
   "cell_type": "markdown",
   "metadata": {},
   "source": [
    "# 6 - Bayesian modeling"
   ]
  },
  {
   "cell_type": "markdown",
   "metadata": {},
   "source": [
    "# COMPAS paper plotting examples\n",
    "\n",
    "Click on the plot you like to see how it is made.\n",
    "If it is in a paper the link and figure number is mentioned.\n",
    "\n",
    "Not that besides the afore mentioned post-processing scripts\n",
    "it uses a little python file to set the ticks and labels to a \n",
    "prettier size/font. However this does depend on latex within matplotlib\n",
    "\n",
    "see for example:\n",
    "https://stackoverflow.com/questions/11354149/python-unable-to-render-tex-in-matplotlib\n",
    "\n"
   ]
  },
  {
   "cell_type": "markdown",
   "metadata": {},
   "source": [
    " <a href=\"./X_Plotting/Overview.html\">\n",
    "Plotting library COMPAS\n",
    "        </a>"
   ]
  },
  {
   "cell_type": "markdown",
   "metadata": {},
   "source": [
    "# How to maintain the notebooks here."
   ]
  },
  {
   "cell_type": "markdown",
   "metadata": {},
   "source": [
    "When changing a notebook before commiting to git.\n",
    "\n",
    "- restart and run the entire notebook to double check\n",
    "- go to the directory in the terminal and run:\n",
    "\n",
    "    ipython nbconvert name_notebook.ipynb\n",
    "    \n",
    "    https://pypi.org/project/nbconvert/\n",
    "    \n",
    "    alternatively you can also do it with the GUI \n",
    "    but that is mroe cumbersome\n",
    " this creates/replaces the html\n",
    "- if you changed the name of the notebook please check which\n",
    "  notebooks link to it. Update the <'a></a'> html link in that notebook\n",
    " and do the aforementioned steps for that particular notebook\n",
    "- If the link and its respective notebook does not exist or is  not working yet\n",
    " put a TODO in front for clarity"
   ]
  },
  {
   "cell_type": "code",
   "execution_count": null,
   "metadata": {
    "collapsed": true
   },
   "outputs": [],
   "source": []
  },
  {
   "cell_type": "markdown",
   "metadata": {},
   "source": [
    "## TODO list C.Neijssel"
   ]
  },
  {
   "cell_type": "markdown",
   "metadata": {},
   "source": [
    "- everything still\n",
    "\n",
    "- create a library tester to see which libraries people\n",
    " still need for a project\n",
    "\n",
    "- create a column h5 reader tester to see which projects people\n",
    " can and cannot do with the data\n",
    "\n",
    "- Update h5 files and attributes in powwow group discussion\n",
    "    paper link/timestamp/websitelink/gitstamp\n",
    "\n"
   ]
  },
  {
   "cell_type": "code",
   "execution_count": null,
   "metadata": {
    "collapsed": true
   },
   "outputs": [],
   "source": []
  }
 ],
 "metadata": {
  "kernelspec": {
   "display_name": "Python 3",
   "language": "python",
   "name": "python3"
  },
  "language_info": {
   "codemirror_mode": {
    "name": "ipython",
    "version": 3
   },
   "file_extension": ".py",
   "mimetype": "text/x-python",
   "name": "python",
   "nbconvert_exporter": "python",
   "pygments_lexer": "ipython3",
   "version": "3.7.4"
  }
 },
 "nbformat": 4,
 "nbformat_minor": 2
}
