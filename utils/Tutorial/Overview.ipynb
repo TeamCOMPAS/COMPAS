{
 "cells": [
  {
   "cell_type": "markdown",
   "metadata": {},
   "source": [
    "<img src='media/COMPASlogo.png'>\n"
   ]
  },
  {
   "cell_type": "markdown",
   "metadata": {},
   "source": [
    "# [COMPAS](http://compas.science)"
   ]
  },
  {
   "cell_type": "markdown",
   "metadata": {
    "collapsed": true
   },
   "source": [
    "## Introduction\n",
    "\n",
    "Welcome to the post-processing documentation of the COMPAS code. In here, you will find scripts used to manipulate the data and calculate rates/weights/samples to place the results of the simulation into a scientific context. \n",
    "\n",
    "We provide a series of jupyter/ipython notebooks and 'raw' python scripts. The notebooks show how to call the python scripts and the involved syntax. All notebooks are made into html pages for easy reading and indexing of available material.\n",
    "\n",
    "You may also find the online [Documentation](https://compas.readthedocs.io/en/latest/index.html) helpful.\n",
    "\n",
    "\n",
    "## How to reference\n",
    "\n",
    "To acknowledge COMPAS source code or data, please see [Acknowledgements.](https://github.com/TeamCOMPAS/COMPAS/tree/master/README.md#Acknowledgements) To cite the specific pipelines used in these Jupyter Notebooks, please cite the relevant paper:\n",
    "\n",
    "- [Cosmic Integration](https://arxiv.org/abs/1906.08136)\n",
    "\n",
    "- [Selection effects](https://arxiv.org/pdf/1711.06287)\n"
   ]
  },
  {
   "cell_type": "markdown",
   "metadata": {},
   "source": [
    "## Material\n",
    "\n",
    "### [Working with HDF5 files:](WorkingWithHDF5.ipynb)\n",
    "Compiling, reading, rewriting\n",
    "\n",
    "\n",
    "### [Basic Data Analysis in Python:](DataAnalysis.ipynb)\n",
    "Slicing, binning, plotting\n",
    "\n",
    "        \n",
    "### [Implementing Cosmic Integration:](CosmicIntegration.ipynb)\n",
    "Merger rates, redshift, MSSFR"
   ]
  }
 ],
 "metadata": {
  "kernelspec": {
   "display_name": "Python 3",
   "language": "python",
   "name": "python3"
  },
  "language_info": {
   "codemirror_mode": {
    "name": "ipython",
    "version": 3
   },
   "file_extension": ".py",
   "mimetype": "text/x-python",
   "name": "python",
   "nbconvert_exporter": "python",
   "pygments_lexer": "ipython3",
   "version": "3.6.5"
  }
 },
 "nbformat": 4,
 "nbformat_minor": 2
}
