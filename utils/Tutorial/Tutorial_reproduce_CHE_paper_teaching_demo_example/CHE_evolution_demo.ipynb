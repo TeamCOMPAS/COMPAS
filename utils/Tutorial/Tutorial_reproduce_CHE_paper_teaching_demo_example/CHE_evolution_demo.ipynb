{
 "cells": [
  {
   "cell_type": "markdown",
   "id": "d69d65d0",
   "metadata": {},
   "source": [
    "<div class=\"alert alert-block alert-info\">\n",
    "\n",
    "    \n",
    "# COMPAS Special Tutorial: \"Formation channels of Gravitational Waves (GWs)\"\n",
    "\n",
    "### This is a tutorial that can be used for live teaching/demos, it should fill about ~1hr of class\n",
    "    \n",
    "In this jupyter notebook we will walk through and re-create some of the figures from https://arxiv.org/pdf/2010.00002.pdf on **Chemically Homogeneous Evolution** by Jeff Riley. A PDF of this paper can be found in the directory under the name CHE_paper.pdf. <br>\n",
    "\n",
    "\n",
    "\n",
    "Notebook by Floor Broekgaarden, Jeff Riley and Ilya Mandel, originally created for the Saas Fee PhD School <br>\n",
    "<br>\n",
    "\n",
    "The original data can be found on Zenodo https://zenodo.org/record/5595426 <br>\n",
    "For this tutorial we have downloaded COMPAS_Output.h5 from the auhtor's dataset. Note that this data is run with a slightly older version of COMPAS than the most recent COMPAS. \n",
    "    \n",
    "___\n",
    "\n",
    "\n",
    "\n"
   ]
  },
  {
   "cell_type": "markdown",
   "id": "480b8a96",
   "metadata": {},
   "source": [
    "<div class=\"alert alert-block alert-warning\">\n",
    "\n",
    "Throughout this notebook and in class we will use several acronyms and definitions listed below    \n",
    "    \n",
    "    \n",
    "    \n",
    "### Definitions: \n",
    "    \n",
    "    \n",
    " - CHE: Chemically Homogeneous Evolution, \n",
    " - GW: Gravitational Waves \n",
    " - DCO: Double Compact Object \n",
    " - BH: Black Hole\n",
    " - NS: Neutron Star\n",
    " - Primary: in this notebook always refers to the star that was most massive at the zero age main sequence (ZAMS)\n",
    " - Secondary: in this notebook always refers to the star that was least massive at the zero age main sequence (ZAMS)\n",
    " - ZAMS: Zero Age Main Sequence: this is in COMPAS where stars start their lives. \n",
    "    "
   ]
  },
  {
   "cell_type": "code",
   "execution_count": 1,
   "id": "ed54cf65",
   "metadata": {},
   "outputs": [],
   "source": [
    "# first we will import some of the packages that we will use \n",
    "import h5py as h5\n",
    "import numpy as np\n",
    "import os\n",
    "import matplotlib.pyplot as plt\n",
    "\n",
    "# we will use astropy for some useful constants and units \n",
    "from astropy import units as u\n",
    "from astropy import constants as const\n",
    "from matplotlib.ticker import (FormatStrFormatter,\n",
    "                               AutoMinorLocator)\n",
    "from IPython.display import Image # to open images in Ipython \n",
    "\n",
    "\n"
   ]
  },
  {
   "cell_type": "code",
   "execution_count": 2,
   "id": "64224ff3",
   "metadata": {},
   "outputs": [
    {
     "data": {
      "text/plain": [
       "['CommonEnvelopes', 'DoubleCompactObjects', 'Supernovae', 'SystemParameters']"
      ]
     },
     "execution_count": 2,
     "metadata": {},
     "output_type": "execute_result"
    }
   ],
   "source": [
    "\n",
    "# add path to where the COMPASOutput.h5 file is stored. \n",
    "# For you the part '~/Downloads/' is probably different\n",
    "path = '/Users/floorbroekgaarden/Downloads/COMPAS_Output.h5' # change this line! \n",
    "\n",
    "# the following line reads in the data \n",
    "fdata = h5.File(path, 'r')\n",
    "list(fdata.keys())  # print the different files within the hdf5 folder: \n",
    "\n",
    "\n",
    "\n",
    "# to close the file you will have to use fdata.close()\n"
   ]
  },
  {
   "cell_type": "markdown",
   "id": "8c1a0e92",
   "metadata": {},
   "source": [
    "<div class=\"alert alert-block alert-success\"> \n",
    "\n",
    "\n",
    "\n",
    "the files above 'DoubleCompactObjects', 'Supernovae', 'SystemParameters' store the properties of the simulated binaries at the stages of the 'commen enevelope' (in case there is one), the moment of double object formation, the moment of the supernova, and the initial conditions (at the zero-age main sequence).\n",
    "\n",
    "#### We can view what parameters are stored by again using the command .keys()\n",
    "    \n",
    "    \n",
    "</div>"
   ]
  },
  {
   "cell_type": "code",
   "execution_count": 3,
   "id": "af4c3be7",
   "metadata": {},
   "outputs": [
    {
     "name": "stdout",
     "output_type": "stream",
     "text": [
      "['Coalescence_Time', 'Eccentricity@DCO', 'MT_Case_1', 'MT_Case_2', 'Mass_1', 'Mass_2', 'Merges_Hubble_Time', 'Recycled_NS_1', 'Recycled_NS_2', 'SEED', 'Separation@DCO', 'Stellar_Type_1', 'Stellar_Type_2', 'Time']\n",
      "\n",
      "['CE_Alpha', 'CH_on_MS_1', 'CH_on_MS_2', 'Eccentricity@ZAMS', 'Equilibrated', 'Equilibrated_At_Birth', 'Error', 'Experienced_RLOF_1', 'Experienced_RLOF_2', 'Experienced_SN_Type_1', 'Experienced_SN_Type_2', 'LBV_Multiplier', 'LBV_Phase_Flag_1', 'LBV_Phase_Flag_2', 'Mass@ZAMS_1', 'Mass@ZAMS_2', 'Merger', 'Merger_At_Birth', 'Metallicity@ZAMS_1', 'Metallicity@ZAMS_2', 'Omega@ZAMS_1', 'Omega@ZAMS_2', 'SEED', 'SN_Kick_Magnitude_Random_Number_1', 'SN_Kick_Magnitude_Random_Number_2', 'SN_Kick_Mean_Anomaly_1', 'SN_Kick_Mean_Anomaly_2', 'SN_Kick_Phi_1', 'SN_Kick_Phi_2', 'SN_Kick_Theta_1', 'SN_Kick_Theta_2', 'Separation@ZAMS', 'Sigma_Kick_CCSN_BH', 'Sigma_Kick_CCSN_NS', 'Sigma_Kick_ECSN', 'Sigma_Kick_USSN', 'Stellar_Type@ZAMS_1', 'Stellar_Type@ZAMS_2', 'Stellar_Type_1', 'Stellar_Type_2', 'Time', 'Unbound', 'WR_Multiplier']\n",
      "\n",
      "['Applied_Kick_Velocity_SN', 'Drawn_Kick_Velocity_SN', 'Eccentricity', 'Eccentricity<SN', 'Experienced_RLOF_SN', 'Fallback_Fraction_SN', 'Hydrogen_Poor_SN', 'Hydrogen_Rich_SN', 'Kick_Velocity(uK)', 'Mass_CO_Core@CO_SN', 'Mass_CP', 'Mass_Core@CO_SN', 'Mass_He_Core@CO_SN', 'Mass_SN', 'Mass_Total@CO_SN', 'Orb_Velocity<SN', 'Runaway_CP', 'SEED', 'SN_Kick_Phi_SN', 'SN_Kick_Theta_SN', 'SN_Type_SN', 'Separation', 'Separation<SN', 'Stellar_Type_Prev_CP', 'Stellar_Type_Prev_SN', 'Stellar_Type_SN', 'Supernova_State', 'Systemic_Velocity', 'Time', 'True_Anomaly(psi)_SN', 'Unbound']\n"
     ]
    }
   ],
   "source": [
    "print(list(fdata['DoubleCompactObjects'].keys()))\n",
    "\n",
    "print()\n",
    "\n",
    "print(list(fdata['SystemParameters'].keys()))\n",
    "\n",
    "print()\n",
    "\n",
    "print(list(fdata['Supernovae'].keys()))"
   ]
  },
  {
   "cell_type": "markdown",
   "id": "81186863",
   "metadata": {},
   "source": [
    "<div class=\"alert alert-block alert-success\"> \n",
    "\n",
    "#### The meaning of all parameters and files are described here https://compas.readthedocs.io/en/latest/pages/User%20guide/COMPAS%20output/standard-logfiles.html\n",
    "\n",
    "\n",
    "Now that we have the data, we can do some data investigation. Here is an example of how to read the \"SEED\" parameter, which is a unique number for each binary that is run. \n",
    "    \n",
    "<div>"
   ]
  },
  {
   "cell_type": "code",
   "execution_count": 4,
   "id": "b83022e4",
   "metadata": {},
   "outputs": [
    {
     "name": "stdout",
     "output_type": "stream",
     "text": [
      "[  400047   400065   400101 ... 11599854 11599926 11599965]\n"
     ]
    }
   ],
   "source": [
    "SEED_DCO = fdata['DoubleCompactObjects'][\"SEED\"][...].squeeze()\n",
    "print(SEED_DCO)"
   ]
  },
  {
   "cell_type": "markdown",
   "id": "30966640",
   "metadata": {},
   "source": [
    "<div class=\"alert alert-block alert-warning\">\n",
    "\n",
    "## Question 1\n",
    "#### - a: check and write down the number of rows (entries) of each of the dataset groups, 'DoubleCompactObjects', 'Supernovae', 'SystemParameters'. <br>\n",
    "    \n",
    "#### - b: If the lengths of the rows are different why is this so? And does it make sense which group has the most/least rows?  <br>\n",
    "\n",
    "*Hint*: you might want to look at table 1 in the paper CHE_paper.pdf and the descriptions at https://compas.readthedocs.io/en/latest/pages/User%20guide/COMPAS%20output/standard-logfiles.html\n",
    "    \n",
    "#### - c: Why is the number of rows in 'DoubleCompactObjects' not the same as the total number of 'BBHs formed' in Table 1 from this paper?"
   ]
  },
  {
   "cell_type": "markdown",
   "id": "96e2bf75",
   "metadata": {},
   "source": [
    "<div class=\"alert alert-block alert-danger\"> \n",
    "\n",
    "# Answer 1"
   ]
  },
  {
   "cell_type": "code",
   "execution_count": null,
   "id": "29489b28",
   "metadata": {},
   "outputs": [],
   "source": []
  },
  {
   "cell_type": "code",
   "execution_count": null,
   "id": "a01f693e",
   "metadata": {},
   "outputs": [],
   "source": []
  },
  {
   "cell_type": "code",
   "execution_count": null,
   "id": "e4cc16c7",
   "metadata": {},
   "outputs": [],
   "source": []
  },
  {
   "cell_type": "code",
   "execution_count": null,
   "id": "b5ffcb1f",
   "metadata": {},
   "outputs": [],
   "source": []
  },
  {
   "cell_type": "code",
   "execution_count": null,
   "id": "97c05125",
   "metadata": {},
   "outputs": [],
   "source": []
  },
  {
   "cell_type": "markdown",
   "id": "d051687d",
   "metadata": {},
   "source": [
    "<div class=\"alert alert-block alert-warning\">\n",
    "\n",
    "    \n",
    "## Example 1: plotting BH masses \n",
    "___\n",
    "below we show an example of how to obtain and plot the compact object masses in the dataset \n",
    "\n"
   ]
  },
  {
   "cell_type": "code",
   "execution_count": 5,
   "id": "d142978f",
   "metadata": {},
   "outputs": [],
   "source": [
    "# this is just a little function that we will use to make the plot more beautiful (bigger ticks, labels)\n",
    "# However, you do not have to use this (just uncommoment \"layoutAxes\" everywhere)\n",
    "\n",
    "def layoutAxes(ax, nameX='', nameY='', \\\n",
    "               labelSizeMajor = 10, fontsize = 25, second=False, labelpad=None, setMinor=True):\n",
    "    \"\"\"\n",
    "    Tiny code to do the layout for axes in matplotlib\n",
    "    \"\"\"\n",
    "    tickLengthMajor = 10\n",
    "    tickLengthMinor = 5\n",
    "    tickWidthMajor  = 1.5\n",
    "    tickWidthMinor  = 1.5\n",
    "    \n",
    "    #rc('axes', linewidth=2)\n",
    "    #label1 always refers to first axis not the twin \n",
    "    if not second:\n",
    "        for tick in ax.xaxis.get_major_ticks():\n",
    "            tick.label1.set_fontsize(fontsize)\n",
    "            #tick.label1.set_fontweight('bold')\n",
    "        for tick in ax.yaxis.get_major_ticks():\n",
    "            tick.label1.set_fontsize(fontsize)\n",
    "            #tick.label1.set_fontweight('bold')\n",
    "    if second:\n",
    "        for tick in ax.xaxis.get_major_ticks():\n",
    "            tick.label2.set_fontsize(fontsize)\n",
    "            #tick.label1.set_fontweight('bold')\n",
    "        for tick in ax.yaxis.get_major_ticks():\n",
    "            tick.label2.set_fontsize(fontsize)\n",
    "            #tick.label1.set_fontweight('bold')\n",
    "    for axis in ['top','bottom','left','right']:\n",
    "        ax.spines[axis].set_linewidth(1.2)\n",
    "    ax.tick_params(length=tickLengthMajor, width=tickWidthMajor, which='major')\n",
    "    ax.tick_params(length=tickLengthMinor, width=tickWidthMinor, which='minor')\n",
    "    ax.set_xlabel(nameX, fontsize=fontsize,labelpad=labelpad)#,fontweight='bold')\n",
    "    ax.set_ylabel(nameY, fontsize=fontsize,labelpad=labelpad)#, fontweight='bold')    \n",
    "    \n",
    "    if setMinor==True:\n",
    "        # add minor ticks:\n",
    "        ax.xaxis.set_minor_locator(AutoMinorLocator())\n",
    "        ax.yaxis.set_minor_locator(AutoMinorLocator())\n",
    "\n",
    "    return ax\n",
    "\n"
   ]
  },
  {
   "cell_type": "code",
   "execution_count": 6,
   "id": "869c90d1",
   "metadata": {},
   "outputs": [],
   "source": [
    "fDCO      = fdata['DoubleCompactObjects']\n",
    "\n",
    "\n",
    "M1 =  fDCO['Mass_1'][...].squeeze()  # mass in Msun of the compact object resulting from the *primary star*\n",
    "M2 =  fDCO['Mass_2'][...].squeeze()  # mass in Msun of the compact object resulting from the *secondary star*\n",
    "\n"
   ]
  },
  {
   "cell_type": "code",
   "execution_count": 7,
   "id": "ff02ea16",
   "metadata": {},
   "outputs": [
    {
     "data": {
      "image/png": "[encoded data removed]",
      "text/plain": [
       "<Figure size 1000x1000 with 1 Axes>"
      ]
     },
     "metadata": {},
     "output_type": "display_data"
    }
   ],
   "source": [
    "f, ax= plt.subplots(1, 1,  figsize=(10,10)) \n",
    "\n",
    "plt.scatter(M1, M2)\n",
    "plt.xlabel('Mass of compact object from primary star [Msun]', fontsize=20)\n",
    "plt.ylabel('Mass of compact object from secondary star [Msun]', fontsize=20)\n",
    "plt.show()"
   ]
  },
  {
   "cell_type": "markdown",
   "id": "0db7f21e",
   "metadata": {},
   "source": [
    "<div class=\"alert alert-block alert-warning\">\n",
    "\n",
    "### Question 2: \n",
    "    \n",
    " - a): can you explain some of the features in the plot above? E.g., where are the gaps, where are the most datapoints?\n",
    "    \n",
    "    \n",
    " - b): Are there any BH+NS or NS+NS in the dataset? If so, plot them\n",
    "    \n",
    "    \n",
    " - c): extra: how many BH+NS, vs. NS+NS vs. BH-BH systems are there? And what is the total? \n",
    "\n",
    "*Hint*: A NS in this COMPAS simulation is defined as a compact object with mass < 2.5 Msun \n",
    "                                                                                     \n",
    "                                                                                     "
   ]
  },
  {
   "cell_type": "markdown",
   "id": "51727576",
   "metadata": {},
   "source": [
    "<div class=\"alert alert-block alert-danger\"> \n",
    "\n",
    "# Answer 2"
   ]
  },
  {
   "cell_type": "code",
   "execution_count": null,
   "id": "42a75636",
   "metadata": {},
   "outputs": [],
   "source": []
  },
  {
   "cell_type": "code",
   "execution_count": null,
   "id": "48bd18ce",
   "metadata": {},
   "outputs": [],
   "source": []
  },
  {
   "cell_type": "code",
   "execution_count": null,
   "id": "f1181d94",
   "metadata": {},
   "outputs": [],
   "source": []
  },
  {
   "cell_type": "code",
   "execution_count": null,
   "id": "6a252ea2",
   "metadata": {},
   "outputs": [],
   "source": []
  },
  {
   "cell_type": "code",
   "execution_count": null,
   "id": "dc00bc37",
   "metadata": {},
   "outputs": [],
   "source": []
  },
  {
   "cell_type": "code",
   "execution_count": null,
   "id": "d9f09ef6",
   "metadata": {},
   "outputs": [],
   "source": []
  },
  {
   "cell_type": "code",
   "execution_count": null,
   "id": "3d3421fd",
   "metadata": {},
   "outputs": [],
   "source": []
  },
  {
   "cell_type": "code",
   "execution_count": null,
   "id": "131d98f5",
   "metadata": {},
   "outputs": [],
   "source": []
  },
  {
   "cell_type": "code",
   "execution_count": null,
   "id": "ad78bc31",
   "metadata": {},
   "outputs": [],
   "source": []
  },
  {
   "cell_type": "markdown",
   "id": "c850bd60",
   "metadata": {},
   "source": [
    "<div class=\"alert alert-block alert-warning\">\n",
    "    \n",
    "### Question 3: \n",
    "    \n",
    "    \n",
    " - a): Using the parameters in the 'DoubleCompactObjects' dataset and the example above, try to make a scatter plot of Total Mass (M1+M2) versus orbital Period of the BBH systems that merge within a Hubble time (13.7 Gyr) \n",
    "    \n",
    "    Plot the period on the y-axis and the total mass on the x-axis. Plot the period in days. \n",
    "    \n",
    "*Hint: You might want to use Kerpler's III law to complete the function below *\n",
    "    \n",
    "    \n",
    "*Hint:* you will have to select BH+BH systems, and only systems that merge within a Hubble time "
   ]
  },
  {
   "cell_type": "code",
   "execution_count": 8,
   "id": "2a2e21da",
   "metadata": {},
   "outputs": [],
   "source": [
    "\n",
    "def separation_to_period_circular_case(separation=10*u.AU, M1=1*u.M_sun, M2=1*u.M_sun):\n",
    "    \"\"\"calculate Period from separation\n",
    "    separation is separation of the binary (needs to be given in astropy units)\n",
    "    M1 and M2 are masses of the binary\n",
    "    This is based on Kepler's law, using a circular orbit\n",
    "    \n",
    "    \"\"\"\n",
    "    G = const.G # [g cm s^2]\n",
    "    \n",
    "    ## use Kepler;s III law to calculate the period here \n",
    "    \n",
    "    \n",
    "    \n",
    "    ###\n",
    "    \n",
    "    return period\n"
   ]
  },
  {
   "cell_type": "markdown",
   "id": "30ad2751",
   "metadata": {},
   "source": [
    "<div class=\"alert alert-block alert-danger\"> \n",
    "\n",
    "# Answer 3"
   ]
  },
  {
   "cell_type": "code",
   "execution_count": null,
   "id": "6f3c8674",
   "metadata": {},
   "outputs": [],
   "source": []
  },
  {
   "cell_type": "code",
   "execution_count": null,
   "id": "ecec29a5",
   "metadata": {},
   "outputs": [],
   "source": []
  },
  {
   "cell_type": "code",
   "execution_count": null,
   "id": "62cc5edc",
   "metadata": {},
   "outputs": [],
   "source": []
  },
  {
   "cell_type": "code",
   "execution_count": null,
   "id": "0b23ac61",
   "metadata": {},
   "outputs": [],
   "source": []
  },
  {
   "cell_type": "markdown",
   "id": "201763f3",
   "metadata": {},
   "source": [
    "<div class=\"alert alert-block alert-warning\">\n",
    "    \n",
    "## Question 4: \n",
    "    \n",
    "    \n",
    " - a): Why does the plot that you created look different compared to the figure 6 in https://arxiv.org/pdf/2010.00002.pdf? (you may ignore the metallicity axes) \n",
    "    \n",
    "    \n",
    "    \n",
    " - b): There is a tail of systems at rather large orbital periods that are merging. How is this possible? \n",
    "\n",
    "*Hint 4b: plot the eccentricity as a color gradient on the marker using the \"c=\" option of plt.scatter. \n",
    "How is eccentricity imparted to these systems?* "
   ]
  },
  {
   "cell_type": "markdown",
   "id": "c3322c83",
   "metadata": {},
   "source": [
    "<div class=\"alert alert-block alert-danger\"> \n",
    "\n",
    "# Answer 4"
   ]
  },
  {
   "cell_type": "code",
   "execution_count": null,
   "id": "3fba311f",
   "metadata": {},
   "outputs": [],
   "source": []
  },
  {
   "cell_type": "markdown",
   "id": "0e08bfed",
   "metadata": {},
   "source": [
    "<div class=\"alert alert-block alert-success\"> \n",
    "    \n",
    "## Selecting CHE binaries: \n",
    "    \n",
    "    \n",
    " For binaries, Stellar_Type@ZAMS(1) and Stellar_Type@ZAMS(2) will tell you the initial stellar type of each star - type 16 is CH.\n",
    "CH_on_MS(1) and CH_on_MS(2) are each true if the star remained as CH for the entire MS - they will be false if the star spun down and stopped being CH on the MS.  So any star that was initially CH, and stayed CH on the entire MS is considered to be CHE. We can check which of our binary black holes is a \"CHE\" by using this information stored in the 'systemParameters' file, and matching it with the double compact object files using the randomSeed.\n",
    "\n",
    "Note that we also have to remove binaries that merged on the ZAMS as stars, since we are not interested in these\n",
    "    "
   ]
  },
  {
   "cell_type": "code",
   "execution_count": 9,
   "id": "714118e5",
   "metadata": {},
   "outputs": [],
   "source": [
    "fsys      = fdata['SystemParameters']\n",
    "\n",
    "CH_on_MS_1 =  fsys['CH_on_MS_1'][...].squeeze()  # mass in Msun of the compact object resulting from the primary\n",
    "CH_on_MS_2 =  fsys['CH_on_MS_2'][...].squeeze()  # mass in Msun of the compact object resulting from the secondary\n",
    "Stellar_TypeZAMS_1  =  fsys['Stellar_Type@ZAMS_1'][...].squeeze()  # mass in Msun of the compact object resulting from the primary\n",
    "Stellar_TypeZAMS_2  =  fsys['Stellar_Type@ZAMS_2'][...].squeeze()  # mass in Msun of the compact object resulting from the secondary\n",
    "\n",
    "# binaries that merge at birth as stars\n",
    "Merger_At_Birth = fsys['Merger_At_Birth'][...].squeeze()\n",
    "\n",
    "# SEED of the system Parameters (unique number corresponding to each binary)\n",
    "SEED = fsys['SEED'][...].squeeze()  # mass in Msun of the compact object resulting from the secondary\n",
    "\n",
    "\n",
    "\n"
   ]
  },
  {
   "cell_type": "code",
   "execution_count": 10,
   "id": "99057a0b",
   "metadata": {},
   "outputs": [
    {
     "name": "stdout",
     "output_type": "stream",
     "text": [
      "13644 are CHE out of  12000000 systems run\n",
      "[  400378   400412   402049 ... 11589507 11589863 11594670]\n"
     ]
    }
   ],
   "source": [
    "\n",
    "# the CHE systems are then selected by systems that are CHE on ZAMS (stellar type 16) AND remain CHE on the MS (main sequence)\n",
    "# in addition we do not want systems that Merged at Birth \n",
    "mask_CHE =  (CH_on_MS_1==1) & (CH_on_MS_2==1) & (Stellar_TypeZAMS_1==16) &  (Stellar_TypeZAMS_2==16) & (Merger_At_Birth==0)\n",
    "\n",
    "print(np.sum(mask_CHE), 'are CHE out of ', len(mask_CHE), 'systems run')\n",
    "\n",
    "\n",
    "# let's find the seed of the CHE systems: \n",
    "SEED_CHE = SEED[mask_CHE]\n",
    "print(SEED_CHE)\n",
    "\n",
    "\n"
   ]
  },
  {
   "cell_type": "markdown",
   "id": "3c8919d0",
   "metadata": {},
   "source": [
    "<div class=\"alert alert-block alert-success\"> \n",
    "    \n",
    "We find 13644 total CHE binaries in our simulation, note that this is the same as the number quoted in the CHE paper under \"Both stars remained on the CH\" and \"Total\" in Table 1\n",
    "    \n"
   ]
  },
  {
   "cell_type": "markdown",
   "id": "f2115984",
   "metadata": {},
   "source": [
    "<div class=\"alert alert-block alert-warning\">\n",
    "    \n",
    "## Question 5: \n",
    "    \n",
    " - a): Using the code above, recreate figure 6 in https://arxiv.org/pdf/2010.00002.pdf? (you may ignore the metallicity axes) \n",
    "    \n",
    " - b): Explain what you see    \n",
    " \n",
    "#### Hint: A useful line of code is: np.in1d(), below is an example of how it works"
   ]
  },
  {
   "cell_type": "code",
   "execution_count": 11,
   "id": "6ba613a0",
   "metadata": {},
   "outputs": [
    {
     "name": "stdout",
     "output_type": "stream",
     "text": [
      "[ True False  True]\n"
     ]
    }
   ],
   "source": [
    "# example of np.in1d() function\n",
    "\n",
    "A = [1,2,3]\n",
    "B = [1,3,5,7,9]\n",
    "\n",
    "print(np.in1d(A, B))"
   ]
  },
  {
   "cell_type": "markdown",
   "id": "4405bc29",
   "metadata": {},
   "source": [
    "<div class=\"alert alert-block alert-danger\"> \n",
    "\n",
    "# Answer 5"
   ]
  },
  {
   "cell_type": "code",
   "execution_count": null,
   "id": "2724ab2d",
   "metadata": {},
   "outputs": [],
   "source": []
  },
  {
   "cell_type": "code",
   "execution_count": null,
   "id": "27f0c3e5",
   "metadata": {},
   "outputs": [],
   "source": []
  },
  {
   "cell_type": "code",
   "execution_count": null,
   "id": "2b5cb307",
   "metadata": {},
   "outputs": [],
   "source": []
  },
  {
   "cell_type": "code",
   "execution_count": null,
   "id": "0bb15a45",
   "metadata": {},
   "outputs": [],
   "source": []
  },
  {
   "cell_type": "markdown",
   "id": "a25df87b",
   "metadata": {},
   "source": [
    "<div class=\"alert alert-block alert-warning\">\n",
    "    \n",
    "## Question 6: \n",
    "    \n",
    " - a): Try to recreeat the figure 4 in https://arxiv.org/pdf/2010.00002.pdf? \n",
    "    \n",
    "    \n",
    " - b): Explain what you see "
   ]
  },
  {
   "cell_type": "markdown",
   "id": "0175ec47",
   "metadata": {},
   "source": [
    "<div class=\"alert alert-block alert-danger\"> \n",
    "\n",
    "# Answer 6"
   ]
  },
  {
   "cell_type": "code",
   "execution_count": null,
   "id": "a7c16f01",
   "metadata": {},
   "outputs": [],
   "source": []
  },
  {
   "cell_type": "code",
   "execution_count": null,
   "id": "f745cda9",
   "metadata": {},
   "outputs": [],
   "source": []
  },
  {
   "cell_type": "code",
   "execution_count": null,
   "id": "7cca1041",
   "metadata": {},
   "outputs": [],
   "source": []
  },
  {
   "cell_type": "markdown",
   "id": "544dc9c9",
   "metadata": {},
   "source": [
    "<div class=\"alert alert-block alert-warning\">\n",
    "\n",
    "    \n",
    "For the last part of this excersize we will use the code 'FastCosmicIntegrator'. Our goal will be to calculate the merger rate for BBHs, so that we can compare to the analytical estimate we made earlier on.    \n",
    "\n",
    "## Question 7: \n",
    "    \n",
    "    \n",
    "Using the code below, plot the merger rate of CHE BBHs as a function of redshift. You should at the end of running this code create a plot with four panels that show the properties of the CHE binaries \n",
    "    \n",
    " - a) what do the panels show? What are the differences between the panels?   \n",
    " - b): please write down the local (z=0) BBH merger rate, and compare this with your analytically calculated rate \n",
    " - c): compare both rates with the other BBH rates as reported in Mandel & Broekgaarden et al. (2021) (Fig 3)\n",
    "\n",
    "    \n",
    " - d): Repeat the excersize above, and answer 7a & 7b above, but now for all BBHs (including non CHE). You can do this by changing dco_type to 'BBH'. What are the differences\n",
    "\n",
    "    \n",
    "    \n",
    " *Hint* we can do an approximate calculation by combining the Wolf Rayet factors. If you want to do the more expert version you can modify the code in ClassCOMPAS (setCOMPASDCOmask) and add the mask of a specific f_WR factor"
   ]
  },
  {
   "cell_type": "code",
   "execution_count": 12,
   "id": "681a2767",
   "metadata": {},
   "outputs": [
    {
     "name": "stdout",
     "output_type": "stream",
     "text": [
      "Traceback (most recent call last):\r\n",
      "  File \"/Users/floorbroekgaarden/Projects/GitHub/COMPAS/utils/Tutorial/Tutorial_reproduce_CHE_paper_teaching_demo_example/FastCosmicIntegration.py\", line 7, in <module>\r\n",
      "    import scipy\r\n",
      "ModuleNotFoundError: No module named 'scipy'\r\n"
     ]
    }
   ],
   "source": [
    "!python3 FastCosmicIntegration.py \\\n",
    "--dco_type 'CHE_BBH' \\\n",
    "--path '../../data/COMPAS_Output_reduced.h5' \\\n",
    "--maxz 15 \\\n",
    "--dontAppend"
   ]
  },
  {
   "cell_type": "code",
   "execution_count": 13,
   "id": "285095f6",
   "metadata": {},
   "outputs": [
    {
     "name": "stdout",
     "output_type": "stream",
     "text": [
      "CHE_evolution_demo.ipynb                FastCosmicIntegration.py\r\n",
      "CHE_evolution_demo_ANSWERS.ipynb        SNR_Grid_IMRPhenomPv2_FD_all_noise.hdf5\r\n",
      "COMPAS_Documentation.pdf                selection_effects.py\r\n",
      "ClassCOMPAS.py                          totalMassEvolvedPerZ.py\r\n"
     ]
    }
   ],
   "source": [
    "!ls "
   ]
  },
  {
   "cell_type": "code",
   "execution_count": 15,
   "id": "0b87ce45",
   "metadata": {},
   "outputs": [],
   "source": [
    "# show the image in the notebook:\n",
    "Image(filename='./Rate_Infomu00.035_muz-0.23_alpha0.0_sigma00.39_sigmaz0.0.png') \n",
    "\n"
   ]
  },
  {
   "cell_type": "markdown",
   "id": "ee442a0e",
   "metadata": {},
   "source": [
    "<div class=\"alert alert-block alert-danger\"> \n",
    "\n",
    "# Answer 7\n",
    "    \n",
    "    \n",
    "    \n",
    "    \n",
    "    "
   ]
  },
  {
   "cell_type": "code",
   "execution_count": null,
   "id": "a3597ac3",
   "metadata": {},
   "outputs": [],
   "source": []
  },
  {
   "cell_type": "code",
   "execution_count": null,
   "id": "d85530d5",
   "metadata": {},
   "outputs": [],
   "source": []
  },
  {
   "cell_type": "code",
   "execution_count": null,
   "id": "d1b8225c",
   "metadata": {},
   "outputs": [],
   "source": []
  },
  {
   "cell_type": "markdown",
   "id": "6c657d0a",
   "metadata": {},
   "source": [
    "<div class=\"alert alert-block alert-warning\">\n",
    "\n",
    "## Extra Question 8: \n",
    "    \n",
    "    \n",
    "Play around with some of the parameters in the code FastCosmicIntegrater, do the rates go up or down? Is this expected?"
   ]
  },
  {
   "cell_type": "markdown",
   "id": "00e3011c",
   "metadata": {},
   "source": [
    "<div class=\"alert alert-block alert-danger\"> \n",
    "\n",
    "# Answer 8\n",
    "    \n",
    "    \n",
    "\n",
    " "
   ]
  },
  {
   "cell_type": "code",
   "execution_count": null,
   "id": "1c64aa01",
   "metadata": {},
   "outputs": [],
   "source": []
  },
  {
   "cell_type": "code",
   "execution_count": null,
   "id": "66ebbb5a",
   "metadata": {},
   "outputs": [],
   "source": []
  },
  {
   "cell_type": "code",
   "execution_count": null,
   "id": "921b84b0",
   "metadata": {},
   "outputs": [],
   "source": []
  },
  {
   "cell_type": "markdown",
   "id": "93c376a5",
   "metadata": {},
   "source": [
    "<div class=\"alert alert-block alert-warning\">\n",
    "\n",
    "    \n",
    "   \n",
    "\n",
    "## EXTRA using the CHE data: \n",
    "    \n",
    "If there is time left, try to plot some other BBH or ZAMS properties of the BBH, (or NSBH or BNS), examples include chirp mass, mass ratio, individual masses. How do these compare with LIGOs observations (paper is attached to this directory)\n",
    "\n",
    "    \n",
    "    \n",
    "    \n"
   ]
  },
  {
   "cell_type": "code",
   "execution_count": null,
   "id": "3a647b78",
   "metadata": {},
   "outputs": [],
   "source": []
  },
  {
   "cell_type": "code",
   "execution_count": null,
   "id": "c370cf85",
   "metadata": {},
   "outputs": [],
   "source": []
  },
  {
   "cell_type": "code",
   "execution_count": null,
   "id": "d4a02ec4",
   "metadata": {},
   "outputs": [],
   "source": []
  },
  {
   "cell_type": "code",
   "execution_count": null,
   "id": "017418fc",
   "metadata": {},
   "outputs": [],
   "source": []
  },
  {
   "cell_type": "markdown",
   "id": "3e78c305",
   "metadata": {},
   "source": [
    " <div class=\"alert alert-block alert-info\">\n",
    " \n",
    " # Extra material:"
   ]
  },
  {
   "cell_type": "markdown",
   "id": "0b84006f",
   "metadata": {},
   "source": [
    "[//]: ## (grip -b README.md)\n",
    "\n",
    "\n",
    "\n",
    "# Compact Object Mergers: Population Astrophysics & Statistics\n",
    "\n",
    "[![Documentation](https://img.shields.io/badge/Documentation-latest-orange.svg?style=flat)](https://github.com/TeamCOMPAS/COMPAS/blob/Documentation/COMPAS_Documentation.pdf)\n",
    "\n",
    "[//]: ## (Outline features)\n",
    "COMPAS is a publicly available rapid binary population synthesis code (https://compas.science/) that is designed so that evolution prescriptions and model parameters are easily \n",
    "adjustable.  COMPAS draws properties for a binary star system from a set of initial distributions, and evolves it from zero-age main sequence to the end of its life as two compact \n",
    "remnants.  It has been used for inference from observations of gravitational-wave mergers, Galactic neutron stars, X-ray binaries, and luminous red novae.\n",
    "\n",
    "## Documentation\n",
    "https://compas.science/docs\n",
    "\n",
    "## Contact\n",
    "Please email your queries to compas-user@googlegroups.com. You are also welcome to join the [COMPAS User Google Group](https://groups.google.com/forum/#!members/compas-user) to engage in discussions with COMPAS users and developers.\n",
    "\n",
    "\n",
    "\n",
    "\n",
    "\n",
    "\n",
    "## Example of additional excersizes\n",
    "\n",
    "If you are interested, you can download the COMPAS code from Github and do any of the following excersizes: \n",
    "\n",
    "\n",
    "1). Try to run any of the demos that are provided (I recommend the Chirp mass distribution demo, and/or the detailed evolution demo)\n",
    "\n",
    "2.) Try to use the code, and the data above, to plot a detailed evolution plot of a CHE BBH. \n",
    "\n",
    "3.) Run a larger COMPAS simulation with your own favorite settings, compare this to the data given in this demo. \n",
    "\n",
    "\n",
    "\n",
    "\n",
    "\n",
    "\n",
    "\n"
   ]
  },
  {
   "cell_type": "code",
   "execution_count": null,
   "id": "f54328e3",
   "metadata": {},
   "outputs": [],
   "source": []
  }
 ],
 "metadata": {
  "kernelspec": {
   "display_name": "Python 3",
   "language": "python",
   "name": "python3"
  },
  "language_info": {
   "codemirror_mode": {
    "name": "ipython",
    "version": 3
   },
   "file_extension": ".py",
   "mimetype": "text/x-python",
   "name": "python",
   "nbconvert_exporter": "python",
   "pygments_lexer": "ipython3",
   "version": "3.11.1"
  }
 },
 "nbformat": 4,
 "nbformat_minor": 5
}
